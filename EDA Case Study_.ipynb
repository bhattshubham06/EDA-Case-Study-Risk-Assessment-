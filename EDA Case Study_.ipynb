{
 "cells": [
  {
   "cell_type": "markdown",
   "id": "383167ca",
   "metadata": {},
   "source": [
    "___\n",
    "## Objective\n",
    "\n",
    "This case study aims to identify patterns which indicate if a client has difficulty paying their installments which may be used for taking actions such as denying the loan, reducing the amount of loan, lending (to risky applicants) at a higher interest rate, etc. This will ensure that the consumers capable of repaying the loan are not rejected. Identification of such applicants using EDA is the aim of this case study.\n",
    "\n",
    " \n",
    "\n",
    "In other words, the company wants to understand the driving factors (or driver variables) behind loan default, i.e. the variables which are strong indicators of default.  The company can utilise this knowledge for its portfolio and risk assessment.\n",
    "\n",
    "___"
   ]
  },
  {
   "cell_type": "markdown",
   "id": "2abfd9b2",
   "metadata": {},
   "source": [
    "#### Importing Libraries"
   ]
  },
  {
   "cell_type": "code",
   "execution_count": 1,
   "id": "917025be",
   "metadata": {},
   "outputs": [],
   "source": [
    "import pandas as pd\n",
    "import numpy as np\n",
    "import matplotlib.pyplot as plt\n",
    "%matplotlib inline\n",
    "import seaborn as sns\n",
    "\n",
    "import warnings\n",
    "warnings.filterwarnings('ignore')"
   ]
  },
  {
   "cell_type": "markdown",
   "id": "793404b5",
   "metadata": {},
   "source": [
    "#### Loading Dataset"
   ]
  },
  {
   "cell_type": "code",
   "execution_count": 2,
   "id": "d14fef53",
   "metadata": {},
   "outputs": [],
   "source": [
    "app_data = pd.read_csv(\"application_data.csv\")"
   ]
  },
  {
   "cell_type": "code",
   "execution_count": 3,
   "id": "52056095",
   "metadata": {},
   "outputs": [],
   "source": [
    "prev_app = pd.read_csv(\"previous_application.csv\")"
   ]
  },
  {
   "cell_type": "markdown",
   "id": "a33cc068",
   "metadata": {},
   "source": [
    "#### viewing app_data"
   ]
  },
  {
   "cell_type": "code",
   "execution_count": 4,
   "id": "c165dbbc",
   "metadata": {},
   "outputs": [
    {
     "data": {
      "text/html": [
       "<div>\n",
       "<style scoped>\n",
       "    .dataframe tbody tr th:only-of-type {\n",
       "        vertical-align: middle;\n",
       "    }\n",
       "\n",
       "    .dataframe tbody tr th {\n",
       "        vertical-align: top;\n",
       "    }\n",
       "\n",
       "    .dataframe thead th {\n",
       "        text-align: right;\n",
       "    }\n",
       "</style>\n",
       "<table border=\"1\" class=\"dataframe\">\n",
       "  <thead>\n",
       "    <tr style=\"text-align: right;\">\n",
       "      <th></th>\n",
       "      <th>SK_ID_CURR</th>\n",
       "      <th>TARGET</th>\n",
       "      <th>NAME_CONTRACT_TYPE</th>\n",
       "      <th>CODE_GENDER</th>\n",
       "      <th>FLAG_OWN_CAR</th>\n",
       "      <th>FLAG_OWN_REALTY</th>\n",
       "      <th>CNT_CHILDREN</th>\n",
       "      <th>AMT_INCOME_TOTAL</th>\n",
       "      <th>AMT_CREDIT</th>\n",
       "      <th>AMT_ANNUITY</th>\n",
       "      <th>...</th>\n",
       "      <th>FLAG_DOCUMENT_18</th>\n",
       "      <th>FLAG_DOCUMENT_19</th>\n",
       "      <th>FLAG_DOCUMENT_20</th>\n",
       "      <th>FLAG_DOCUMENT_21</th>\n",
       "      <th>AMT_REQ_CREDIT_BUREAU_HOUR</th>\n",
       "      <th>AMT_REQ_CREDIT_BUREAU_DAY</th>\n",
       "      <th>AMT_REQ_CREDIT_BUREAU_WEEK</th>\n",
       "      <th>AMT_REQ_CREDIT_BUREAU_MON</th>\n",
       "      <th>AMT_REQ_CREDIT_BUREAU_QRT</th>\n",
       "      <th>AMT_REQ_CREDIT_BUREAU_YEAR</th>\n",
       "    </tr>\n",
       "  </thead>\n",
       "  <tbody>\n",
       "    <tr>\n",
       "      <th>0</th>\n",
       "      <td>100002</td>\n",
       "      <td>1</td>\n",
       "      <td>Cash loans</td>\n",
       "      <td>M</td>\n",
       "      <td>N</td>\n",
       "      <td>Y</td>\n",
       "      <td>0</td>\n",
       "      <td>202500.0</td>\n",
       "      <td>406597.5</td>\n",
       "      <td>24700.5</td>\n",
       "      <td>...</td>\n",
       "      <td>0</td>\n",
       "      <td>0</td>\n",
       "      <td>0</td>\n",
       "      <td>0</td>\n",
       "      <td>0.0</td>\n",
       "      <td>0.0</td>\n",
       "      <td>0.0</td>\n",
       "      <td>0.0</td>\n",
       "      <td>0.0</td>\n",
       "      <td>1.0</td>\n",
       "    </tr>\n",
       "    <tr>\n",
       "      <th>1</th>\n",
       "      <td>100003</td>\n",
       "      <td>0</td>\n",
       "      <td>Cash loans</td>\n",
       "      <td>F</td>\n",
       "      <td>N</td>\n",
       "      <td>N</td>\n",
       "      <td>0</td>\n",
       "      <td>270000.0</td>\n",
       "      <td>1293502.5</td>\n",
       "      <td>35698.5</td>\n",
       "      <td>...</td>\n",
       "      <td>0</td>\n",
       "      <td>0</td>\n",
       "      <td>0</td>\n",
       "      <td>0</td>\n",
       "      <td>0.0</td>\n",
       "      <td>0.0</td>\n",
       "      <td>0.0</td>\n",
       "      <td>0.0</td>\n",
       "      <td>0.0</td>\n",
       "      <td>0.0</td>\n",
       "    </tr>\n",
       "    <tr>\n",
       "      <th>2</th>\n",
       "      <td>100004</td>\n",
       "      <td>0</td>\n",
       "      <td>Revolving loans</td>\n",
       "      <td>M</td>\n",
       "      <td>Y</td>\n",
       "      <td>Y</td>\n",
       "      <td>0</td>\n",
       "      <td>67500.0</td>\n",
       "      <td>135000.0</td>\n",
       "      <td>6750.0</td>\n",
       "      <td>...</td>\n",
       "      <td>0</td>\n",
       "      <td>0</td>\n",
       "      <td>0</td>\n",
       "      <td>0</td>\n",
       "      <td>0.0</td>\n",
       "      <td>0.0</td>\n",
       "      <td>0.0</td>\n",
       "      <td>0.0</td>\n",
       "      <td>0.0</td>\n",
       "      <td>0.0</td>\n",
       "    </tr>\n",
       "    <tr>\n",
       "      <th>3</th>\n",
       "      <td>100006</td>\n",
       "      <td>0</td>\n",
       "      <td>Cash loans</td>\n",
       "      <td>F</td>\n",
       "      <td>N</td>\n",
       "      <td>Y</td>\n",
       "      <td>0</td>\n",
       "      <td>135000.0</td>\n",
       "      <td>312682.5</td>\n",
       "      <td>29686.5</td>\n",
       "      <td>...</td>\n",
       "      <td>0</td>\n",
       "      <td>0</td>\n",
       "      <td>0</td>\n",
       "      <td>0</td>\n",
       "      <td>NaN</td>\n",
       "      <td>NaN</td>\n",
       "      <td>NaN</td>\n",
       "      <td>NaN</td>\n",
       "      <td>NaN</td>\n",
       "      <td>NaN</td>\n",
       "    </tr>\n",
       "    <tr>\n",
       "      <th>4</th>\n",
       "      <td>100007</td>\n",
       "      <td>0</td>\n",
       "      <td>Cash loans</td>\n",
       "      <td>M</td>\n",
       "      <td>N</td>\n",
       "      <td>Y</td>\n",
       "      <td>0</td>\n",
       "      <td>121500.0</td>\n",
       "      <td>513000.0</td>\n",
       "      <td>21865.5</td>\n",
       "      <td>...</td>\n",
       "      <td>0</td>\n",
       "      <td>0</td>\n",
       "      <td>0</td>\n",
       "      <td>0</td>\n",
       "      <td>0.0</td>\n",
       "      <td>0.0</td>\n",
       "      <td>0.0</td>\n",
       "      <td>0.0</td>\n",
       "      <td>0.0</td>\n",
       "      <td>0.0</td>\n",
       "    </tr>\n",
       "  </tbody>\n",
       "</table>\n",
       "<p>5 rows × 122 columns</p>\n",
       "</div>"
      ],
      "text/plain": [
       "   SK_ID_CURR  TARGET NAME_CONTRACT_TYPE CODE_GENDER FLAG_OWN_CAR  \\\n",
       "0      100002       1         Cash loans           M            N   \n",
       "1      100003       0         Cash loans           F            N   \n",
       "2      100004       0    Revolving loans           M            Y   \n",
       "3      100006       0         Cash loans           F            N   \n",
       "4      100007       0         Cash loans           M            N   \n",
       "\n",
       "  FLAG_OWN_REALTY  CNT_CHILDREN  AMT_INCOME_TOTAL  AMT_CREDIT  AMT_ANNUITY  \\\n",
       "0               Y             0          202500.0    406597.5      24700.5   \n",
       "1               N             0          270000.0   1293502.5      35698.5   \n",
       "2               Y             0           67500.0    135000.0       6750.0   \n",
       "3               Y             0          135000.0    312682.5      29686.5   \n",
       "4               Y             0          121500.0    513000.0      21865.5   \n",
       "\n",
       "   ...  FLAG_DOCUMENT_18 FLAG_DOCUMENT_19 FLAG_DOCUMENT_20 FLAG_DOCUMENT_21  \\\n",
       "0  ...                 0                0                0                0   \n",
       "1  ...                 0                0                0                0   \n",
       "2  ...                 0                0                0                0   \n",
       "3  ...                 0                0                0                0   \n",
       "4  ...                 0                0                0                0   \n",
       "\n",
       "  AMT_REQ_CREDIT_BUREAU_HOUR AMT_REQ_CREDIT_BUREAU_DAY  \\\n",
       "0                        0.0                       0.0   \n",
       "1                        0.0                       0.0   \n",
       "2                        0.0                       0.0   \n",
       "3                        NaN                       NaN   \n",
       "4                        0.0                       0.0   \n",
       "\n",
       "   AMT_REQ_CREDIT_BUREAU_WEEK  AMT_REQ_CREDIT_BUREAU_MON  \\\n",
       "0                         0.0                        0.0   \n",
       "1                         0.0                        0.0   \n",
       "2                         0.0                        0.0   \n",
       "3                         NaN                        NaN   \n",
       "4                         0.0                        0.0   \n",
       "\n",
       "   AMT_REQ_CREDIT_BUREAU_QRT  AMT_REQ_CREDIT_BUREAU_YEAR  \n",
       "0                        0.0                         1.0  \n",
       "1                        0.0                         0.0  \n",
       "2                        0.0                         0.0  \n",
       "3                        NaN                         NaN  \n",
       "4                        0.0                         0.0  \n",
       "\n",
       "[5 rows x 122 columns]"
      ]
     },
     "execution_count": 4,
     "metadata": {},
     "output_type": "execute_result"
    }
   ],
   "source": [
    "app_data.head()"
   ]
  },
  {
   "cell_type": "markdown",
   "id": "69eec1a2",
   "metadata": {},
   "source": [
    "#### viewing prev_app"
   ]
  },
  {
   "cell_type": "code",
   "execution_count": 5,
   "id": "b435d590",
   "metadata": {},
   "outputs": [
    {
     "data": {
      "text/html": [
       "<div>\n",
       "<style scoped>\n",
       "    .dataframe tbody tr th:only-of-type {\n",
       "        vertical-align: middle;\n",
       "    }\n",
       "\n",
       "    .dataframe tbody tr th {\n",
       "        vertical-align: top;\n",
       "    }\n",
       "\n",
       "    .dataframe thead th {\n",
       "        text-align: right;\n",
       "    }\n",
       "</style>\n",
       "<table border=\"1\" class=\"dataframe\">\n",
       "  <thead>\n",
       "    <tr style=\"text-align: right;\">\n",
       "      <th></th>\n",
       "      <th>SK_ID_PREV</th>\n",
       "      <th>SK_ID_CURR</th>\n",
       "      <th>NAME_CONTRACT_TYPE</th>\n",
       "      <th>AMT_ANNUITY</th>\n",
       "      <th>AMT_APPLICATION</th>\n",
       "      <th>AMT_CREDIT</th>\n",
       "      <th>AMT_DOWN_PAYMENT</th>\n",
       "      <th>AMT_GOODS_PRICE</th>\n",
       "      <th>WEEKDAY_APPR_PROCESS_START</th>\n",
       "      <th>HOUR_APPR_PROCESS_START</th>\n",
       "      <th>...</th>\n",
       "      <th>NAME_SELLER_INDUSTRY</th>\n",
       "      <th>CNT_PAYMENT</th>\n",
       "      <th>NAME_YIELD_GROUP</th>\n",
       "      <th>PRODUCT_COMBINATION</th>\n",
       "      <th>DAYS_FIRST_DRAWING</th>\n",
       "      <th>DAYS_FIRST_DUE</th>\n",
       "      <th>DAYS_LAST_DUE_1ST_VERSION</th>\n",
       "      <th>DAYS_LAST_DUE</th>\n",
       "      <th>DAYS_TERMINATION</th>\n",
       "      <th>NFLAG_INSURED_ON_APPROVAL</th>\n",
       "    </tr>\n",
       "  </thead>\n",
       "  <tbody>\n",
       "    <tr>\n",
       "      <th>0</th>\n",
       "      <td>2030495</td>\n",
       "      <td>271877</td>\n",
       "      <td>Consumer loans</td>\n",
       "      <td>1730.430</td>\n",
       "      <td>17145.0</td>\n",
       "      <td>17145.0</td>\n",
       "      <td>0.0</td>\n",
       "      <td>17145.0</td>\n",
       "      <td>SATURDAY</td>\n",
       "      <td>15</td>\n",
       "      <td>...</td>\n",
       "      <td>Connectivity</td>\n",
       "      <td>12.0</td>\n",
       "      <td>middle</td>\n",
       "      <td>POS mobile with interest</td>\n",
       "      <td>365243.0</td>\n",
       "      <td>-42.0</td>\n",
       "      <td>300.0</td>\n",
       "      <td>-42.0</td>\n",
       "      <td>-37.0</td>\n",
       "      <td>0.0</td>\n",
       "    </tr>\n",
       "    <tr>\n",
       "      <th>1</th>\n",
       "      <td>2802425</td>\n",
       "      <td>108129</td>\n",
       "      <td>Cash loans</td>\n",
       "      <td>25188.615</td>\n",
       "      <td>607500.0</td>\n",
       "      <td>679671.0</td>\n",
       "      <td>NaN</td>\n",
       "      <td>607500.0</td>\n",
       "      <td>THURSDAY</td>\n",
       "      <td>11</td>\n",
       "      <td>...</td>\n",
       "      <td>XNA</td>\n",
       "      <td>36.0</td>\n",
       "      <td>low_action</td>\n",
       "      <td>Cash X-Sell: low</td>\n",
       "      <td>365243.0</td>\n",
       "      <td>-134.0</td>\n",
       "      <td>916.0</td>\n",
       "      <td>365243.0</td>\n",
       "      <td>365243.0</td>\n",
       "      <td>1.0</td>\n",
       "    </tr>\n",
       "    <tr>\n",
       "      <th>2</th>\n",
       "      <td>2523466</td>\n",
       "      <td>122040</td>\n",
       "      <td>Cash loans</td>\n",
       "      <td>15060.735</td>\n",
       "      <td>112500.0</td>\n",
       "      <td>136444.5</td>\n",
       "      <td>NaN</td>\n",
       "      <td>112500.0</td>\n",
       "      <td>TUESDAY</td>\n",
       "      <td>11</td>\n",
       "      <td>...</td>\n",
       "      <td>XNA</td>\n",
       "      <td>12.0</td>\n",
       "      <td>high</td>\n",
       "      <td>Cash X-Sell: high</td>\n",
       "      <td>365243.0</td>\n",
       "      <td>-271.0</td>\n",
       "      <td>59.0</td>\n",
       "      <td>365243.0</td>\n",
       "      <td>365243.0</td>\n",
       "      <td>1.0</td>\n",
       "    </tr>\n",
       "    <tr>\n",
       "      <th>3</th>\n",
       "      <td>2819243</td>\n",
       "      <td>176158</td>\n",
       "      <td>Cash loans</td>\n",
       "      <td>47041.335</td>\n",
       "      <td>450000.0</td>\n",
       "      <td>470790.0</td>\n",
       "      <td>NaN</td>\n",
       "      <td>450000.0</td>\n",
       "      <td>MONDAY</td>\n",
       "      <td>7</td>\n",
       "      <td>...</td>\n",
       "      <td>XNA</td>\n",
       "      <td>12.0</td>\n",
       "      <td>middle</td>\n",
       "      <td>Cash X-Sell: middle</td>\n",
       "      <td>365243.0</td>\n",
       "      <td>-482.0</td>\n",
       "      <td>-152.0</td>\n",
       "      <td>-182.0</td>\n",
       "      <td>-177.0</td>\n",
       "      <td>1.0</td>\n",
       "    </tr>\n",
       "    <tr>\n",
       "      <th>4</th>\n",
       "      <td>1784265</td>\n",
       "      <td>202054</td>\n",
       "      <td>Cash loans</td>\n",
       "      <td>31924.395</td>\n",
       "      <td>337500.0</td>\n",
       "      <td>404055.0</td>\n",
       "      <td>NaN</td>\n",
       "      <td>337500.0</td>\n",
       "      <td>THURSDAY</td>\n",
       "      <td>9</td>\n",
       "      <td>...</td>\n",
       "      <td>XNA</td>\n",
       "      <td>24.0</td>\n",
       "      <td>high</td>\n",
       "      <td>Cash Street: high</td>\n",
       "      <td>NaN</td>\n",
       "      <td>NaN</td>\n",
       "      <td>NaN</td>\n",
       "      <td>NaN</td>\n",
       "      <td>NaN</td>\n",
       "      <td>NaN</td>\n",
       "    </tr>\n",
       "  </tbody>\n",
       "</table>\n",
       "<p>5 rows × 37 columns</p>\n",
       "</div>"
      ],
      "text/plain": [
       "   SK_ID_PREV  SK_ID_CURR NAME_CONTRACT_TYPE  AMT_ANNUITY  AMT_APPLICATION  \\\n",
       "0     2030495      271877     Consumer loans     1730.430          17145.0   \n",
       "1     2802425      108129         Cash loans    25188.615         607500.0   \n",
       "2     2523466      122040         Cash loans    15060.735         112500.0   \n",
       "3     2819243      176158         Cash loans    47041.335         450000.0   \n",
       "4     1784265      202054         Cash loans    31924.395         337500.0   \n",
       "\n",
       "   AMT_CREDIT  AMT_DOWN_PAYMENT  AMT_GOODS_PRICE WEEKDAY_APPR_PROCESS_START  \\\n",
       "0     17145.0               0.0          17145.0                   SATURDAY   \n",
       "1    679671.0               NaN         607500.0                   THURSDAY   \n",
       "2    136444.5               NaN         112500.0                    TUESDAY   \n",
       "3    470790.0               NaN         450000.0                     MONDAY   \n",
       "4    404055.0               NaN         337500.0                   THURSDAY   \n",
       "\n",
       "   HOUR_APPR_PROCESS_START  ... NAME_SELLER_INDUSTRY  CNT_PAYMENT  \\\n",
       "0                       15  ...         Connectivity         12.0   \n",
       "1                       11  ...                  XNA         36.0   \n",
       "2                       11  ...                  XNA         12.0   \n",
       "3                        7  ...                  XNA         12.0   \n",
       "4                        9  ...                  XNA         24.0   \n",
       "\n",
       "   NAME_YIELD_GROUP       PRODUCT_COMBINATION  DAYS_FIRST_DRAWING  \\\n",
       "0            middle  POS mobile with interest            365243.0   \n",
       "1        low_action          Cash X-Sell: low            365243.0   \n",
       "2              high         Cash X-Sell: high            365243.0   \n",
       "3            middle       Cash X-Sell: middle            365243.0   \n",
       "4              high         Cash Street: high                 NaN   \n",
       "\n",
       "  DAYS_FIRST_DUE DAYS_LAST_DUE_1ST_VERSION  DAYS_LAST_DUE DAYS_TERMINATION  \\\n",
       "0          -42.0                     300.0          -42.0            -37.0   \n",
       "1         -134.0                     916.0       365243.0         365243.0   \n",
       "2         -271.0                      59.0       365243.0         365243.0   \n",
       "3         -482.0                    -152.0         -182.0           -177.0   \n",
       "4            NaN                       NaN            NaN              NaN   \n",
       "\n",
       "  NFLAG_INSURED_ON_APPROVAL  \n",
       "0                       0.0  \n",
       "1                       1.0  \n",
       "2                       1.0  \n",
       "3                       1.0  \n",
       "4                       NaN  \n",
       "\n",
       "[5 rows x 37 columns]"
      ]
     },
     "execution_count": 5,
     "metadata": {},
     "output_type": "execute_result"
    }
   ],
   "source": [
    "prev_app.head()"
   ]
  },
  {
   "cell_type": "markdown",
   "id": "f0edfc37",
   "metadata": {},
   "source": [
    "## Data Cleaning"
   ]
  },
  {
   "cell_type": "markdown",
   "id": "5be86a3c",
   "metadata": {},
   "source": [
    "<h3 style=color:brown> Investigating application_data </h3>"
   ]
  },
  {
   "cell_type": "markdown",
   "id": "d8a9392a",
   "metadata": {},
   "source": [
    "#### info about app_data"
   ]
  },
  {
   "cell_type": "code",
   "execution_count": 6,
   "id": "22eead7d",
   "metadata": {},
   "outputs": [
    {
     "name": "stdout",
     "output_type": "stream",
     "text": [
      "<class 'pandas.core.frame.DataFrame'>\n",
      "RangeIndex: 307511 entries, 0 to 307510\n",
      "Data columns (total 122 columns):\n",
      " #    Column                        Dtype  \n",
      "---   ------                        -----  \n",
      " 0    SK_ID_CURR                    int64  \n",
      " 1    TARGET                        int64  \n",
      " 2    NAME_CONTRACT_TYPE            object \n",
      " 3    CODE_GENDER                   object \n",
      " 4    FLAG_OWN_CAR                  object \n",
      " 5    FLAG_OWN_REALTY               object \n",
      " 6    CNT_CHILDREN                  int64  \n",
      " 7    AMT_INCOME_TOTAL              float64\n",
      " 8    AMT_CREDIT                    float64\n",
      " 9    AMT_ANNUITY                   float64\n",
      " 10   AMT_GOODS_PRICE               float64\n",
      " 11   NAME_TYPE_SUITE               object \n",
      " 12   NAME_INCOME_TYPE              object \n",
      " 13   NAME_EDUCATION_TYPE           object \n",
      " 14   NAME_FAMILY_STATUS            object \n",
      " 15   NAME_HOUSING_TYPE             object \n",
      " 16   REGION_POPULATION_RELATIVE    float64\n",
      " 17   DAYS_BIRTH                    int64  \n",
      " 18   DAYS_EMPLOYED                 int64  \n",
      " 19   DAYS_REGISTRATION             float64\n",
      " 20   DAYS_ID_PUBLISH               int64  \n",
      " 21   OWN_CAR_AGE                   float64\n",
      " 22   FLAG_MOBIL                    int64  \n",
      " 23   FLAG_EMP_PHONE                int64  \n",
      " 24   FLAG_WORK_PHONE               int64  \n",
      " 25   FLAG_CONT_MOBILE              int64  \n",
      " 26   FLAG_PHONE                    int64  \n",
      " 27   FLAG_EMAIL                    int64  \n",
      " 28   OCCUPATION_TYPE               object \n",
      " 29   CNT_FAM_MEMBERS               float64\n",
      " 30   REGION_RATING_CLIENT          int64  \n",
      " 31   REGION_RATING_CLIENT_W_CITY   int64  \n",
      " 32   WEEKDAY_APPR_PROCESS_START    object \n",
      " 33   HOUR_APPR_PROCESS_START       int64  \n",
      " 34   REG_REGION_NOT_LIVE_REGION    int64  \n",
      " 35   REG_REGION_NOT_WORK_REGION    int64  \n",
      " 36   LIVE_REGION_NOT_WORK_REGION   int64  \n",
      " 37   REG_CITY_NOT_LIVE_CITY        int64  \n",
      " 38   REG_CITY_NOT_WORK_CITY        int64  \n",
      " 39   LIVE_CITY_NOT_WORK_CITY       int64  \n",
      " 40   ORGANIZATION_TYPE             object \n",
      " 41   EXT_SOURCE_1                  float64\n",
      " 42   EXT_SOURCE_2                  float64\n",
      " 43   EXT_SOURCE_3                  float64\n",
      " 44   APARTMENTS_AVG                float64\n",
      " 45   BASEMENTAREA_AVG              float64\n",
      " 46   YEARS_BEGINEXPLUATATION_AVG   float64\n",
      " 47   YEARS_BUILD_AVG               float64\n",
      " 48   COMMONAREA_AVG                float64\n",
      " 49   ELEVATORS_AVG                 float64\n",
      " 50   ENTRANCES_AVG                 float64\n",
      " 51   FLOORSMAX_AVG                 float64\n",
      " 52   FLOORSMIN_AVG                 float64\n",
      " 53   LANDAREA_AVG                  float64\n",
      " 54   LIVINGAPARTMENTS_AVG          float64\n",
      " 55   LIVINGAREA_AVG                float64\n",
      " 56   NONLIVINGAPARTMENTS_AVG       float64\n",
      " 57   NONLIVINGAREA_AVG             float64\n",
      " 58   APARTMENTS_MODE               float64\n",
      " 59   BASEMENTAREA_MODE             float64\n",
      " 60   YEARS_BEGINEXPLUATATION_MODE  float64\n",
      " 61   YEARS_BUILD_MODE              float64\n",
      " 62   COMMONAREA_MODE               float64\n",
      " 63   ELEVATORS_MODE                float64\n",
      " 64   ENTRANCES_MODE                float64\n",
      " 65   FLOORSMAX_MODE                float64\n",
      " 66   FLOORSMIN_MODE                float64\n",
      " 67   LANDAREA_MODE                 float64\n",
      " 68   LIVINGAPARTMENTS_MODE         float64\n",
      " 69   LIVINGAREA_MODE               float64\n",
      " 70   NONLIVINGAPARTMENTS_MODE      float64\n",
      " 71   NONLIVINGAREA_MODE            float64\n",
      " 72   APARTMENTS_MEDI               float64\n",
      " 73   BASEMENTAREA_MEDI             float64\n",
      " 74   YEARS_BEGINEXPLUATATION_MEDI  float64\n",
      " 75   YEARS_BUILD_MEDI              float64\n",
      " 76   COMMONAREA_MEDI               float64\n",
      " 77   ELEVATORS_MEDI                float64\n",
      " 78   ENTRANCES_MEDI                float64\n",
      " 79   FLOORSMAX_MEDI                float64\n",
      " 80   FLOORSMIN_MEDI                float64\n",
      " 81   LANDAREA_MEDI                 float64\n",
      " 82   LIVINGAPARTMENTS_MEDI         float64\n",
      " 83   LIVINGAREA_MEDI               float64\n",
      " 84   NONLIVINGAPARTMENTS_MEDI      float64\n",
      " 85   NONLIVINGAREA_MEDI            float64\n",
      " 86   FONDKAPREMONT_MODE            object \n",
      " 87   HOUSETYPE_MODE                object \n",
      " 88   TOTALAREA_MODE                float64\n",
      " 89   WALLSMATERIAL_MODE            object \n",
      " 90   EMERGENCYSTATE_MODE           object \n",
      " 91   OBS_30_CNT_SOCIAL_CIRCLE      float64\n",
      " 92   DEF_30_CNT_SOCIAL_CIRCLE      float64\n",
      " 93   OBS_60_CNT_SOCIAL_CIRCLE      float64\n",
      " 94   DEF_60_CNT_SOCIAL_CIRCLE      float64\n",
      " 95   DAYS_LAST_PHONE_CHANGE        float64\n",
      " 96   FLAG_DOCUMENT_2               int64  \n",
      " 97   FLAG_DOCUMENT_3               int64  \n",
      " 98   FLAG_DOCUMENT_4               int64  \n",
      " 99   FLAG_DOCUMENT_5               int64  \n",
      " 100  FLAG_DOCUMENT_6               int64  \n",
      " 101  FLAG_DOCUMENT_7               int64  \n",
      " 102  FLAG_DOCUMENT_8               int64  \n",
      " 103  FLAG_DOCUMENT_9               int64  \n",
      " 104  FLAG_DOCUMENT_10              int64  \n",
      " 105  FLAG_DOCUMENT_11              int64  \n",
      " 106  FLAG_DOCUMENT_12              int64  \n",
      " 107  FLAG_DOCUMENT_13              int64  \n",
      " 108  FLAG_DOCUMENT_14              int64  \n",
      " 109  FLAG_DOCUMENT_15              int64  \n",
      " 110  FLAG_DOCUMENT_16              int64  \n",
      " 111  FLAG_DOCUMENT_17              int64  \n",
      " 112  FLAG_DOCUMENT_18              int64  \n",
      " 113  FLAG_DOCUMENT_19              int64  \n",
      " 114  FLAG_DOCUMENT_20              int64  \n",
      " 115  FLAG_DOCUMENT_21              int64  \n",
      " 116  AMT_REQ_CREDIT_BUREAU_HOUR    float64\n",
      " 117  AMT_REQ_CREDIT_BUREAU_DAY     float64\n",
      " 118  AMT_REQ_CREDIT_BUREAU_WEEK    float64\n",
      " 119  AMT_REQ_CREDIT_BUREAU_MON     float64\n",
      " 120  AMT_REQ_CREDIT_BUREAU_QRT     float64\n",
      " 121  AMT_REQ_CREDIT_BUREAU_YEAR    float64\n",
      "dtypes: float64(65), int64(41), object(16)\n",
      "memory usage: 286.2+ MB\n"
     ]
    }
   ],
   "source": [
    "app_data.info(-1)"
   ]
  },
  {
   "cell_type": "markdown",
   "id": "3dc88040",
   "metadata": {},
   "source": [
    "#### Dimensions of app_data"
   ]
  },
  {
   "cell_type": "code",
   "execution_count": 7,
   "id": "1133eed9",
   "metadata": {},
   "outputs": [
    {
     "data": {
      "text/plain": [
       "(307511, 122)"
      ]
     },
     "execution_count": 7,
     "metadata": {},
     "output_type": "execute_result"
    }
   ],
   "source": [
    "app_data.shape"
   ]
  },
  {
   "cell_type": "markdown",
   "id": "f0981a03",
   "metadata": {},
   "source": [
    "**Looking for duplicate data**"
   ]
  },
  {
   "cell_type": "code",
   "execution_count": 8,
   "id": "3bbd0bf9",
   "metadata": {},
   "outputs": [
    {
     "data": {
      "text/plain": [
       "0"
      ]
     },
     "execution_count": 8,
     "metadata": {},
     "output_type": "execute_result"
    }
   ],
   "source": [
    "app_data.duplicated().sum()"
   ]
  },
  {
   "cell_type": "markdown",
   "id": "5071cd0f",
   "metadata": {},
   "source": [
    "**looking at the columns with more than 45% missing values**"
   ]
  },
  {
   "cell_type": "code",
   "execution_count": 9,
   "id": "aa575a4c",
   "metadata": {},
   "outputs": [
    {
     "name": "stdout",
     "output_type": "stream",
     "text": [
      "OWN_CAR_AGE :  65.99 %\n",
      "EXT_SOURCE_1 :  56.38 %\n",
      "APARTMENTS_AVG :  50.75 %\n",
      "BASEMENTAREA_AVG :  58.52 %\n",
      "YEARS_BEGINEXPLUATATION_AVG :  48.78 %\n",
      "YEARS_BUILD_AVG :  66.5 %\n",
      "COMMONAREA_AVG :  69.87 %\n",
      "ELEVATORS_AVG :  53.3 %\n",
      "ENTRANCES_AVG :  50.35 %\n",
      "FLOORSMAX_AVG :  49.76 %\n",
      "FLOORSMIN_AVG :  67.85 %\n",
      "LANDAREA_AVG :  59.38 %\n",
      "LIVINGAPARTMENTS_AVG :  68.35 %\n",
      "LIVINGAREA_AVG :  50.19 %\n",
      "NONLIVINGAPARTMENTS_AVG :  69.43 %\n",
      "NONLIVINGAREA_AVG :  55.18 %\n",
      "APARTMENTS_MODE :  50.75 %\n",
      "BASEMENTAREA_MODE :  58.52 %\n",
      "YEARS_BEGINEXPLUATATION_MODE :  48.78 %\n",
      "YEARS_BUILD_MODE :  66.5 %\n",
      "COMMONAREA_MODE :  69.87 %\n",
      "ELEVATORS_MODE :  53.3 %\n",
      "ENTRANCES_MODE :  50.35 %\n",
      "FLOORSMAX_MODE :  49.76 %\n",
      "FLOORSMIN_MODE :  67.85 %\n",
      "LANDAREA_MODE :  59.38 %\n",
      "LIVINGAPARTMENTS_MODE :  68.35 %\n",
      "LIVINGAREA_MODE :  50.19 %\n",
      "NONLIVINGAPARTMENTS_MODE :  69.43 %\n",
      "NONLIVINGAREA_MODE :  55.18 %\n",
      "APARTMENTS_MEDI :  50.75 %\n",
      "BASEMENTAREA_MEDI :  58.52 %\n",
      "YEARS_BEGINEXPLUATATION_MEDI :  48.78 %\n",
      "YEARS_BUILD_MEDI :  66.5 %\n",
      "COMMONAREA_MEDI :  69.87 %\n",
      "ELEVATORS_MEDI :  53.3 %\n",
      "ENTRANCES_MEDI :  50.35 %\n",
      "FLOORSMAX_MEDI :  49.76 %\n",
      "FLOORSMIN_MEDI :  67.85 %\n",
      "LANDAREA_MEDI :  59.38 %\n",
      "LIVINGAPARTMENTS_MEDI :  68.35 %\n",
      "LIVINGAREA_MEDI :  50.19 %\n",
      "NONLIVINGAPARTMENTS_MEDI :  69.43 %\n",
      "NONLIVINGAREA_MEDI :  55.18 %\n",
      "FONDKAPREMONT_MODE :  68.39 %\n",
      "HOUSETYPE_MODE :  50.18 %\n",
      "TOTALAREA_MODE :  48.27 %\n",
      "WALLSMATERIAL_MODE :  50.84 %\n",
      "EMERGENCYSTATE_MODE :  47.4 %\n"
     ]
    }
   ],
   "source": [
    "for i in app_data.columns:\n",
    "    if (round(100*(app_data[i].isnull().sum()/len(app_data.isnull())),2) >= 45):\n",
    "        print(i,': ',(round(100*(app_data[i].isnull().sum()/len(app_data.isnull())),2)),'%')"
   ]
  },
  {
   "cell_type": "markdown",
   "id": "5de97ca3",
   "metadata": {},
   "source": [
    "#### dropping above and irrelevant columns from app_data"
   ]
  },
  {
   "cell_type": "code",
   "execution_count": 10,
   "id": "780d5d66",
   "metadata": {},
   "outputs": [],
   "source": [
    "app_data.drop(['DAYS_REGISTRATION','DAYS_ID_PUBLISH','OWN_CAR_AGE','FLAG_MOBIL','FLAG_EMP_PHONE','FLAG_WORK_PHONE',\n",
    "              'WEEKDAY_APPR_PROCESS_START','HOUR_APPR_PROCESS_START','REG_REGION_NOT_LIVE_REGION','REG_REGION_NOT_WORK_REGION',\n",
    "              'LIVE_REGION_NOT_WORK_REGION','REG_CITY_NOT_LIVE_CITY','REG_CITY_NOT_WORK_CITY','LIVE_CITY_NOT_WORK_CITY',\n",
    "              'EXT_SOURCE_1','EXT_SOURCE_2','EXT_SOURCE_3','APARTMENTS_AVG','BASEMENTAREA_AVG','YEARS_BEGINEXPLUATATION_AVG',\n",
    "              'YEARS_BUILD_AVG','COMMONAREA_AVG','ELEVATORS_AVG','ENTRANCES_AVG','FLOORSMAX_AVG','FLOORSMIN_AVG','LANDAREA_AVG',\n",
    "              'LIVINGAPARTMENTS_AVG','LIVINGAREA_AVG','NONLIVINGAPARTMENTS_AVG','NONLIVINGAREA_AVG','APARTMENTS_MODE',\n",
    "              'BASEMENTAREA_MODE','YEARS_BEGINEXPLUATATION_MODE','YEARS_BUILD_MODE','COMMONAREA_MODE','ELEVATORS_MODE',\n",
    "              'ENTRANCES_MODE','FLOORSMAX_MODE','FLOORSMIN_MODE','LANDAREA_MODE','LIVINGAPARTMENTS_MODE','LIVINGAREA_MODE',\n",
    "              'NONLIVINGAPARTMENTS_MODE','NONLIVINGAREA_MODE','APARTMENTS_MEDI','BASEMENTAREA_MEDI',\n",
    "              'YEARS_BEGINEXPLUATATION_MEDI','YEARS_BUILD_MEDI','COMMONAREA_MEDI','ELEVATORS_MEDI','ENTRANCES_MEDI',\n",
    "              'FLOORSMAX_MEDI','FLOORSMIN_MEDI','LANDAREA_MEDI','LIVINGAPARTMENTS_MEDI','LIVINGAREA_MEDI',\n",
    "              'NONLIVINGAPARTMENTS_MEDI','NONLIVINGAREA_MEDI','FONDKAPREMONT_MODE','HOUSETYPE_MODE','TOTALAREA_MODE',\n",
    "              'WALLSMATERIAL_MODE','EMERGENCYSTATE_MODE','OBS_30_CNT_SOCIAL_CIRCLE','DEF_30_CNT_SOCIAL_CIRCLE',\n",
    "              'OBS_60_CNT_SOCIAL_CIRCLE','DEF_60_CNT_SOCIAL_CIRCLE','DAYS_LAST_PHONE_CHANGE','FLAG_DOCUMENT_2',\n",
    "              'FLAG_DOCUMENT_3','FLAG_DOCUMENT_4','FLAG_DOCUMENT_5','FLAG_DOCUMENT_6','FLAG_DOCUMENT_7','FLAG_DOCUMENT_8',\n",
    "              'FLAG_DOCUMENT_9','FLAG_DOCUMENT_10','FLAG_DOCUMENT_11','FLAG_DOCUMENT_12','FLAG_DOCUMENT_13','FLAG_DOCUMENT_14',\n",
    "              'FLAG_DOCUMENT_15','FLAG_DOCUMENT_16','FLAG_DOCUMENT_17','FLAG_DOCUMENT_18','FLAG_DOCUMENT_19','FLAG_DOCUMENT_20',\n",
    "              'FLAG_DOCUMENT_21','AMT_REQ_CREDIT_BUREAU_HOUR','AMT_REQ_CREDIT_BUREAU_DAY','AMT_REQ_CREDIT_BUREAU_WEEK',\n",
    "              'AMT_REQ_CREDIT_BUREAU_MON','AMT_REQ_CREDIT_BUREAU_QRT','AMT_REQ_CREDIT_BUREAU_YEAR','FLAG_PHONE','FLAG_EMAIL'],\n",
    "              axis=1, inplace=True)"
   ]
  },
  {
   "cell_type": "markdown",
   "id": "288f6265",
   "metadata": {},
   "source": [
    "#### new dimension after dropping columns"
   ]
  },
  {
   "cell_type": "code",
   "execution_count": 11,
   "id": "95ab9e21",
   "metadata": {},
   "outputs": [
    {
     "data": {
      "text/plain": [
       "(307511, 25)"
      ]
     },
     "execution_count": 11,
     "metadata": {},
     "output_type": "execute_result"
    }
   ],
   "source": [
    "app_data.shape"
   ]
  },
  {
   "cell_type": "code",
   "execution_count": 12,
   "id": "339c6a9a",
   "metadata": {},
   "outputs": [
    {
     "name": "stdout",
     "output_type": "stream",
     "text": [
      "<class 'pandas.core.frame.DataFrame'>\n",
      "RangeIndex: 307511 entries, 0 to 307510\n",
      "Data columns (total 25 columns):\n",
      " #   Column                       Non-Null Count   Dtype  \n",
      "---  ------                       --------------   -----  \n",
      " 0   SK_ID_CURR                   307511 non-null  int64  \n",
      " 1   TARGET                       307511 non-null  int64  \n",
      " 2   NAME_CONTRACT_TYPE           307511 non-null  object \n",
      " 3   CODE_GENDER                  307511 non-null  object \n",
      " 4   FLAG_OWN_CAR                 307511 non-null  object \n",
      " 5   FLAG_OWN_REALTY              307511 non-null  object \n",
      " 6   CNT_CHILDREN                 307511 non-null  int64  \n",
      " 7   AMT_INCOME_TOTAL             307511 non-null  float64\n",
      " 8   AMT_CREDIT                   307511 non-null  float64\n",
      " 9   AMT_ANNUITY                  307499 non-null  float64\n",
      " 10  AMT_GOODS_PRICE              307233 non-null  float64\n",
      " 11  NAME_TYPE_SUITE              306219 non-null  object \n",
      " 12  NAME_INCOME_TYPE             307511 non-null  object \n",
      " 13  NAME_EDUCATION_TYPE          307511 non-null  object \n",
      " 14  NAME_FAMILY_STATUS           307511 non-null  object \n",
      " 15  NAME_HOUSING_TYPE            307511 non-null  object \n",
      " 16  REGION_POPULATION_RELATIVE   307511 non-null  float64\n",
      " 17  DAYS_BIRTH                   307511 non-null  int64  \n",
      " 18  DAYS_EMPLOYED                307511 non-null  int64  \n",
      " 19  FLAG_CONT_MOBILE             307511 non-null  int64  \n",
      " 20  OCCUPATION_TYPE              211120 non-null  object \n",
      " 21  CNT_FAM_MEMBERS              307509 non-null  float64\n",
      " 22  REGION_RATING_CLIENT         307511 non-null  int64  \n",
      " 23  REGION_RATING_CLIENT_W_CITY  307511 non-null  int64  \n",
      " 24  ORGANIZATION_TYPE            307511 non-null  object \n",
      "dtypes: float64(6), int64(8), object(11)\n",
      "memory usage: 58.7+ MB\n"
     ]
    }
   ],
   "source": [
    "app_data.info()"
   ]
  },
  {
   "cell_type": "markdown",
   "id": "97657c96",
   "metadata": {},
   "source": [
    "- **Numerical Data:** TARGET, CNT_CHILDREN, DAYS_BIRTH, DAYS_EMPLOYED, CNT_FAM_MEMBERS, AMT_INCOME_TOTAL, AMT_CREDIT,  AMT_ANNUITY, AMT_GOODS_PRICE\n",
    "     \n",
    "     \n",
    "- **Categorical Data:** NAME_CONTRACT_TYPE, CODE_GENDER, FLAG_OWN_CAR, FLAG_OWN_REALTY, NAME_TYPE_SUITE,       NAME_FAMILY_STATUS, NAME_HOUSING_TYPE, NAME_INCOME_TYPE, NAME_EDUCATION_TYPE, OCCUPATION_TYPE, ORGANIZATION_TYPE"
   ]
  },
  {
   "cell_type": "markdown",
   "id": "9fa54add",
   "metadata": {},
   "source": [
    "#### looking for null data in app_data"
   ]
  },
  {
   "cell_type": "code",
   "execution_count": 13,
   "id": "633eaadf",
   "metadata": {},
   "outputs": [
    {
     "data": {
      "text/plain": [
       "SK_ID_CURR                         0\n",
       "TARGET                             0\n",
       "NAME_CONTRACT_TYPE                 0\n",
       "CODE_GENDER                        0\n",
       "FLAG_OWN_CAR                       0\n",
       "FLAG_OWN_REALTY                    0\n",
       "CNT_CHILDREN                       0\n",
       "AMT_INCOME_TOTAL                   0\n",
       "AMT_CREDIT                         0\n",
       "AMT_ANNUITY                       12\n",
       "AMT_GOODS_PRICE                  278\n",
       "NAME_TYPE_SUITE                 1292\n",
       "NAME_INCOME_TYPE                   0\n",
       "NAME_EDUCATION_TYPE                0\n",
       "NAME_FAMILY_STATUS                 0\n",
       "NAME_HOUSING_TYPE                  0\n",
       "REGION_POPULATION_RELATIVE         0\n",
       "DAYS_BIRTH                         0\n",
       "DAYS_EMPLOYED                      0\n",
       "FLAG_CONT_MOBILE                   0\n",
       "OCCUPATION_TYPE                96391\n",
       "CNT_FAM_MEMBERS                    2\n",
       "REGION_RATING_CLIENT               0\n",
       "REGION_RATING_CLIENT_W_CITY        0\n",
       "ORGANIZATION_TYPE                  0\n",
       "dtype: int64"
      ]
     },
     "execution_count": 13,
     "metadata": {},
     "output_type": "execute_result"
    }
   ],
   "source": [
    "app_data.isnull().sum()"
   ]
  },
  {
   "cell_type": "code",
   "execution_count": 14,
   "id": "75ea5370",
   "metadata": {},
   "outputs": [
    {
     "data": {
      "text/plain": [
       "0"
      ]
     },
     "execution_count": 14,
     "metadata": {},
     "output_type": "execute_result"
    }
   ],
   "source": [
    "# Checking for any duplicate data\n",
    "app_data.duplicated().sum()"
   ]
  },
  {
   "cell_type": "code",
   "execution_count": 15,
   "id": "293000d3",
   "metadata": {},
   "outputs": [
    {
     "data": {
      "text/plain": [
       "0"
      ]
     },
     "execution_count": 15,
     "metadata": {},
     "output_type": "execute_result"
    }
   ],
   "source": [
    "# looking null values in target variable\n",
    "app_data['TARGET'].isnull().sum()"
   ]
  },
  {
   "cell_type": "markdown",
   "id": "73e74156",
   "metadata": {},
   "source": [
    "#### handling missing values in CNT_FAM_MEMBERS"
   ]
  },
  {
   "cell_type": "code",
   "execution_count": 16,
   "id": "5c4be49a",
   "metadata": {},
   "outputs": [
    {
     "data": {
      "text/plain": [
       "2"
      ]
     },
     "execution_count": 16,
     "metadata": {},
     "output_type": "execute_result"
    }
   ],
   "source": [
    "app_data['CNT_FAM_MEMBERS'].isnull().sum()"
   ]
  },
  {
   "cell_type": "code",
   "execution_count": 17,
   "id": "6106fcf4",
   "metadata": {},
   "outputs": [
    {
     "data": {
      "text/plain": [
       "0.0006503832383231819"
      ]
     },
     "execution_count": 17,
     "metadata": {},
     "output_type": "execute_result"
    }
   ],
   "source": [
    "# percentage of missing values in CNT_FAM_MEMBERS\n",
    "app_data.shape\n",
    "(2/307511)*100"
   ]
  },
  {
   "cell_type": "markdown",
   "id": "e81e3453",
   "metadata": {},
   "source": [
    "- since missing percentage is too small, thus dropping the records will not affect our analysis"
   ]
  },
  {
   "cell_type": "code",
   "execution_count": 18,
   "id": "21b41cce",
   "metadata": {},
   "outputs": [],
   "source": [
    "# dropping missing records\n",
    "app_data = app_data[~app_data['CNT_FAM_MEMBERS'].isnull()].copy()"
   ]
  },
  {
   "cell_type": "code",
   "execution_count": 19,
   "id": "d99827ca",
   "metadata": {},
   "outputs": [
    {
     "data": {
      "text/plain": [
       "0"
      ]
     },
     "execution_count": 19,
     "metadata": {},
     "output_type": "execute_result"
    }
   ],
   "source": [
    "# checking for missing records\n",
    "app_data['CNT_FAM_MEMBERS'].isnull().sum()"
   ]
  },
  {
   "cell_type": "code",
   "execution_count": 20,
   "id": "8455f22f",
   "metadata": {},
   "outputs": [
    {
     "data": {
      "text/plain": [
       "(307509, 25)"
      ]
     },
     "execution_count": 20,
     "metadata": {},
     "output_type": "execute_result"
    }
   ],
   "source": [
    "# looking at new dimension\n",
    "app_data.shape"
   ]
  },
  {
   "cell_type": "code",
   "execution_count": 21,
   "id": "866ae0e6",
   "metadata": {},
   "outputs": [],
   "source": [
    "# changing data type to integer\n",
    "app_data['CNT_FAM_MEMBERS'] = app_data['CNT_FAM_MEMBERS'].astype('int')"
   ]
  },
  {
   "cell_type": "markdown",
   "id": "bfe8d10f",
   "metadata": {},
   "source": [
    "CNT_FAM_MEMBERS changed to **integer** type"
   ]
  },
  {
   "cell_type": "markdown",
   "id": "20ec1948",
   "metadata": {},
   "source": [
    "#### handling missing values in AMT_ANNUITY       "
   ]
  },
  {
   "cell_type": "code",
   "execution_count": 22,
   "id": "36d34f60",
   "metadata": {},
   "outputs": [
    {
     "data": {
      "text/plain": [
       "12"
      ]
     },
     "execution_count": 22,
     "metadata": {},
     "output_type": "execute_result"
    }
   ],
   "source": [
    "app_data['AMT_ANNUITY'].isnull().sum()"
   ]
  },
  {
   "cell_type": "code",
   "execution_count": 23,
   "id": "845a8359",
   "metadata": {},
   "outputs": [
    {
     "data": {
      "text/plain": [
       "(307509, 25)"
      ]
     },
     "execution_count": 23,
     "metadata": {},
     "output_type": "execute_result"
    }
   ],
   "source": [
    "# dimensions\n",
    "app_data.shape"
   ]
  },
  {
   "cell_type": "code",
   "execution_count": 24,
   "id": "ee1dbcf4",
   "metadata": {},
   "outputs": [
    {
     "data": {
      "text/plain": [
       "0.0039023248100055604"
      ]
     },
     "execution_count": 24,
     "metadata": {},
     "output_type": "execute_result"
    }
   ],
   "source": [
    "#percentage of missing value\n",
    "\n",
    "(12/307509)*100"
   ]
  },
  {
   "cell_type": "markdown",
   "id": "45709497",
   "metadata": {},
   "source": [
    "- Since the percentage value is too low the data can be dropped"
   ]
  },
  {
   "cell_type": "code",
   "execution_count": 25,
   "id": "d76f9e85",
   "metadata": {},
   "outputs": [],
   "source": [
    "# dropping the missing data\n",
    "\n",
    "app_data = app_data[~app_data['AMT_ANNUITY'].isnull()].copy()"
   ]
  },
  {
   "cell_type": "code",
   "execution_count": 26,
   "id": "c6e98a91",
   "metadata": {},
   "outputs": [
    {
     "data": {
      "text/plain": [
       "0"
      ]
     },
     "execution_count": 26,
     "metadata": {},
     "output_type": "execute_result"
    }
   ],
   "source": [
    "# checking for missing value \n",
    "\n",
    "app_data['AMT_ANNUITY'].isnull().sum()"
   ]
  },
  {
   "cell_type": "code",
   "execution_count": 27,
   "id": "ef73c0de",
   "metadata": {},
   "outputs": [
    {
     "data": {
      "text/plain": [
       "(307497, 25)"
      ]
     },
     "execution_count": 27,
     "metadata": {},
     "output_type": "execute_result"
    }
   ],
   "source": [
    "# new dimensions\n",
    "app_data.shape"
   ]
  },
  {
   "cell_type": "markdown",
   "id": "4556494c",
   "metadata": {},
   "source": [
    "#### handling missing values in AMT_GOODS_PRICE"
   ]
  },
  {
   "cell_type": "code",
   "execution_count": 28,
   "id": "292534c0",
   "metadata": {},
   "outputs": [
    {
     "data": {
      "text/plain": [
       "276"
      ]
     },
     "execution_count": 28,
     "metadata": {},
     "output_type": "execute_result"
    }
   ],
   "source": [
    "app_data['AMT_GOODS_PRICE'].isnull().sum()"
   ]
  },
  {
   "cell_type": "code",
   "execution_count": 29,
   "id": "472655cf",
   "metadata": {},
   "outputs": [
    {
     "data": {
      "text/plain": [
       "0.0897569732387633"
      ]
     },
     "execution_count": 29,
     "metadata": {},
     "output_type": "execute_result"
    }
   ],
   "source": [
    "# percentage of missing values\n",
    "(276/307497)*100"
   ]
  },
  {
   "cell_type": "markdown",
   "id": "7289ccf4",
   "metadata": {},
   "source": [
    "- dropping the records would be best because the percentage is small and also it shows the price of the goods for which the loan is given so any assumption will not benefit in analysis."
   ]
  },
  {
   "cell_type": "code",
   "execution_count": 30,
   "id": "c2c4e923",
   "metadata": {},
   "outputs": [],
   "source": [
    "# dropping missing records\n",
    "app_data = app_data[~app_data['AMT_GOODS_PRICE'].isnull()].copy()"
   ]
  },
  {
   "cell_type": "code",
   "execution_count": 31,
   "id": "f0a26813",
   "metadata": {},
   "outputs": [
    {
     "data": {
      "text/plain": [
       "(307221, 25)"
      ]
     },
     "execution_count": 31,
     "metadata": {},
     "output_type": "execute_result"
    }
   ],
   "source": [
    "# new dimensions\n",
    "app_data.shape"
   ]
  },
  {
   "cell_type": "markdown",
   "id": "ed77c089",
   "metadata": {},
   "source": [
    "#### handling missing values in NAME_TYPE_SUITE"
   ]
  },
  {
   "cell_type": "code",
   "execution_count": 32,
   "id": "b5795c12",
   "metadata": {},
   "outputs": [
    {
     "data": {
      "text/plain": [
       "1014"
      ]
     },
     "execution_count": 32,
     "metadata": {},
     "output_type": "execute_result"
    }
   ],
   "source": [
    "app_data['NAME_TYPE_SUITE'].isnull().sum()"
   ]
  },
  {
   "cell_type": "code",
   "execution_count": 33,
   "id": "e1c834b4",
   "metadata": {},
   "outputs": [
    {
     "data": {
      "text/plain": [
       "(307221, 25)"
      ]
     },
     "execution_count": 33,
     "metadata": {},
     "output_type": "execute_result"
    }
   ],
   "source": [
    "app_data.shape"
   ]
  },
  {
   "cell_type": "code",
   "execution_count": 34,
   "id": "d6e2b2e9",
   "metadata": {},
   "outputs": [
    {
     "data": {
      "text/plain": [
       "0.3300555626080249"
      ]
     },
     "execution_count": 34,
     "metadata": {},
     "output_type": "execute_result"
    }
   ],
   "source": [
    "# percentage of missing value\n",
    "(1014/307221)*100\n",
    "#app_data.NAME_TYPE_SUITE.mode()"
   ]
  },
  {
   "cell_type": "code",
   "execution_count": 35,
   "id": "0eaaab28",
   "metadata": {},
   "outputs": [],
   "source": [
    "# dropping the missing records\n",
    "app_data = app_data[~app_data['NAME_TYPE_SUITE'].isnull()]"
   ]
  },
  {
   "cell_type": "code",
   "execution_count": 36,
   "id": "eb496aba",
   "metadata": {},
   "outputs": [
    {
     "data": {
      "text/plain": [
       "(306207, 25)"
      ]
     },
     "execution_count": 36,
     "metadata": {},
     "output_type": "execute_result"
    }
   ],
   "source": [
    "# new dimensions\n",
    "app_data.shape"
   ]
  },
  {
   "cell_type": "markdown",
   "id": "0a37f505",
   "metadata": {},
   "source": [
    "#### looking at the percentage of missing value for each column in app_data"
   ]
  },
  {
   "cell_type": "code",
   "execution_count": 37,
   "id": "da070b93",
   "metadata": {},
   "outputs": [
    {
     "data": {
      "text/plain": [
       "SK_ID_CURR                      0.0000\n",
       "TARGET                          0.0000\n",
       "NAME_CONTRACT_TYPE              0.0000\n",
       "CODE_GENDER                     0.0000\n",
       "FLAG_OWN_CAR                    0.0000\n",
       "FLAG_OWN_REALTY                 0.0000\n",
       "CNT_CHILDREN                    0.0000\n",
       "AMT_INCOME_TOTAL                0.0000\n",
       "AMT_CREDIT                      0.0000\n",
       "AMT_ANNUITY                     0.0000\n",
       "AMT_GOODS_PRICE                 0.0000\n",
       "NAME_TYPE_SUITE                 0.0000\n",
       "NAME_INCOME_TYPE                0.0000\n",
       "NAME_EDUCATION_TYPE             0.0000\n",
       "NAME_FAMILY_STATUS              0.0000\n",
       "NAME_HOUSING_TYPE               0.0000\n",
       "REGION_POPULATION_RELATIVE      0.0000\n",
       "DAYS_BIRTH                      0.0000\n",
       "DAYS_EMPLOYED                   0.0000\n",
       "FLAG_CONT_MOBILE                0.0000\n",
       "OCCUPATION_TYPE                31.3533\n",
       "CNT_FAM_MEMBERS                 0.0000\n",
       "REGION_RATING_CLIENT            0.0000\n",
       "REGION_RATING_CLIENT_W_CITY     0.0000\n",
       "ORGANIZATION_TYPE               0.0000\n",
       "dtype: float64"
      ]
     },
     "execution_count": 37,
     "metadata": {},
     "output_type": "execute_result"
    }
   ],
   "source": [
    "(app_data.isnull().sum())/306207*100"
   ]
  },
  {
   "cell_type": "markdown",
   "id": "e2e8547d",
   "metadata": {},
   "source": [
    "#### handling missing values in OCCUPATION_TYPE column"
   ]
  },
  {
   "cell_type": "code",
   "execution_count": 38,
   "id": "4b2263dc",
   "metadata": {},
   "outputs": [
    {
     "data": {
      "text/plain": [
       "96006"
      ]
     },
     "execution_count": 38,
     "metadata": {},
     "output_type": "execute_result"
    }
   ],
   "source": [
    "app_data['OCCUPATION_TYPE'].isnull().sum()"
   ]
  },
  {
   "cell_type": "markdown",
   "id": "efe567ad",
   "metadata": {},
   "source": [
    "- Since the missing data is large enough so it can be dropped but this would mean loosing other important info also so dropping would not be a wise decision.\n",
    "- In this case we'll be replacing nan value with **missing**"
   ]
  },
  {
   "cell_type": "code",
   "execution_count": 39,
   "id": "139e9867",
   "metadata": {},
   "outputs": [],
   "source": [
    "app_data['OCCUPATION_TYPE'] = app_data['OCCUPATION_TYPE'].replace(np.nan,\"Missing\")"
   ]
  },
  {
   "cell_type": "markdown",
   "id": "f5e41d78",
   "metadata": {},
   "source": [
    "#### looking for missing values in app_data"
   ]
  },
  {
   "cell_type": "code",
   "execution_count": 40,
   "id": "2e205e0e",
   "metadata": {},
   "outputs": [
    {
     "data": {
      "text/plain": [
       "SK_ID_CURR                     0\n",
       "TARGET                         0\n",
       "NAME_CONTRACT_TYPE             0\n",
       "CODE_GENDER                    0\n",
       "FLAG_OWN_CAR                   0\n",
       "FLAG_OWN_REALTY                0\n",
       "CNT_CHILDREN                   0\n",
       "AMT_INCOME_TOTAL               0\n",
       "AMT_CREDIT                     0\n",
       "AMT_ANNUITY                    0\n",
       "AMT_GOODS_PRICE                0\n",
       "NAME_TYPE_SUITE                0\n",
       "NAME_INCOME_TYPE               0\n",
       "NAME_EDUCATION_TYPE            0\n",
       "NAME_FAMILY_STATUS             0\n",
       "NAME_HOUSING_TYPE              0\n",
       "REGION_POPULATION_RELATIVE     0\n",
       "DAYS_BIRTH                     0\n",
       "DAYS_EMPLOYED                  0\n",
       "FLAG_CONT_MOBILE               0\n",
       "OCCUPATION_TYPE                0\n",
       "CNT_FAM_MEMBERS                0\n",
       "REGION_RATING_CLIENT           0\n",
       "REGION_RATING_CLIENT_W_CITY    0\n",
       "ORGANIZATION_TYPE              0\n",
       "dtype: int64"
      ]
     },
     "execution_count": 40,
     "metadata": {},
     "output_type": "execute_result"
    }
   ],
   "source": [
    "app_data.isnull().sum()"
   ]
  },
  {
   "cell_type": "markdown",
   "id": "8458f5ed",
   "metadata": {},
   "source": [
    "## Fixing  columns / Outliers"
   ]
  },
  {
   "cell_type": "markdown",
   "id": "b72e15a0",
   "metadata": {},
   "source": [
    "**NAME_EDUCATION_TYPE column**"
   ]
  },
  {
   "cell_type": "code",
   "execution_count": 41,
   "id": "0b049841",
   "metadata": {},
   "outputs": [
    {
     "data": {
      "text/plain": [
       "Secondary / secondary special    217581\n",
       "Higher education                  74413\n",
       "Incomplete higher                 10241\n",
       "Lower secondary                    3809\n",
       "Academic degree                     163\n",
       "Name: NAME_EDUCATION_TYPE, dtype: int64"
      ]
     },
     "execution_count": 41,
     "metadata": {},
     "output_type": "execute_result"
    }
   ],
   "source": [
    "app_data['NAME_EDUCATION_TYPE'].value_counts()"
   ]
  },
  {
   "cell_type": "code",
   "execution_count": 42,
   "id": "dcf04389",
   "metadata": {},
   "outputs": [],
   "source": [
    "# replacing the name 'Secondary / secondary special' with 'Secondary education'in NAME_EDUCATION_TYPE column\n",
    "\n",
    "app_data['NAME_EDUCATION_TYPE'] = app_data['NAME_EDUCATION_TYPE'].replace('Secondary / secondary special','Secondary education')"
   ]
  },
  {
   "cell_type": "code",
   "execution_count": 43,
   "id": "ac5a82a8",
   "metadata": {},
   "outputs": [
    {
     "data": {
      "text/plain": [
       "Secondary education    217581\n",
       "Higher education        74413\n",
       "Incomplete higher       10241\n",
       "Lower secondary          3809\n",
       "Academic degree           163\n",
       "Name: NAME_EDUCATION_TYPE, dtype: int64"
      ]
     },
     "execution_count": 43,
     "metadata": {},
     "output_type": "execute_result"
    }
   ],
   "source": [
    "app_data['NAME_EDUCATION_TYPE'].value_counts()"
   ]
  },
  {
   "cell_type": "markdown",
   "id": "7ecfffaa",
   "metadata": {},
   "source": [
    "**NAME_FAMILY_STATUS column**"
   ]
  },
  {
   "cell_type": "code",
   "execution_count": 44,
   "id": "82c64cfb",
   "metadata": {},
   "outputs": [
    {
     "data": {
      "text/plain": [
       "Married                 195641\n",
       "Single / not married     45197\n",
       "Civil marriage           29659\n",
       "Separated                19695\n",
       "Widow                    16015\n",
       "Name: NAME_FAMILY_STATUS, dtype: int64"
      ]
     },
     "execution_count": 44,
     "metadata": {},
     "output_type": "execute_result"
    }
   ],
   "source": [
    "app_data['NAME_FAMILY_STATUS'].value_counts()"
   ]
  },
  {
   "cell_type": "code",
   "execution_count": 45,
   "id": "0fc47ff2",
   "metadata": {},
   "outputs": [],
   "source": [
    "# replacing the name 'Single / not married ' with 'Single' in NAME_FAMILY_STATUS column\n",
    "\n",
    "app_data['NAME_FAMILY_STATUS'] = app_data['NAME_FAMILY_STATUS'].replace('Single / not married','Single')"
   ]
  },
  {
   "cell_type": "code",
   "execution_count": 46,
   "id": "76d6338e",
   "metadata": {},
   "outputs": [
    {
     "data": {
      "text/plain": [
       "Married           195641\n",
       "Single             45197\n",
       "Civil marriage     29659\n",
       "Separated          19695\n",
       "Widow              16015\n",
       "Name: NAME_FAMILY_STATUS, dtype: int64"
      ]
     },
     "execution_count": 46,
     "metadata": {},
     "output_type": "execute_result"
    }
   ],
   "source": [
    "app_data['NAME_FAMILY_STATUS'].value_counts()"
   ]
  },
  {
   "cell_type": "markdown",
   "id": "623c9eec",
   "metadata": {},
   "source": [
    "**DAYS_BIRTH column**"
   ]
  },
  {
   "cell_type": "code",
   "execution_count": 47,
   "id": "63e1bd71",
   "metadata": {},
   "outputs": [
    {
     "data": {
      "text/plain": [
       "-13749    42\n",
       "-13481    42\n",
       "-10020    41\n",
       "-18248    41\n",
       "-15771    40\n",
       "          ..\n",
       "-24812     1\n",
       "-7997      1\n",
       "-25029     1\n",
       "-25139     1\n",
       "-7853      1\n",
       "Name: DAYS_BIRTH, Length: 17458, dtype: int64"
      ]
     },
     "execution_count": 47,
     "metadata": {},
     "output_type": "execute_result"
    }
   ],
   "source": [
    "app_data['DAYS_BIRTH'].value_counts()"
   ]
  },
  {
   "cell_type": "code",
   "execution_count": 48,
   "id": "1cae7a47",
   "metadata": {},
   "outputs": [
    {
     "data": {
      "text/plain": [
       "dtype('int64')"
      ]
     },
     "execution_count": 48,
     "metadata": {},
     "output_type": "execute_result"
    }
   ],
   "source": [
    "# data type of DAYS_BIRTH column\n",
    "\n",
    "app_data['DAYS_BIRTH'].dtype"
   ]
  },
  {
   "cell_type": "code",
   "execution_count": 49,
   "id": "583472cb",
   "metadata": {},
   "outputs": [],
   "source": [
    "# converting to string variable\n",
    "\n",
    "app_data['DAYS_BIRTH'] = app_data['DAYS_BIRTH'].astype('str')"
   ]
  },
  {
   "cell_type": "markdown",
   "id": "1b70d3b8",
   "metadata": {},
   "source": [
    "- Converted to string type because integer objects cannot be indexed, in order to remove the special charactrer '-' from the values conversion into string variable was necessary."
   ]
  },
  {
   "cell_type": "code",
   "execution_count": 50,
   "id": "ef9f310b",
   "metadata": {},
   "outputs": [
    {
     "data": {
      "text/plain": [
       "dtype('O')"
      ]
     },
     "execution_count": 50,
     "metadata": {},
     "output_type": "execute_result"
    }
   ],
   "source": [
    "app_data['DAYS_BIRTH'].dtype"
   ]
  },
  {
   "cell_type": "code",
   "execution_count": 51,
   "id": "8b8901f8",
   "metadata": {},
   "outputs": [],
   "source": [
    "#convert back to integer , storing in new column AGE and dividing by 365 to get age in years\n",
    "\n",
    "app_data['AGE'] = app_data['DAYS_BIRTH'].apply(lambda x: 0 if x=='0' else int(x[1:])//365)"
   ]
  },
  {
   "cell_type": "code",
   "execution_count": 52,
   "id": "68fe153e",
   "metadata": {},
   "outputs": [
    {
     "data": {
      "text/plain": [
       "38    8825\n",
       "37    8759\n",
       "39    8736\n",
       "40    8585\n",
       "36    8579\n",
       "41    8418\n",
       "27    8413\n",
       "31    8344\n",
       "43    8283\n",
       "42    8188\n",
       "28    7930\n",
       "32    7873\n",
       "44    7788\n",
       "35    7763\n",
       "30    7759\n",
       "33    7674\n",
       "29    7624\n",
       "34    7595\n",
       "54    7525\n",
       "53    7432\n",
       "46    7265\n",
       "45    7188\n",
       "47    6992\n",
       "48    6965\n",
       "56    6811\n",
       "57    6747\n",
       "52    6746\n",
       "51    6664\n",
       "55    6617\n",
       "59    6615\n",
       "49    6603\n",
       "50    6453\n",
       "58    6243\n",
       "60    6209\n",
       "62    5501\n",
       "61    5400\n",
       "63    5180\n",
       "64    5098\n",
       "26    4527\n",
       "25    4142\n",
       "23    4032\n",
       "24    3881\n",
       "65    3091\n",
       "22    2925\n",
       "66    2076\n",
       "67    2033\n",
       "21    1241\n",
       "68     852\n",
       "69      16\n",
       "20       1\n",
       "Name: AGE, dtype: int64"
      ]
     },
     "execution_count": 52,
     "metadata": {},
     "output_type": "execute_result"
    }
   ],
   "source": [
    "app_data['AGE'].value_counts()"
   ]
  },
  {
   "cell_type": "code",
   "execution_count": 53,
   "id": "831edab5",
   "metadata": {},
   "outputs": [
    {
     "data": {
      "text/plain": [
       "count    306207.000000\n",
       "mean         43.445940\n",
       "std          11.951545\n",
       "min          20.000000\n",
       "25%          34.000000\n",
       "50%          43.000000\n",
       "75%          53.000000\n",
       "max          69.000000\n",
       "Name: AGE, dtype: float64"
      ]
     },
     "execution_count": 53,
     "metadata": {},
     "output_type": "execute_result"
    }
   ],
   "source": [
    "app_data['AGE'].describe()"
   ]
  },
  {
   "cell_type": "code",
   "execution_count": 54,
   "id": "ac1c1a49",
   "metadata": {},
   "outputs": [
    {
     "data": {
      "image/png": "[encoded data removed]",
      "text/plain": [
       "<Figure size 432x288 with 1 Axes>"
      ]
     },
     "metadata": {
      "needs_background": "light"
     },
     "output_type": "display_data"
    }
   ],
   "source": [
    "app_data.AGE.plot.hist()\n",
    "plt.xlabel('Age')\n",
    "plt.show()"
   ]
  },
  {
   "cell_type": "code",
   "execution_count": 55,
   "id": "f3a5bb1f",
   "metadata": {},
   "outputs": [
    {
     "data": {
      "image/png": "[encoded data removed]",
      "text/plain": [
       "<Figure size 432x288 with 1 Axes>"
      ]
     },
     "metadata": {
      "needs_background": "light"
     },
     "output_type": "display_data"
    }
   ],
   "source": [
    "sns.boxplot(app_data['AGE'])\n",
    "plt.show()\n",
    "\n",
    "# data seems to be fine"
   ]
  },
  {
   "cell_type": "markdown",
   "id": "b0c41ad1",
   "metadata": {},
   "source": [
    "**DAYS_EMPLOYED column**"
   ]
  },
  {
   "cell_type": "code",
   "execution_count": 56,
   "id": "e476b598",
   "metadata": {},
   "outputs": [
    {
     "data": {
      "text/plain": [
       "dtype('int64')"
      ]
     },
     "execution_count": 56,
     "metadata": {},
     "output_type": "execute_result"
    }
   ],
   "source": [
    "app_data['DAYS_EMPLOYED'].dtype"
   ]
  },
  {
   "cell_type": "code",
   "execution_count": 57,
   "id": "52307c11",
   "metadata": {},
   "outputs": [],
   "source": [
    "# convert to string type\n",
    "\n",
    "app_data['DAYS_EMPLOYED'] = app_data['DAYS_EMPLOYED'].astype('str')"
   ]
  },
  {
   "cell_type": "markdown",
   "id": "6ac48696",
   "metadata": {},
   "source": [
    "- Converted to string variable because int objects cannot be indexed, in order to remove the special charactrer '-' from the values conversion into string variable was necessary."
   ]
  },
  {
   "cell_type": "code",
   "execution_count": 58,
   "id": "205c1e0a",
   "metadata": {},
   "outputs": [
    {
     "data": {
      "text/plain": [
       "dtype('O')"
      ]
     },
     "execution_count": 58,
     "metadata": {},
     "output_type": "execute_result"
    }
   ],
   "source": [
    "app_data['DAYS_EMPLOYED'].dtype"
   ]
  },
  {
   "cell_type": "code",
   "execution_count": 59,
   "id": "713472bd",
   "metadata": {},
   "outputs": [
    {
     "data": {
      "text/plain": [
       "365243    55178\n",
       "-200        154\n",
       "-199        150\n",
       "-224        150\n",
       "-230        148\n",
       "          ...  \n",
       "-12829        1\n",
       "-10           1\n",
       "-14311        1\n",
       "-10493        1\n",
       "-11687        1\n",
       "Name: DAYS_EMPLOYED, Length: 12566, dtype: int64"
      ]
     },
     "execution_count": 59,
     "metadata": {},
     "output_type": "execute_result"
    }
   ],
   "source": [
    "app_data['DAYS_EMPLOYED'].value_counts()"
   ]
  },
  {
   "cell_type": "code",
   "execution_count": 60,
   "id": "d6c15997",
   "metadata": {},
   "outputs": [],
   "source": [
    "# converting back to integer, storing in new column YEARS_EMPLOYED and dividing by 365 to get days in years\n",
    "\n",
    "app_data['YEARS_EMPLOYED'] = app_data['DAYS_EMPLOYED'].apply(lambda x: 0 if x=='0' else int(x[1:])//365)"
   ]
  },
  {
   "cell_type": "code",
   "execution_count": 61,
   "id": "5de7fc72",
   "metadata": {},
   "outputs": [
    {
     "data": {
      "text/plain": [
       "count    306207.000000\n",
       "mean         37.027168\n",
       "std          66.348220\n",
       "min           0.000000\n",
       "25%           2.000000\n",
       "50%           6.000000\n",
       "75%          15.000000\n",
       "max         178.000000\n",
       "Name: YEARS_EMPLOYED, dtype: float64"
      ]
     },
     "execution_count": 61,
     "metadata": {},
     "output_type": "execute_result"
    }
   ],
   "source": [
    "app_data['YEARS_EMPLOYED'].describe()"
   ]
  },
  {
   "cell_type": "code",
   "execution_count": 62,
   "id": "bee0b44d",
   "metadata": {},
   "outputs": [
    {
     "data": {
      "image/png": "[encoded data removed]",
      "text/plain": [
       "<Figure size 432x288 with 1 Axes>"
      ]
     },
     "metadata": {
      "needs_background": "light"
     },
     "output_type": "display_data"
    }
   ],
   "source": [
    "sns.boxplot(app_data['YEARS_EMPLOYED'])\n",
    "plt.show()"
   ]
  },
  {
   "cell_type": "code",
   "execution_count": 63,
   "id": "7e7230f9",
   "metadata": {},
   "outputs": [
    {
     "data": {
      "text/plain": [
       "0.50      6.0\n",
       "0.70     12.0\n",
       "0.80     25.0\n",
       "0.85    178.0\n",
       "0.90    178.0\n",
       "0.95    178.0\n",
       "0.99    178.0\n",
       "Name: YEARS_EMPLOYED, dtype: float64"
      ]
     },
     "execution_count": 63,
     "metadata": {},
     "output_type": "execute_result"
    }
   ],
   "source": [
    "app_data['YEARS_EMPLOYED'].quantile([.5,.7,.8,.85,.9,.95,.99])"
   ]
  },
  {
   "cell_type": "markdown",
   "id": "1c853343",
   "metadata": {},
   "source": [
    "- As we can see the number of years for which client is employed is a large as 178 years which is impossibe. Assume if a person is employed at the age of 21 and retire at the age of 60 the max number of years he/she can work is 39 years so any value beyond that could be an outlier for us.\n",
    "- We'll stick with binning, quantile, median for the analysis of this column"
   ]
  },
  {
   "cell_type": "markdown",
   "id": "43d51d7f",
   "metadata": {},
   "source": [
    "**CNT_CHILDREN column**"
   ]
  },
  {
   "cell_type": "code",
   "execution_count": 64,
   "id": "ae253ada",
   "metadata": {},
   "outputs": [
    {
     "data": {
      "text/plain": [
       "0     214463\n",
       "1      60855\n",
       "2      26639\n",
       "3       3697\n",
       "4        427\n",
       "5         84\n",
       "6         21\n",
       "7          7\n",
       "14         3\n",
       "8          2\n",
       "9          2\n",
       "10         2\n",
       "12         2\n",
       "19         2\n",
       "11         1\n",
       "Name: CNT_CHILDREN, dtype: int64"
      ]
     },
     "execution_count": 64,
     "metadata": {},
     "output_type": "execute_result"
    }
   ],
   "source": [
    "app_data['CNT_CHILDREN'].value_counts()"
   ]
  },
  {
   "cell_type": "code",
   "execution_count": 65,
   "id": "8f88c391",
   "metadata": {},
   "outputs": [
    {
     "data": {
      "image/png": "[encoded data removed]",
      "text/plain": [
       "<Figure size 432x288 with 1 Axes>"
      ]
     },
     "metadata": {
      "needs_background": "light"
     },
     "output_type": "display_data"
    }
   ],
   "source": [
    "# plotting boxplot for outliers\n",
    "\n",
    "sns.boxplot(app_data['CNT_CHILDREN'])\n",
    "plt.show()"
   ]
  },
  {
   "cell_type": "code",
   "execution_count": 66,
   "id": "42c69215",
   "metadata": {},
   "outputs": [
    {
     "data": {
      "text/plain": [
       "0.50    0.0\n",
       "0.70    0.0\n",
       "0.80    1.0\n",
       "0.90    2.0\n",
       "0.95    2.0\n",
       "0.99    3.0\n",
       "Name: CNT_CHILDREN, dtype: float64"
      ]
     },
     "execution_count": 66,
     "metadata": {},
     "output_type": "execute_result"
    }
   ],
   "source": [
    "app_data['CNT_CHILDREN'].quantile([.5,.7,.8,.9,.95,0.99])"
   ]
  },
  {
   "cell_type": "markdown",
   "id": "f1dcdde0",
   "metadata": {},
   "source": [
    "- We can see that outliers are present in this data as the number of children a client have are as high as 19 which does not make any sense. Our data shows that 99% have 3 kids so for our analysis any value beyond 3 is an outlier for us."
   ]
  },
  {
   "cell_type": "markdown",
   "id": "aaf90625",
   "metadata": {},
   "source": [
    "**CNT_FAM_MEMBERS cloumn**"
   ]
  },
  {
   "cell_type": "code",
   "execution_count": 67,
   "id": "d44fa10e",
   "metadata": {},
   "outputs": [
    {
     "data": {
      "text/plain": [
       "2     157739\n",
       "1      67514\n",
       "3      52368\n",
       "4      24599\n",
       "5       3459\n",
       "6        407\n",
       "7         81\n",
       "8         20\n",
       "9          6\n",
       "10         3\n",
       "12         2\n",
       "14         2\n",
       "16         2\n",
       "20         2\n",
       "11         1\n",
       "13         1\n",
       "15         1\n",
       "Name: CNT_FAM_MEMBERS, dtype: int64"
      ]
     },
     "execution_count": 67,
     "metadata": {},
     "output_type": "execute_result"
    }
   ],
   "source": [
    "app_data['CNT_FAM_MEMBERS'].value_counts()"
   ]
  },
  {
   "cell_type": "code",
   "execution_count": 68,
   "id": "cc21568b",
   "metadata": {},
   "outputs": [
    {
     "data": {
      "image/png": "[encoded data removed]",
      "text/plain": [
       "<Figure size 432x288 with 1 Axes>"
      ]
     },
     "metadata": {
      "needs_background": "light"
     },
     "output_type": "display_data"
    }
   ],
   "source": [
    "# looking for outlier using boxplot\n",
    "sns.boxplot(app_data['CNT_FAM_MEMBERS'])\n",
    "plt.show()"
   ]
  },
  {
   "cell_type": "code",
   "execution_count": 69,
   "id": "34fd55ca",
   "metadata": {},
   "outputs": [
    {
     "data": {
      "text/plain": [
       "0.50    2.0\n",
       "0.90    3.0\n",
       "0.95    4.0\n",
       "0.99    5.0\n",
       "Name: CNT_FAM_MEMBERS, dtype: float64"
      ]
     },
     "execution_count": 69,
     "metadata": {},
     "output_type": "execute_result"
    }
   ],
   "source": [
    "app_data['CNT_FAM_MEMBERS'].quantile([0.5,0.9,0.95,0.99])"
   ]
  },
  {
   "cell_type": "markdown",
   "id": "fb5d9bd9",
   "metadata": {},
   "source": [
    "- The count of family members in this case is as large as 20 which is unusual for our data as 99% of the data shows family member as 5 but there is possibility of client living in a joint family so removing it is not an option."
   ]
  },
  {
   "cell_type": "code",
   "execution_count": 70,
   "id": "5298ddd8",
   "metadata": {},
   "outputs": [
    {
     "data": {
      "text/plain": [
       "count    306207.000000\n",
       "mean          2.152802\n",
       "std           0.910596\n",
       "min           1.000000\n",
       "25%           2.000000\n",
       "50%           2.000000\n",
       "75%           3.000000\n",
       "max          20.000000\n",
       "Name: CNT_FAM_MEMBERS, dtype: float64"
      ]
     },
     "execution_count": 70,
     "metadata": {},
     "output_type": "execute_result"
    }
   ],
   "source": [
    "app_data['CNT_FAM_MEMBERS'].describe()"
   ]
  },
  {
   "cell_type": "markdown",
   "id": "71fa54ba",
   "metadata": {},
   "source": [
    "**NAME_CONTRACT_TYPE column**"
   ]
  },
  {
   "cell_type": "code",
   "execution_count": 71,
   "id": "ee2a08f9",
   "metadata": {},
   "outputs": [
    {
     "data": {
      "text/plain": [
       "Cash loans         277213\n",
       "Revolving loans     28994\n",
       "Name: NAME_CONTRACT_TYPE, dtype: int64"
      ]
     },
     "execution_count": 71,
     "metadata": {},
     "output_type": "execute_result"
    }
   ],
   "source": [
    "app_data['NAME_CONTRACT_TYPE'].value_counts()\n",
    "\n",
    "# no fixing required"
   ]
  },
  {
   "cell_type": "markdown",
   "id": "9bdf0aa7",
   "metadata": {},
   "source": [
    "**CODE_GENDER column**"
   ]
  },
  {
   "cell_type": "code",
   "execution_count": 72,
   "id": "6c3bc8cd",
   "metadata": {},
   "outputs": [
    {
     "data": {
      "text/plain": [
       "F      201635\n",
       "M      104568\n",
       "XNA         4\n",
       "Name: CODE_GENDER, dtype: int64"
      ]
     },
     "execution_count": 72,
     "metadata": {},
     "output_type": "execute_result"
    }
   ],
   "source": [
    "app_data['CODE_GENDER'].value_counts()"
   ]
  },
  {
   "cell_type": "code",
   "execution_count": 73,
   "id": "df615eb2",
   "metadata": {},
   "outputs": [],
   "source": [
    "# replacing xna with unknown\n",
    "app_data['CODE_GENDER'] = app_data['CODE_GENDER'].replace('XNA','Unknown')\n"
   ]
  },
  {
   "cell_type": "code",
   "execution_count": 74,
   "id": "0ad2b3b5",
   "metadata": {},
   "outputs": [
    {
     "data": {
      "text/plain": [
       "F          201635\n",
       "M          104568\n",
       "Unknown         4\n",
       "Name: CODE_GENDER, dtype: int64"
      ]
     },
     "execution_count": 74,
     "metadata": {},
     "output_type": "execute_result"
    }
   ],
   "source": [
    "app_data['CODE_GENDER'].value_counts()"
   ]
  },
  {
   "cell_type": "markdown",
   "id": "cd531407",
   "metadata": {},
   "source": [
    "**FLAG_OWN_CAR column**"
   ]
  },
  {
   "cell_type": "code",
   "execution_count": 75,
   "id": "493fd09c",
   "metadata": {},
   "outputs": [
    {
     "data": {
      "text/plain": [
       "N    202037\n",
       "Y    104170\n",
       "Name: FLAG_OWN_CAR, dtype: int64"
      ]
     },
     "execution_count": 75,
     "metadata": {},
     "output_type": "execute_result"
    }
   ],
   "source": [
    "app_data['FLAG_OWN_CAR'].value_counts()\n",
    "\n",
    "# no fixing required"
   ]
  },
  {
   "cell_type": "markdown",
   "id": "dccdfc0d",
   "metadata": {},
   "source": [
    "**FLAG_OWN_REALTY column**"
   ]
  },
  {
   "cell_type": "code",
   "execution_count": 76,
   "id": "8a119bef",
   "metadata": {},
   "outputs": [
    {
     "data": {
      "text/plain": [
       "Y    212843\n",
       "N     93364\n",
       "Name: FLAG_OWN_REALTY, dtype: int64"
      ]
     },
     "execution_count": 76,
     "metadata": {},
     "output_type": "execute_result"
    }
   ],
   "source": [
    "app_data['FLAG_OWN_REALTY'].value_counts()\n",
    "\n",
    "# no fixing required"
   ]
  },
  {
   "cell_type": "markdown",
   "id": "a0a3648f",
   "metadata": {},
   "source": [
    "**NAME_TYPE_SUITE column**"
   ]
  },
  {
   "cell_type": "code",
   "execution_count": 77,
   "id": "12cdab99",
   "metadata": {},
   "outputs": [
    {
     "data": {
      "text/plain": [
       "Unaccompanied      248515\n",
       "Family              40148\n",
       "Spouse, partner     11370\n",
       "Children             3267\n",
       "Other_B              1770\n",
       "Other_A               866\n",
       "Group of people       271\n",
       "Name: NAME_TYPE_SUITE, dtype: int64"
      ]
     },
     "execution_count": 77,
     "metadata": {},
     "output_type": "execute_result"
    }
   ],
   "source": [
    "app_data['NAME_TYPE_SUITE'].value_counts()\n"
   ]
  },
  {
   "cell_type": "code",
   "execution_count": 78,
   "id": "5686a4e8",
   "metadata": {},
   "outputs": [],
   "source": [
    "# replacing Spouse, partner with Spouse\n",
    "# replacing Other_B , Other_A, Group of people with Others to simplify understanding\n",
    "\n",
    "app_data['NAME_TYPE_SUITE'] = app_data['NAME_TYPE_SUITE'].replace('Spouse, partner','Spouse')\n",
    "app_data['NAME_TYPE_SUITE'] = app_data['NAME_TYPE_SUITE'].replace(['Other_B','Other_A','Group of people'],'Others')"
   ]
  },
  {
   "cell_type": "code",
   "execution_count": 79,
   "id": "35cd5585",
   "metadata": {},
   "outputs": [
    {
     "data": {
      "text/plain": [
       "Unaccompanied    248515\n",
       "Family            40148\n",
       "Spouse            11370\n",
       "Children           3267\n",
       "Others             2907\n",
       "Name: NAME_TYPE_SUITE, dtype: int64"
      ]
     },
     "execution_count": 79,
     "metadata": {},
     "output_type": "execute_result"
    }
   ],
   "source": [
    "# replaced values\n",
    "app_data['NAME_TYPE_SUITE'].value_counts()"
   ]
  },
  {
   "cell_type": "markdown",
   "id": "1dfb007b",
   "metadata": {},
   "source": [
    "**NAME_HOUSING_TYPE column**"
   ]
  },
  {
   "cell_type": "code",
   "execution_count": 80,
   "id": "24d995ea",
   "metadata": {},
   "outputs": [
    {
     "data": {
      "text/plain": [
       "House / apartment      271709\n",
       "With parents            14774\n",
       "Municipal apartment     11146\n",
       "Rented apartment         4862\n",
       "Office apartment         2603\n",
       "Co-op apartment          1113\n",
       "Name: NAME_HOUSING_TYPE, dtype: int64"
      ]
     },
     "execution_count": 80,
     "metadata": {},
     "output_type": "execute_result"
    }
   ],
   "source": [
    "app_data['NAME_HOUSING_TYPE'].value_counts()\n",
    "# no fixing required"
   ]
  },
  {
   "cell_type": "markdown",
   "id": "c129692d",
   "metadata": {},
   "source": [
    "**NAME_INCOME_TYPE column**"
   ]
  },
  {
   "cell_type": "code",
   "execution_count": 81,
   "id": "71661f5c",
   "metadata": {},
   "outputs": [
    {
     "data": {
      "text/plain": [
       "Working                 158126\n",
       "Commercial associate     71254\n",
       "Pensioner                55164\n",
       "State servant            21609\n",
       "Unemployed                  22\n",
       "Student                     17\n",
       "Businessman                 10\n",
       "Maternity leave              5\n",
       "Name: NAME_INCOME_TYPE, dtype: int64"
      ]
     },
     "execution_count": 81,
     "metadata": {},
     "output_type": "execute_result"
    }
   ],
   "source": [
    "app_data['NAME_INCOME_TYPE'].value_counts()\n",
    "\n",
    "# no fixing required"
   ]
  },
  {
   "cell_type": "markdown",
   "id": "69312573",
   "metadata": {},
   "source": [
    "**OCCUPATION_TYPE column**"
   ]
  },
  {
   "cell_type": "code",
   "execution_count": 82,
   "id": "9eb3a018",
   "metadata": {},
   "outputs": [
    {
     "data": {
      "text/plain": [
       "Missing                  96006\n",
       "Laborers                 54970\n",
       "Sales staff              31957\n",
       "Core staff               27426\n",
       "Managers                 21275\n",
       "Drivers                  18520\n",
       "High skill tech staff    11326\n",
       "Accountants               9768\n",
       "Medicine staff            8504\n",
       "Security staff            6694\n",
       "Cooking staff             5929\n",
       "Cleaning staff            4641\n",
       "Private service staff     2637\n",
       "Low-skill Laborers        2085\n",
       "Waiters/barmen staff      1340\n",
       "Secretaries               1300\n",
       "Realty agents              748\n",
       "HR staff                   559\n",
       "IT staff                   522\n",
       "Name: OCCUPATION_TYPE, dtype: int64"
      ]
     },
     "execution_count": 82,
     "metadata": {},
     "output_type": "execute_result"
    }
   ],
   "source": [
    "app_data['OCCUPATION_TYPE'].value_counts()\n",
    "\n",
    "# no fixing required"
   ]
  },
  {
   "cell_type": "markdown",
   "id": "a7cc8446",
   "metadata": {},
   "source": [
    "**ORGANIZATION_TYPE column**"
   ]
  },
  {
   "cell_type": "code",
   "execution_count": 83,
   "id": "7c9bdf1b",
   "metadata": {},
   "outputs": [
    {
     "data": {
      "text/plain": [
       "Business Entity Type 3    67683\n",
       "XNA                       55178\n",
       "Self-employed             38256\n",
       "Other                     16621\n",
       "Medicine                  11144\n",
       "Business Entity Type 2    10509\n",
       "Government                10356\n",
       "School                     8856\n",
       "Trade: type 7              7798\n",
       "Kindergarten               6853\n",
       "Construction               6692\n",
       "Business Entity Type 1     5962\n",
       "Transport: type 4          5374\n",
       "Trade: type 3              3471\n",
       "Industry: type 9           3345\n",
       "Industry: type 3           3269\n",
       "Security                   3228\n",
       "Housing                    2941\n",
       "Industry: type 11          2698\n",
       "Military                   2621\n",
       "Bank                       2484\n",
       "Agriculture                2446\n",
       "Police                     2331\n",
       "Transport: type 2          2191\n",
       "Postal                     2152\n",
       "Security Ministries        1965\n",
       "Trade: type 2              1887\n",
       "Restaurant                 1800\n",
       "Services                   1568\n",
       "University                 1322\n",
       "Industry: type 7           1301\n",
       "Transport: type 3          1181\n",
       "Industry: type 1           1038\n",
       "Hotel                       963\n",
       "Electricity                 944\n",
       "Industry: type 4            877\n",
       "Trade: type 6               628\n",
       "Insurance                   595\n",
       "Industry: type 5            595\n",
       "Telecom                     572\n",
       "Emergency                   555\n",
       "Industry: type 2            457\n",
       "Advertising                 429\n",
       "Realtor                     394\n",
       "Culture                     375\n",
       "Industry: type 12           369\n",
       "Trade: type 1               345\n",
       "Mobile                      316\n",
       "Legal Services              304\n",
       "Cleaning                    259\n",
       "Transport: type 1           200\n",
       "Industry: type 6            112\n",
       "Industry: type 10           109\n",
       "Religion                     85\n",
       "Industry: type 13            66\n",
       "Trade: type 4                64\n",
       "Trade: type 5                49\n",
       "Industry: type 8             24\n",
       "Name: ORGANIZATION_TYPE, dtype: int64"
      ]
     },
     "execution_count": 83,
     "metadata": {},
     "output_type": "execute_result"
    }
   ],
   "source": [
    "app_data['ORGANIZATION_TYPE'].value_counts()"
   ]
  },
  {
   "cell_type": "code",
   "execution_count": 84,
   "id": "d6385812",
   "metadata": {},
   "outputs": [],
   "source": [
    "# replacing xna,other with others\n",
    "app_data['ORGANIZATION_TYPE'] = app_data['ORGANIZATION_TYPE'].replace(['XNA','Other'],'Others')"
   ]
  },
  {
   "cell_type": "code",
   "execution_count": 85,
   "id": "610b8a3e",
   "metadata": {},
   "outputs": [
    {
     "data": {
      "text/plain": [
       "Others                    71799\n",
       "Business Entity Type 3    67683\n",
       "Self-employed             38256\n",
       "Medicine                  11144\n",
       "Business Entity Type 2    10509\n",
       "Government                10356\n",
       "School                     8856\n",
       "Trade: type 7              7798\n",
       "Kindergarten               6853\n",
       "Construction               6692\n",
       "Business Entity Type 1     5962\n",
       "Transport: type 4          5374\n",
       "Trade: type 3              3471\n",
       "Industry: type 9           3345\n",
       "Industry: type 3           3269\n",
       "Security                   3228\n",
       "Housing                    2941\n",
       "Industry: type 11          2698\n",
       "Military                   2621\n",
       "Bank                       2484\n",
       "Agriculture                2446\n",
       "Police                     2331\n",
       "Transport: type 2          2191\n",
       "Postal                     2152\n",
       "Security Ministries        1965\n",
       "Trade: type 2              1887\n",
       "Restaurant                 1800\n",
       "Services                   1568\n",
       "University                 1322\n",
       "Industry: type 7           1301\n",
       "Transport: type 3          1181\n",
       "Industry: type 1           1038\n",
       "Hotel                       963\n",
       "Electricity                 944\n",
       "Industry: type 4            877\n",
       "Trade: type 6               628\n",
       "Insurance                   595\n",
       "Industry: type 5            595\n",
       "Telecom                     572\n",
       "Emergency                   555\n",
       "Industry: type 2            457\n",
       "Advertising                 429\n",
       "Realtor                     394\n",
       "Culture                     375\n",
       "Industry: type 12           369\n",
       "Trade: type 1               345\n",
       "Mobile                      316\n",
       "Legal Services              304\n",
       "Cleaning                    259\n",
       "Transport: type 1           200\n",
       "Industry: type 6            112\n",
       "Industry: type 10           109\n",
       "Religion                     85\n",
       "Industry: type 13            66\n",
       "Trade: type 4                64\n",
       "Trade: type 5                49\n",
       "Industry: type 8             24\n",
       "Name: ORGANIZATION_TYPE, dtype: int64"
      ]
     },
     "execution_count": 85,
     "metadata": {},
     "output_type": "execute_result"
    }
   ],
   "source": [
    "app_data['ORGANIZATION_TYPE'].value_counts()"
   ]
  },
  {
   "cell_type": "markdown",
   "id": "59887cbc",
   "metadata": {},
   "source": [
    "**AMT_INCOME_TOTAL column**"
   ]
  },
  {
   "cell_type": "code",
   "execution_count": 86,
   "id": "5c76daa4",
   "metadata": {},
   "outputs": [
    {
     "data": {
      "text/plain": [
       "count    3.062070e+05\n",
       "mean     1.687825e+05\n",
       "std      2.375206e+05\n",
       "min      2.565000e+04\n",
       "25%      1.125000e+05\n",
       "50%      1.476000e+05\n",
       "75%      2.025000e+05\n",
       "max      1.170000e+08\n",
       "Name: AMT_INCOME_TOTAL, dtype: float64"
      ]
     },
     "execution_count": 86,
     "metadata": {},
     "output_type": "execute_result"
    }
   ],
   "source": [
    "app_data['AMT_INCOME_TOTAL'].describe()"
   ]
  },
  {
   "cell_type": "code",
   "execution_count": 88,
   "id": "addfeef2",
   "metadata": {},
   "outputs": [
    {
     "data": {
      "image/png": "[encoded data removed]",
      "text/plain": [
       "<Figure size 432x288 with 1 Axes>"
      ]
     },
     "metadata": {
      "needs_background": "light"
     },
     "output_type": "display_data"
    }
   ],
   "source": [
    "# outlier->boxplot\n",
    "sns.boxplot(app_data['AMT_INCOME_TOTAL'])\n",
    "plt.show()"
   ]
  },
  {
   "cell_type": "code",
   "execution_count": 89,
   "id": "e5d714ca",
   "metadata": {},
   "outputs": [
    {
     "data": {
      "image/png": "[encoded data removed]",
      "text/plain": [
       "<Figure size 432x288 with 1 Axes>"
      ]
     },
     "metadata": {
      "needs_background": "light"
     },
     "output_type": "display_data"
    }
   ],
   "source": [
    "# outlier->histogram\n",
    "plt.hist(app_data['AMT_INCOME_TOTAL'])\n",
    "plt.show()"
   ]
  },
  {
   "cell_type": "code",
   "execution_count": 90,
   "id": "0b47886e",
   "metadata": {},
   "outputs": [
    {
     "data": {
      "text/plain": [
       "0.00        25650.0\n",
       "0.50       147600.0\n",
       "0.90       270000.0\n",
       "0.95       337500.0\n",
       "0.99       472500.0\n",
       "1.00    117000000.0\n",
       "Name: AMT_INCOME_TOTAL, dtype: float64"
      ]
     },
     "execution_count": 90,
     "metadata": {},
     "output_type": "execute_result"
    }
   ],
   "source": [
    "#looking ast quantile\n",
    "app_data['AMT_INCOME_TOTAL'].quantile([0,.5,.9,0.95,0.99,1])"
   ]
  },
  {
   "cell_type": "markdown",
   "id": "9373cdd0",
   "metadata": {},
   "source": [
    "- As we can see the highest income of a client is more than 117million v/s the highest credit provided is close to 405K which means there is an outlier. Looking at the quantiles 99% of the income lies within 473K but there is possibility that a person is earning 117m so, for this particular data set anything beyond 473k will be treated as an outlier and removing it is not a good option.\n",
    "\n",
    "\n",
    "- we'll use binning, median, quantile technique for the analysis of this particular variable"
   ]
  },
  {
   "cell_type": "code",
   "execution_count": 91,
   "id": "cd2e32ce",
   "metadata": {},
   "outputs": [
    {
     "data": {
      "text/html": [
       "<div>\n",
       "<style scoped>\n",
       "    .dataframe tbody tr th:only-of-type {\n",
       "        vertical-align: middle;\n",
       "    }\n",
       "\n",
       "    .dataframe tbody tr th {\n",
       "        vertical-align: top;\n",
       "    }\n",
       "\n",
       "    .dataframe thead th {\n",
       "        text-align: right;\n",
       "    }\n",
       "</style>\n",
       "<table border=\"1\" class=\"dataframe\">\n",
       "  <thead>\n",
       "    <tr style=\"text-align: right;\">\n",
       "      <th></th>\n",
       "      <th>SK_ID_CURR</th>\n",
       "      <th>TARGET</th>\n",
       "      <th>NAME_CONTRACT_TYPE</th>\n",
       "      <th>CODE_GENDER</th>\n",
       "      <th>FLAG_OWN_CAR</th>\n",
       "      <th>FLAG_OWN_REALTY</th>\n",
       "      <th>CNT_CHILDREN</th>\n",
       "      <th>AMT_INCOME_TOTAL</th>\n",
       "      <th>AMT_CREDIT</th>\n",
       "      <th>AMT_ANNUITY</th>\n",
       "      <th>...</th>\n",
       "      <th>DAYS_BIRTH</th>\n",
       "      <th>DAYS_EMPLOYED</th>\n",
       "      <th>FLAG_CONT_MOBILE</th>\n",
       "      <th>OCCUPATION_TYPE</th>\n",
       "      <th>CNT_FAM_MEMBERS</th>\n",
       "      <th>REGION_RATING_CLIENT</th>\n",
       "      <th>REGION_RATING_CLIENT_W_CITY</th>\n",
       "      <th>ORGANIZATION_TYPE</th>\n",
       "      <th>AGE</th>\n",
       "      <th>YEARS_EMPLOYED</th>\n",
       "    </tr>\n",
       "  </thead>\n",
       "  <tbody>\n",
       "    <tr>\n",
       "      <th>22</th>\n",
       "      <td>100026</td>\n",
       "      <td>0</td>\n",
       "      <td>Cash loans</td>\n",
       "      <td>F</td>\n",
       "      <td>N</td>\n",
       "      <td>N</td>\n",
       "      <td>1</td>\n",
       "      <td>450000.0</td>\n",
       "      <td>497520.0</td>\n",
       "      <td>32521.5</td>\n",
       "      <td>...</td>\n",
       "      <td>-11146</td>\n",
       "      <td>-4306</td>\n",
       "      <td>1</td>\n",
       "      <td>Sales staff</td>\n",
       "      <td>3</td>\n",
       "      <td>3</td>\n",
       "      <td>2</td>\n",
       "      <td>Self-employed</td>\n",
       "      <td>30</td>\n",
       "      <td>11</td>\n",
       "    </tr>\n",
       "    <tr>\n",
       "      <th>51</th>\n",
       "      <td>100059</td>\n",
       "      <td>0</td>\n",
       "      <td>Cash loans</td>\n",
       "      <td>M</td>\n",
       "      <td>Y</td>\n",
       "      <td>Y</td>\n",
       "      <td>1</td>\n",
       "      <td>540000.0</td>\n",
       "      <td>675000.0</td>\n",
       "      <td>34596.0</td>\n",
       "      <td>...</td>\n",
       "      <td>-18632</td>\n",
       "      <td>-6977</td>\n",
       "      <td>1</td>\n",
       "      <td>Managers</td>\n",
       "      <td>3</td>\n",
       "      <td>2</td>\n",
       "      <td>2</td>\n",
       "      <td>Services</td>\n",
       "      <td>51</td>\n",
       "      <td>19</td>\n",
       "    </tr>\n",
       "    <tr>\n",
       "      <th>59</th>\n",
       "      <td>100070</td>\n",
       "      <td>0</td>\n",
       "      <td>Cash loans</td>\n",
       "      <td>M</td>\n",
       "      <td>Y</td>\n",
       "      <td>Y</td>\n",
       "      <td>0</td>\n",
       "      <td>540000.0</td>\n",
       "      <td>1227901.5</td>\n",
       "      <td>46899.0</td>\n",
       "      <td>...</td>\n",
       "      <td>-20544</td>\n",
       "      <td>-2091</td>\n",
       "      <td>1</td>\n",
       "      <td>Managers</td>\n",
       "      <td>1</td>\n",
       "      <td>1</td>\n",
       "      <td>1</td>\n",
       "      <td>Business Entity Type 3</td>\n",
       "      <td>56</td>\n",
       "      <td>5</td>\n",
       "    </tr>\n",
       "    <tr>\n",
       "      <th>142</th>\n",
       "      <td>100164</td>\n",
       "      <td>0</td>\n",
       "      <td>Cash loans</td>\n",
       "      <td>F</td>\n",
       "      <td>Y</td>\n",
       "      <td>N</td>\n",
       "      <td>1</td>\n",
       "      <td>450000.0</td>\n",
       "      <td>407434.5</td>\n",
       "      <td>43362.0</td>\n",
       "      <td>...</td>\n",
       "      <td>-16097</td>\n",
       "      <td>-2630</td>\n",
       "      <td>1</td>\n",
       "      <td>Core staff</td>\n",
       "      <td>3</td>\n",
       "      <td>3</td>\n",
       "      <td>3</td>\n",
       "      <td>Self-employed</td>\n",
       "      <td>44</td>\n",
       "      <td>7</td>\n",
       "    </tr>\n",
       "    <tr>\n",
       "      <th>280</th>\n",
       "      <td>100323</td>\n",
       "      <td>0</td>\n",
       "      <td>Cash loans</td>\n",
       "      <td>M</td>\n",
       "      <td>Y</td>\n",
       "      <td>Y</td>\n",
       "      <td>0</td>\n",
       "      <td>450000.0</td>\n",
       "      <td>1575000.0</td>\n",
       "      <td>55800.0</td>\n",
       "      <td>...</td>\n",
       "      <td>-18213</td>\n",
       "      <td>-2363</td>\n",
       "      <td>1</td>\n",
       "      <td>Managers</td>\n",
       "      <td>2</td>\n",
       "      <td>2</td>\n",
       "      <td>2</td>\n",
       "      <td>Business Entity Type 3</td>\n",
       "      <td>49</td>\n",
       "      <td>6</td>\n",
       "    </tr>\n",
       "    <tr>\n",
       "      <th>...</th>\n",
       "      <td>...</td>\n",
       "      <td>...</td>\n",
       "      <td>...</td>\n",
       "      <td>...</td>\n",
       "      <td>...</td>\n",
       "      <td>...</td>\n",
       "      <td>...</td>\n",
       "      <td>...</td>\n",
       "      <td>...</td>\n",
       "      <td>...</td>\n",
       "      <td>...</td>\n",
       "      <td>...</td>\n",
       "      <td>...</td>\n",
       "      <td>...</td>\n",
       "      <td>...</td>\n",
       "      <td>...</td>\n",
       "      <td>...</td>\n",
       "      <td>...</td>\n",
       "      <td>...</td>\n",
       "      <td>...</td>\n",
       "      <td>...</td>\n",
       "    </tr>\n",
       "    <tr>\n",
       "      <th>307274</th>\n",
       "      <td>455991</td>\n",
       "      <td>0</td>\n",
       "      <td>Cash loans</td>\n",
       "      <td>M</td>\n",
       "      <td>Y</td>\n",
       "      <td>Y</td>\n",
       "      <td>2</td>\n",
       "      <td>450000.0</td>\n",
       "      <td>495000.0</td>\n",
       "      <td>36148.5</td>\n",
       "      <td>...</td>\n",
       "      <td>-13456</td>\n",
       "      <td>-3147</td>\n",
       "      <td>1</td>\n",
       "      <td>Managers</td>\n",
       "      <td>4</td>\n",
       "      <td>2</td>\n",
       "      <td>2</td>\n",
       "      <td>Self-employed</td>\n",
       "      <td>36</td>\n",
       "      <td>8</td>\n",
       "    </tr>\n",
       "    <tr>\n",
       "      <th>307440</th>\n",
       "      <td>456178</td>\n",
       "      <td>0</td>\n",
       "      <td>Cash loans</td>\n",
       "      <td>F</td>\n",
       "      <td>N</td>\n",
       "      <td>Y</td>\n",
       "      <td>0</td>\n",
       "      <td>440100.0</td>\n",
       "      <td>713889.0</td>\n",
       "      <td>45751.5</td>\n",
       "      <td>...</td>\n",
       "      <td>-18047</td>\n",
       "      <td>-1886</td>\n",
       "      <td>1</td>\n",
       "      <td>Managers</td>\n",
       "      <td>2</td>\n",
       "      <td>1</td>\n",
       "      <td>1</td>\n",
       "      <td>Business Entity Type 3</td>\n",
       "      <td>49</td>\n",
       "      <td>5</td>\n",
       "    </tr>\n",
       "    <tr>\n",
       "      <th>307451</th>\n",
       "      <td>456190</td>\n",
       "      <td>0</td>\n",
       "      <td>Cash loans</td>\n",
       "      <td>M</td>\n",
       "      <td>Y</td>\n",
       "      <td>N</td>\n",
       "      <td>1</td>\n",
       "      <td>450000.0</td>\n",
       "      <td>545040.0</td>\n",
       "      <td>25407.0</td>\n",
       "      <td>...</td>\n",
       "      <td>-11523</td>\n",
       "      <td>-2500</td>\n",
       "      <td>1</td>\n",
       "      <td>Core staff</td>\n",
       "      <td>3</td>\n",
       "      <td>2</td>\n",
       "      <td>2</td>\n",
       "      <td>Police</td>\n",
       "      <td>31</td>\n",
       "      <td>6</td>\n",
       "    </tr>\n",
       "    <tr>\n",
       "      <th>307484</th>\n",
       "      <td>456228</td>\n",
       "      <td>0</td>\n",
       "      <td>Cash loans</td>\n",
       "      <td>F</td>\n",
       "      <td>Y</td>\n",
       "      <td>N</td>\n",
       "      <td>0</td>\n",
       "      <td>540000.0</td>\n",
       "      <td>545040.0</td>\n",
       "      <td>35617.5</td>\n",
       "      <td>...</td>\n",
       "      <td>-12847</td>\n",
       "      <td>-328</td>\n",
       "      <td>1</td>\n",
       "      <td>Managers</td>\n",
       "      <td>2</td>\n",
       "      <td>1</td>\n",
       "      <td>1</td>\n",
       "      <td>Business Entity Type 3</td>\n",
       "      <td>35</td>\n",
       "      <td>0</td>\n",
       "    </tr>\n",
       "    <tr>\n",
       "      <th>307492</th>\n",
       "      <td>456236</td>\n",
       "      <td>0</td>\n",
       "      <td>Cash loans</td>\n",
       "      <td>M</td>\n",
       "      <td>Y</td>\n",
       "      <td>Y</td>\n",
       "      <td>0</td>\n",
       "      <td>585000.0</td>\n",
       "      <td>1575000.0</td>\n",
       "      <td>43443.0</td>\n",
       "      <td>...</td>\n",
       "      <td>-20965</td>\n",
       "      <td>-1618</td>\n",
       "      <td>1</td>\n",
       "      <td>Sales staff</td>\n",
       "      <td>2</td>\n",
       "      <td>2</td>\n",
       "      <td>2</td>\n",
       "      <td>Self-employed</td>\n",
       "      <td>57</td>\n",
       "      <td>4</td>\n",
       "    </tr>\n",
       "  </tbody>\n",
       "</table>\n",
       "<p>5671 rows × 27 columns</p>\n",
       "</div>"
      ],
      "text/plain": [
       "        SK_ID_CURR  TARGET NAME_CONTRACT_TYPE CODE_GENDER FLAG_OWN_CAR  \\\n",
       "22          100026       0         Cash loans           F            N   \n",
       "51          100059       0         Cash loans           M            Y   \n",
       "59          100070       0         Cash loans           M            Y   \n",
       "142         100164       0         Cash loans           F            Y   \n",
       "280         100323       0         Cash loans           M            Y   \n",
       "...            ...     ...                ...         ...          ...   \n",
       "307274      455991       0         Cash loans           M            Y   \n",
       "307440      456178       0         Cash loans           F            N   \n",
       "307451      456190       0         Cash loans           M            Y   \n",
       "307484      456228       0         Cash loans           F            Y   \n",
       "307492      456236       0         Cash loans           M            Y   \n",
       "\n",
       "       FLAG_OWN_REALTY  CNT_CHILDREN  AMT_INCOME_TOTAL  AMT_CREDIT  \\\n",
       "22                   N             1          450000.0    497520.0   \n",
       "51                   Y             1          540000.0    675000.0   \n",
       "59                   Y             0          540000.0   1227901.5   \n",
       "142                  N             1          450000.0    407434.5   \n",
       "280                  Y             0          450000.0   1575000.0   \n",
       "...                ...           ...               ...         ...   \n",
       "307274               Y             2          450000.0    495000.0   \n",
       "307440               Y             0          440100.0    713889.0   \n",
       "307451               N             1          450000.0    545040.0   \n",
       "307484               N             0          540000.0    545040.0   \n",
       "307492               Y             0          585000.0   1575000.0   \n",
       "\n",
       "        AMT_ANNUITY  ...  DAYS_BIRTH DAYS_EMPLOYED FLAG_CONT_MOBILE  \\\n",
       "22          32521.5  ...      -11146         -4306                1   \n",
       "51          34596.0  ...      -18632         -6977                1   \n",
       "59          46899.0  ...      -20544         -2091                1   \n",
       "142         43362.0  ...      -16097         -2630                1   \n",
       "280         55800.0  ...      -18213         -2363                1   \n",
       "...             ...  ...         ...           ...              ...   \n",
       "307274      36148.5  ...      -13456         -3147                1   \n",
       "307440      45751.5  ...      -18047         -1886                1   \n",
       "307451      25407.0  ...      -11523         -2500                1   \n",
       "307484      35617.5  ...      -12847          -328                1   \n",
       "307492      43443.0  ...      -20965         -1618                1   \n",
       "\n",
       "       OCCUPATION_TYPE CNT_FAM_MEMBERS REGION_RATING_CLIENT  \\\n",
       "22         Sales staff               3                    3   \n",
       "51            Managers               3                    2   \n",
       "59            Managers               1                    1   \n",
       "142         Core staff               3                    3   \n",
       "280           Managers               2                    2   \n",
       "...                ...             ...                  ...   \n",
       "307274        Managers               4                    2   \n",
       "307440        Managers               2                    1   \n",
       "307451      Core staff               3                    2   \n",
       "307484        Managers               2                    1   \n",
       "307492     Sales staff               2                    2   \n",
       "\n",
       "        REGION_RATING_CLIENT_W_CITY       ORGANIZATION_TYPE AGE  \\\n",
       "22                                2           Self-employed  30   \n",
       "51                                2                Services  51   \n",
       "59                                1  Business Entity Type 3  56   \n",
       "142                               3           Self-employed  44   \n",
       "280                               2  Business Entity Type 3  49   \n",
       "...                             ...                     ...  ..   \n",
       "307274                            2           Self-employed  36   \n",
       "307440                            1  Business Entity Type 3  49   \n",
       "307451                            2                  Police  31   \n",
       "307484                            1  Business Entity Type 3  35   \n",
       "307492                            2           Self-employed  57   \n",
       "\n",
       "        YEARS_EMPLOYED  \n",
       "22                  11  \n",
       "51                  19  \n",
       "59                   5  \n",
       "142                  7  \n",
       "280                  6  \n",
       "...                ...  \n",
       "307274               8  \n",
       "307440               5  \n",
       "307451               6  \n",
       "307484               0  \n",
       "307492               4  \n",
       "\n",
       "[5671 rows x 27 columns]"
      ]
     },
     "execution_count": 91,
     "metadata": {},
     "output_type": "execute_result"
    }
   ],
   "source": [
    "# outlier data\n",
    "app_data[app_data['AMT_INCOME_TOTAL']>=437000]"
   ]
  },
  {
   "cell_type": "markdown",
   "id": "e6fe41eb",
   "metadata": {},
   "source": [
    "### Data Imbalance check"
   ]
  },
  {
   "cell_type": "code",
   "execution_count": 92,
   "id": "de028ab3",
   "metadata": {},
   "outputs": [
    {
     "data": {
      "text/plain": [
       "0    91.9156\n",
       "1     8.0844\n",
       "Name: TARGET, dtype: float64"
      ]
     },
     "execution_count": 92,
     "metadata": {},
     "output_type": "execute_result"
    }
   ],
   "source": [
    "app_data['TARGET'].value_counts(normalize=True)*100"
   ]
  },
  {
   "cell_type": "code",
   "execution_count": 93,
   "id": "249a0e6f",
   "metadata": {},
   "outputs": [
    {
     "data": {
      "image/png": "[encoded data removed]",
      "text/plain": [
       "<Figure size 432x288 with 1 Axes>"
      ]
     },
     "metadata": {},
     "output_type": "display_data"
    }
   ],
   "source": [
    "(app_data['TARGET'].value_counts(normalize=True)*100).plot.pie(autopct='%1.1f%%')\n",
    "plt.show()"
   ]
  },
  {
   "cell_type": "markdown",
   "id": "46ea291d",
   "metadata": {},
   "source": [
    "- We can see that around **8%** of the borrower have defaulted/ have payment difficulties or we can say that the non-defaulters are **11x+** compared to defaulters which is clearly an indication of data imbalance."
   ]
  },
  {
   "cell_type": "markdown",
   "id": "b900b078",
   "metadata": {},
   "source": [
    "<h2 style=color:brown> Objective: </h2> \n",
    "\n",
    "- to find the **driving factors(driver variables)** behind loan default. "
   ]
  },
  {
   "cell_type": "markdown",
   "id": "bd40e622",
   "metadata": {},
   "source": [
    "### Univariate Analysis"
   ]
  },
  {
   "cell_type": "markdown",
   "id": "8fea5d2d",
   "metadata": {},
   "source": [
    "#### Categorical"
   ]
  },
  {
   "cell_type": "code",
   "execution_count": 94,
   "id": "47d37101",
   "metadata": {},
   "outputs": [
    {
     "data": {
      "text/plain": [
       "SK_ID_CURR                       int64\n",
       "TARGET                           int64\n",
       "NAME_CONTRACT_TYPE              object\n",
       "CODE_GENDER                     object\n",
       "FLAG_OWN_CAR                    object\n",
       "FLAG_OWN_REALTY                 object\n",
       "CNT_CHILDREN                     int64\n",
       "AMT_INCOME_TOTAL               float64\n",
       "AMT_CREDIT                     float64\n",
       "AMT_ANNUITY                    float64\n",
       "AMT_GOODS_PRICE                float64\n",
       "NAME_TYPE_SUITE                 object\n",
       "NAME_INCOME_TYPE                object\n",
       "NAME_EDUCATION_TYPE             object\n",
       "NAME_FAMILY_STATUS              object\n",
       "NAME_HOUSING_TYPE               object\n",
       "REGION_POPULATION_RELATIVE     float64\n",
       "DAYS_BIRTH                      object\n",
       "DAYS_EMPLOYED                   object\n",
       "FLAG_CONT_MOBILE                 int64\n",
       "OCCUPATION_TYPE                 object\n",
       "CNT_FAM_MEMBERS                  int32\n",
       "REGION_RATING_CLIENT             int64\n",
       "REGION_RATING_CLIENT_W_CITY      int64\n",
       "ORGANIZATION_TYPE               object\n",
       "AGE                              int64\n",
       "YEARS_EMPLOYED                   int64\n",
       "dtype: object"
      ]
     },
     "execution_count": 94,
     "metadata": {},
     "output_type": "execute_result"
    }
   ],
   "source": [
    "app_data.dtypes"
   ]
  },
  {
   "cell_type": "markdown",
   "id": "6156844d",
   "metadata": {},
   "source": [
    "**segmenting data**"
   ]
  },
  {
   "cell_type": "code",
   "execution_count": 95,
   "id": "a7a7e8a2",
   "metadata": {},
   "outputs": [],
   "source": [
    "app_1 = app_data[app_data['TARGET']==1]\n",
    "app_0 = app_data[app_data['TARGET']==0]"
   ]
  },
  {
   "cell_type": "code",
   "execution_count": 96,
   "id": "e5c505a2",
   "metadata": {},
   "outputs": [
    {
     "data": {
      "text/html": [
       "<div>\n",
       "<style scoped>\n",
       "    .dataframe tbody tr th:only-of-type {\n",
       "        vertical-align: middle;\n",
       "    }\n",
       "\n",
       "    .dataframe tbody tr th {\n",
       "        vertical-align: top;\n",
       "    }\n",
       "\n",
       "    .dataframe thead th {\n",
       "        text-align: right;\n",
       "    }\n",
       "</style>\n",
       "<table border=\"1\" class=\"dataframe\">\n",
       "  <thead>\n",
       "    <tr style=\"text-align: right;\">\n",
       "      <th></th>\n",
       "      <th>SK_ID_CURR</th>\n",
       "      <th>TARGET</th>\n",
       "      <th>NAME_CONTRACT_TYPE</th>\n",
       "      <th>CODE_GENDER</th>\n",
       "      <th>FLAG_OWN_CAR</th>\n",
       "      <th>FLAG_OWN_REALTY</th>\n",
       "      <th>CNT_CHILDREN</th>\n",
       "      <th>AMT_INCOME_TOTAL</th>\n",
       "      <th>AMT_CREDIT</th>\n",
       "      <th>AMT_ANNUITY</th>\n",
       "      <th>...</th>\n",
       "      <th>DAYS_BIRTH</th>\n",
       "      <th>DAYS_EMPLOYED</th>\n",
       "      <th>FLAG_CONT_MOBILE</th>\n",
       "      <th>OCCUPATION_TYPE</th>\n",
       "      <th>CNT_FAM_MEMBERS</th>\n",
       "      <th>REGION_RATING_CLIENT</th>\n",
       "      <th>REGION_RATING_CLIENT_W_CITY</th>\n",
       "      <th>ORGANIZATION_TYPE</th>\n",
       "      <th>AGE</th>\n",
       "      <th>YEARS_EMPLOYED</th>\n",
       "    </tr>\n",
       "  </thead>\n",
       "  <tbody>\n",
       "    <tr>\n",
       "      <th>0</th>\n",
       "      <td>100002</td>\n",
       "      <td>1</td>\n",
       "      <td>Cash loans</td>\n",
       "      <td>M</td>\n",
       "      <td>N</td>\n",
       "      <td>Y</td>\n",
       "      <td>0</td>\n",
       "      <td>202500.0</td>\n",
       "      <td>406597.5</td>\n",
       "      <td>24700.5</td>\n",
       "      <td>...</td>\n",
       "      <td>-9461</td>\n",
       "      <td>-637</td>\n",
       "      <td>1</td>\n",
       "      <td>Laborers</td>\n",
       "      <td>1</td>\n",
       "      <td>2</td>\n",
       "      <td>2</td>\n",
       "      <td>Business Entity Type 3</td>\n",
       "      <td>25</td>\n",
       "      <td>1</td>\n",
       "    </tr>\n",
       "    <tr>\n",
       "      <th>26</th>\n",
       "      <td>100031</td>\n",
       "      <td>1</td>\n",
       "      <td>Cash loans</td>\n",
       "      <td>F</td>\n",
       "      <td>N</td>\n",
       "      <td>Y</td>\n",
       "      <td>0</td>\n",
       "      <td>112500.0</td>\n",
       "      <td>979992.0</td>\n",
       "      <td>27076.5</td>\n",
       "      <td>...</td>\n",
       "      <td>-18724</td>\n",
       "      <td>-2628</td>\n",
       "      <td>1</td>\n",
       "      <td>Cooking staff</td>\n",
       "      <td>1</td>\n",
       "      <td>3</td>\n",
       "      <td>2</td>\n",
       "      <td>Business Entity Type 3</td>\n",
       "      <td>51</td>\n",
       "      <td>7</td>\n",
       "    </tr>\n",
       "    <tr>\n",
       "      <th>40</th>\n",
       "      <td>100047</td>\n",
       "      <td>1</td>\n",
       "      <td>Cash loans</td>\n",
       "      <td>M</td>\n",
       "      <td>N</td>\n",
       "      <td>Y</td>\n",
       "      <td>0</td>\n",
       "      <td>202500.0</td>\n",
       "      <td>1193580.0</td>\n",
       "      <td>35028.0</td>\n",
       "      <td>...</td>\n",
       "      <td>-17482</td>\n",
       "      <td>-1262</td>\n",
       "      <td>1</td>\n",
       "      <td>Laborers</td>\n",
       "      <td>2</td>\n",
       "      <td>2</td>\n",
       "      <td>2</td>\n",
       "      <td>Business Entity Type 3</td>\n",
       "      <td>47</td>\n",
       "      <td>3</td>\n",
       "    </tr>\n",
       "    <tr>\n",
       "      <th>42</th>\n",
       "      <td>100049</td>\n",
       "      <td>1</td>\n",
       "      <td>Cash loans</td>\n",
       "      <td>F</td>\n",
       "      <td>N</td>\n",
       "      <td>N</td>\n",
       "      <td>0</td>\n",
       "      <td>135000.0</td>\n",
       "      <td>288873.0</td>\n",
       "      <td>16258.5</td>\n",
       "      <td>...</td>\n",
       "      <td>-13384</td>\n",
       "      <td>-3597</td>\n",
       "      <td>1</td>\n",
       "      <td>Sales staff</td>\n",
       "      <td>2</td>\n",
       "      <td>3</td>\n",
       "      <td>3</td>\n",
       "      <td>Self-employed</td>\n",
       "      <td>36</td>\n",
       "      <td>9</td>\n",
       "    </tr>\n",
       "    <tr>\n",
       "      <th>81</th>\n",
       "      <td>100096</td>\n",
       "      <td>1</td>\n",
       "      <td>Cash loans</td>\n",
       "      <td>F</td>\n",
       "      <td>N</td>\n",
       "      <td>Y</td>\n",
       "      <td>0</td>\n",
       "      <td>81000.0</td>\n",
       "      <td>252000.0</td>\n",
       "      <td>14593.5</td>\n",
       "      <td>...</td>\n",
       "      <td>-24794</td>\n",
       "      <td>365243</td>\n",
       "      <td>1</td>\n",
       "      <td>Missing</td>\n",
       "      <td>2</td>\n",
       "      <td>2</td>\n",
       "      <td>2</td>\n",
       "      <td>Others</td>\n",
       "      <td>67</td>\n",
       "      <td>178</td>\n",
       "    </tr>\n",
       "  </tbody>\n",
       "</table>\n",
       "<p>5 rows × 27 columns</p>\n",
       "</div>"
      ],
      "text/plain": [
       "    SK_ID_CURR  TARGET NAME_CONTRACT_TYPE CODE_GENDER FLAG_OWN_CAR  \\\n",
       "0       100002       1         Cash loans           M            N   \n",
       "26      100031       1         Cash loans           F            N   \n",
       "40      100047       1         Cash loans           M            N   \n",
       "42      100049       1         Cash loans           F            N   \n",
       "81      100096       1         Cash loans           F            N   \n",
       "\n",
       "   FLAG_OWN_REALTY  CNT_CHILDREN  AMT_INCOME_TOTAL  AMT_CREDIT  AMT_ANNUITY  \\\n",
       "0                Y             0          202500.0    406597.5      24700.5   \n",
       "26               Y             0          112500.0    979992.0      27076.5   \n",
       "40               Y             0          202500.0   1193580.0      35028.0   \n",
       "42               N             0          135000.0    288873.0      16258.5   \n",
       "81               Y             0           81000.0    252000.0      14593.5   \n",
       "\n",
       "    ...  DAYS_BIRTH DAYS_EMPLOYED FLAG_CONT_MOBILE OCCUPATION_TYPE  \\\n",
       "0   ...       -9461          -637                1        Laborers   \n",
       "26  ...      -18724         -2628                1   Cooking staff   \n",
       "40  ...      -17482         -1262                1        Laborers   \n",
       "42  ...      -13384         -3597                1     Sales staff   \n",
       "81  ...      -24794        365243                1         Missing   \n",
       "\n",
       "   CNT_FAM_MEMBERS REGION_RATING_CLIENT  REGION_RATING_CLIENT_W_CITY  \\\n",
       "0                1                    2                            2   \n",
       "26               1                    3                            2   \n",
       "40               2                    2                            2   \n",
       "42               2                    3                            3   \n",
       "81               2                    2                            2   \n",
       "\n",
       "         ORGANIZATION_TYPE AGE  YEARS_EMPLOYED  \n",
       "0   Business Entity Type 3  25               1  \n",
       "26  Business Entity Type 3  51               7  \n",
       "40  Business Entity Type 3  47               3  \n",
       "42           Self-employed  36               9  \n",
       "81                  Others  67             178  \n",
       "\n",
       "[5 rows x 27 columns]"
      ]
     },
     "execution_count": 96,
     "metadata": {},
     "output_type": "execute_result"
    }
   ],
   "source": [
    "app_1.head()"
   ]
  },
  {
   "cell_type": "code",
   "execution_count": 97,
   "id": "5bda48d3",
   "metadata": {},
   "outputs": [
    {
     "data": {
      "text/html": [
       "<div>\n",
       "<style scoped>\n",
       "    .dataframe tbody tr th:only-of-type {\n",
       "        vertical-align: middle;\n",
       "    }\n",
       "\n",
       "    .dataframe tbody tr th {\n",
       "        vertical-align: top;\n",
       "    }\n",
       "\n",
       "    .dataframe thead th {\n",
       "        text-align: right;\n",
       "    }\n",
       "</style>\n",
       "<table border=\"1\" class=\"dataframe\">\n",
       "  <thead>\n",
       "    <tr style=\"text-align: right;\">\n",
       "      <th></th>\n",
       "      <th>SK_ID_CURR</th>\n",
       "      <th>TARGET</th>\n",
       "      <th>NAME_CONTRACT_TYPE</th>\n",
       "      <th>CODE_GENDER</th>\n",
       "      <th>FLAG_OWN_CAR</th>\n",
       "      <th>FLAG_OWN_REALTY</th>\n",
       "      <th>CNT_CHILDREN</th>\n",
       "      <th>AMT_INCOME_TOTAL</th>\n",
       "      <th>AMT_CREDIT</th>\n",
       "      <th>AMT_ANNUITY</th>\n",
       "      <th>...</th>\n",
       "      <th>DAYS_BIRTH</th>\n",
       "      <th>DAYS_EMPLOYED</th>\n",
       "      <th>FLAG_CONT_MOBILE</th>\n",
       "      <th>OCCUPATION_TYPE</th>\n",
       "      <th>CNT_FAM_MEMBERS</th>\n",
       "      <th>REGION_RATING_CLIENT</th>\n",
       "      <th>REGION_RATING_CLIENT_W_CITY</th>\n",
       "      <th>ORGANIZATION_TYPE</th>\n",
       "      <th>AGE</th>\n",
       "      <th>YEARS_EMPLOYED</th>\n",
       "    </tr>\n",
       "  </thead>\n",
       "  <tbody>\n",
       "    <tr>\n",
       "      <th>1</th>\n",
       "      <td>100003</td>\n",
       "      <td>0</td>\n",
       "      <td>Cash loans</td>\n",
       "      <td>F</td>\n",
       "      <td>N</td>\n",
       "      <td>N</td>\n",
       "      <td>0</td>\n",
       "      <td>270000.0</td>\n",
       "      <td>1293502.5</td>\n",
       "      <td>35698.5</td>\n",
       "      <td>...</td>\n",
       "      <td>-16765</td>\n",
       "      <td>-1188</td>\n",
       "      <td>1</td>\n",
       "      <td>Core staff</td>\n",
       "      <td>2</td>\n",
       "      <td>1</td>\n",
       "      <td>1</td>\n",
       "      <td>School</td>\n",
       "      <td>45</td>\n",
       "      <td>3</td>\n",
       "    </tr>\n",
       "    <tr>\n",
       "      <th>2</th>\n",
       "      <td>100004</td>\n",
       "      <td>0</td>\n",
       "      <td>Revolving loans</td>\n",
       "      <td>M</td>\n",
       "      <td>Y</td>\n",
       "      <td>Y</td>\n",
       "      <td>0</td>\n",
       "      <td>67500.0</td>\n",
       "      <td>135000.0</td>\n",
       "      <td>6750.0</td>\n",
       "      <td>...</td>\n",
       "      <td>-19046</td>\n",
       "      <td>-225</td>\n",
       "      <td>1</td>\n",
       "      <td>Laborers</td>\n",
       "      <td>1</td>\n",
       "      <td>2</td>\n",
       "      <td>2</td>\n",
       "      <td>Government</td>\n",
       "      <td>52</td>\n",
       "      <td>0</td>\n",
       "    </tr>\n",
       "    <tr>\n",
       "      <th>3</th>\n",
       "      <td>100006</td>\n",
       "      <td>0</td>\n",
       "      <td>Cash loans</td>\n",
       "      <td>F</td>\n",
       "      <td>N</td>\n",
       "      <td>Y</td>\n",
       "      <td>0</td>\n",
       "      <td>135000.0</td>\n",
       "      <td>312682.5</td>\n",
       "      <td>29686.5</td>\n",
       "      <td>...</td>\n",
       "      <td>-19005</td>\n",
       "      <td>-3039</td>\n",
       "      <td>1</td>\n",
       "      <td>Laborers</td>\n",
       "      <td>2</td>\n",
       "      <td>2</td>\n",
       "      <td>2</td>\n",
       "      <td>Business Entity Type 3</td>\n",
       "      <td>52</td>\n",
       "      <td>8</td>\n",
       "    </tr>\n",
       "    <tr>\n",
       "      <th>4</th>\n",
       "      <td>100007</td>\n",
       "      <td>0</td>\n",
       "      <td>Cash loans</td>\n",
       "      <td>M</td>\n",
       "      <td>N</td>\n",
       "      <td>Y</td>\n",
       "      <td>0</td>\n",
       "      <td>121500.0</td>\n",
       "      <td>513000.0</td>\n",
       "      <td>21865.5</td>\n",
       "      <td>...</td>\n",
       "      <td>-19932</td>\n",
       "      <td>-3038</td>\n",
       "      <td>1</td>\n",
       "      <td>Core staff</td>\n",
       "      <td>1</td>\n",
       "      <td>2</td>\n",
       "      <td>2</td>\n",
       "      <td>Religion</td>\n",
       "      <td>54</td>\n",
       "      <td>8</td>\n",
       "    </tr>\n",
       "    <tr>\n",
       "      <th>5</th>\n",
       "      <td>100008</td>\n",
       "      <td>0</td>\n",
       "      <td>Cash loans</td>\n",
       "      <td>M</td>\n",
       "      <td>N</td>\n",
       "      <td>Y</td>\n",
       "      <td>0</td>\n",
       "      <td>99000.0</td>\n",
       "      <td>490495.5</td>\n",
       "      <td>27517.5</td>\n",
       "      <td>...</td>\n",
       "      <td>-16941</td>\n",
       "      <td>-1588</td>\n",
       "      <td>1</td>\n",
       "      <td>Laborers</td>\n",
       "      <td>2</td>\n",
       "      <td>2</td>\n",
       "      <td>2</td>\n",
       "      <td>Others</td>\n",
       "      <td>46</td>\n",
       "      <td>4</td>\n",
       "    </tr>\n",
       "  </tbody>\n",
       "</table>\n",
       "<p>5 rows × 27 columns</p>\n",
       "</div>"
      ],
      "text/plain": [
       "   SK_ID_CURR  TARGET NAME_CONTRACT_TYPE CODE_GENDER FLAG_OWN_CAR  \\\n",
       "1      100003       0         Cash loans           F            N   \n",
       "2      100004       0    Revolving loans           M            Y   \n",
       "3      100006       0         Cash loans           F            N   \n",
       "4      100007       0         Cash loans           M            N   \n",
       "5      100008       0         Cash loans           M            N   \n",
       "\n",
       "  FLAG_OWN_REALTY  CNT_CHILDREN  AMT_INCOME_TOTAL  AMT_CREDIT  AMT_ANNUITY  \\\n",
       "1               N             0          270000.0   1293502.5      35698.5   \n",
       "2               Y             0           67500.0    135000.0       6750.0   \n",
       "3               Y             0          135000.0    312682.5      29686.5   \n",
       "4               Y             0          121500.0    513000.0      21865.5   \n",
       "5               Y             0           99000.0    490495.5      27517.5   \n",
       "\n",
       "   ...  DAYS_BIRTH DAYS_EMPLOYED FLAG_CONT_MOBILE OCCUPATION_TYPE  \\\n",
       "1  ...      -16765         -1188                1      Core staff   \n",
       "2  ...      -19046          -225                1        Laborers   \n",
       "3  ...      -19005         -3039                1        Laborers   \n",
       "4  ...      -19932         -3038                1      Core staff   \n",
       "5  ...      -16941         -1588                1        Laborers   \n",
       "\n",
       "  CNT_FAM_MEMBERS REGION_RATING_CLIENT  REGION_RATING_CLIENT_W_CITY  \\\n",
       "1               2                    1                            1   \n",
       "2               1                    2                            2   \n",
       "3               2                    2                            2   \n",
       "4               1                    2                            2   \n",
       "5               2                    2                            2   \n",
       "\n",
       "        ORGANIZATION_TYPE AGE  YEARS_EMPLOYED  \n",
       "1                  School  45               3  \n",
       "2              Government  52               0  \n",
       "3  Business Entity Type 3  52               8  \n",
       "4                Religion  54               8  \n",
       "5                  Others  46               4  \n",
       "\n",
       "[5 rows x 27 columns]"
      ]
     },
     "execution_count": 97,
     "metadata": {},
     "output_type": "execute_result"
    }
   ],
   "source": [
    "app_0.head()"
   ]
  },
  {
   "cell_type": "markdown",
   "id": "2b311476",
   "metadata": {},
   "source": [
    "**NAME_EDUCATION_TYPE**"
   ]
  },
  {
   "cell_type": "code",
   "execution_count": 98,
   "id": "6cf5f719",
   "metadata": {},
   "outputs": [
    {
     "data": {
      "image/png": "[encoded data removed]",
      "text/plain": [
       "<Figure size 432x288 with 1 Axes>"
      ]
     },
     "metadata": {
      "needs_background": "light"
     },
     "output_type": "display_data"
    }
   ],
   "source": [
    "plt.title(\"Defaulters vs Education \")\n",
    "app_1['NAME_EDUCATION_TYPE'].value_counts(normalize=True).plot.barh()\n",
    "plt.xlabel('Count')\n",
    "plt.ylabel('Education Level')\n",
    "\n",
    "plt.show()"
   ]
  },
  {
   "cell_type": "markdown",
   "id": "d4206202",
   "metadata": {},
   "source": [
    "- The maximum number of clients who have defaulted had Secondary education followed by Higher education. May be clients with Secondary education are paid low. "
   ]
  },
  {
   "cell_type": "markdown",
   "id": "cb8e13b5",
   "metadata": {},
   "source": [
    "**OCCUPATION_TYPE**"
   ]
  },
  {
   "cell_type": "code",
   "execution_count": 99,
   "id": "eca293d2",
   "metadata": {},
   "outputs": [
    {
     "data": {
      "image/png": "[encoded data removed]",
      "text/plain": [
       "<Figure size 720x576 with 1 Axes>"
      ]
     },
     "metadata": {
      "needs_background": "light"
     },
     "output_type": "display_data"
    }
   ],
   "source": [
    "plt.figure(figsize=(10,8))\n",
    "plt.title(\"Defaulters vs Occupation\")\n",
    "app_1[~(app_data.OCCUPATION_TYPE=='Missing')].OCCUPATION_TYPE.value_counts().plot.barh()\n",
    "plt.xlabel(\"Count\")\n",
    "plt.ylabel(\"Occupation Type\")\n",
    "plt.show()\n"
   ]
  },
  {
   "cell_type": "markdown",
   "id": "0e099366",
   "metadata": {},
   "source": [
    "- Majority of the clients defaulted are Labourers by profession followed by Sales staff, least people belong to HR, may be HR employees are paid higher compared to other occupations"
   ]
  },
  {
   "cell_type": "markdown",
   "id": "ee99bdd9",
   "metadata": {},
   "source": [
    "**NAME_CONTRACT_TYPE**"
   ]
  },
  {
   "cell_type": "code",
   "execution_count": 100,
   "id": "f3bda059",
   "metadata": {},
   "outputs": [
    {
     "data": {
      "image/png": "[encoded data removed]",
      "text/plain": [
       "<Figure size 432x288 with 1 Axes>"
      ]
     },
     "metadata": {},
     "output_type": "display_data"
    }
   ],
   "source": [
    "explode = (0,0.1)\n",
    "app_1.NAME_CONTRACT_TYPE.value_counts(normalize=True).plot.pie(explode=explode, autopct='%1.1f%%')\n",
    "plt.title('Defaulters Contract Type')\n",
    "plt.legend()\n",
    "plt.show()"
   ]
  },
  {
   "cell_type": "markdown",
   "id": "57017d03",
   "metadata": {},
   "source": [
    "- majority of defaulted clients opt/apply for cash loans"
   ]
  },
  {
   "cell_type": "markdown",
   "id": "474d4ffd",
   "metadata": {},
   "source": [
    "**ORGANIZATION_TYPE**"
   ]
  },
  {
   "cell_type": "code",
   "execution_count": 101,
   "id": "57164dac",
   "metadata": {},
   "outputs": [
    {
     "data": {
      "image/png": "[encoded data removed]",
      "text/plain": [
       "<Figure size 576x1296 with 1 Axes>"
      ]
     },
     "metadata": {
      "needs_background": "light"
     },
     "output_type": "display_data"
    }
   ],
   "source": [
    "# plot for Defaulters\n",
    "plt.figure(figsize=[8,18])\n",
    "plt.title(\"Defaulters Organization Type\")\n",
    "app_1[~(app_1.ORGANIZATION_TYPE=='Others')].ORGANIZATION_TYPE.value_counts().plot.barh()\n",
    "plt.ylabel(\"Organization\")\n",
    "plt.xlabel(\"Count\")\n",
    "plt.show()\n"
   ]
  },
  {
   "cell_type": "markdown",
   "id": "20d3f7ff",
   "metadata": {},
   "source": [
    "- Majority of the **Defaulter** clients are engaged with Business Entity Type3 followed by Self-Employed. This may be due non-fixed monthly income as their income is erratic they might have missed some payments. "
   ]
  },
  {
   "cell_type": "markdown",
   "id": "d721ffbb",
   "metadata": {},
   "source": [
    "**NAME_FAMILY_STATUS**"
   ]
  },
  {
   "cell_type": "code",
   "execution_count": 102,
   "id": "e17ea6f6",
   "metadata": {},
   "outputs": [
    {
     "data": {
      "image/png": "[encoded data removed]",
      "text/plain": [
       "<Figure size 432x288 with 1 Axes>"
      ]
     },
     "metadata": {
      "needs_background": "light"
     },
     "output_type": "display_data"
    }
   ],
   "source": [
    "# family status of defaulter clients\n",
    "app_1['NAME_FAMILY_STATUS'].value_counts().plot.bar()\n",
    "plt.title('Defaulters Family Status')\n",
    "plt.xlabel(\"\\nFamily Status\")\n",
    "plt.ylabel(\"Count\")\n",
    "plt.show()"
   ]
  },
  {
   "cell_type": "markdown",
   "id": "529ab3dd",
   "metadata": {},
   "source": [
    "- Most of the defaulter clients are **married**. The family client may have other expenses to take care of which may lead to non-payment towards loan "
   ]
  },
  {
   "cell_type": "markdown",
   "id": "8240b510",
   "metadata": {},
   "source": [
    "**FLAG_OWN_REALTY and FLAG_OWN_CAR**"
   ]
  },
  {
   "cell_type": "code",
   "execution_count": 103,
   "id": "bcc732ca",
   "metadata": {},
   "outputs": [
    {
     "data": {
      "image/png": "[encoded data removed]",
      "text/plain": [
       "<Figure size 936x288 with 2 Axes>"
      ]
     },
     "metadata": {
      "needs_background": "light"
     },
     "output_type": "display_data"
    }
   ],
   "source": [
    "plt.figure(figsize=(13,4))\n",
    "\n",
    "plt.subplot(1,2,1)\n",
    "plt.title(\"Defaulters Own House\")\n",
    "app_1['FLAG_OWN_REALTY'].value_counts().plot.bar()\n",
    "plt.xlabel(\"Response\")\n",
    "plt.ylabel(\"Count\")\n",
    "\n",
    "plt.subplot(1,2,2)\n",
    "plt.title(\"defaulters Own Car\")\n",
    "app_1['FLAG_OWN_CAR'].value_counts().plot.bar()\n",
    "plt.xlabel(\"Response\")\n",
    "plt.ylabel(\"Count\")\n",
    "\n",
    "plt.show()"
   ]
  },
  {
   "cell_type": "markdown",
   "id": "7bdc4890",
   "metadata": {},
   "source": [
    "- Majority of the defaulter own house but they dont own a car, may be because the house owner need to pay good amount on their emi."
   ]
  },
  {
   "cell_type": "markdown",
   "id": "4240305c",
   "metadata": {},
   "source": [
    "### Continuous"
   ]
  },
  {
   "cell_type": "markdown",
   "id": "8ae5a8e5",
   "metadata": {},
   "source": [
    "**REGION_RATING_CLIENT**"
   ]
  },
  {
   "cell_type": "code",
   "execution_count": 104,
   "id": "0fc52158",
   "metadata": {},
   "outputs": [
    {
     "data": {
      "image/png": "[encoded data removed]",
      "text/plain": [
       "<Figure size 432x288 with 1 Axes>"
      ]
     },
     "metadata": {
      "needs_background": "light"
     },
     "output_type": "display_data"
    }
   ],
   "source": [
    "sns.distplot(app_1['REGION_RATING_CLIENT'],hist=False,label='Defaulter')\n",
    "sns.distplot(app_0['REGION_RATING_CLIENT'],hist=False,label='Non-Defaulter')\n",
    "\n",
    "plt.legend()\n",
    "plt.show()"
   ]
  },
  {
   "cell_type": "markdown",
   "id": "624ccf80",
   "metadata": {},
   "source": [
    "- Majority of clients living in Region_Rating of 2 are defaulters and most of the non-defaulters too live in the same region."
   ]
  },
  {
   "cell_type": "markdown",
   "id": "da4f4df6",
   "metadata": {},
   "source": [
    "**AMT_INCOME_TOTAL**"
   ]
  },
  {
   "cell_type": "code",
   "execution_count": 105,
   "id": "afb29de2",
   "metadata": {},
   "outputs": [
    {
     "data": {
      "text/plain": [
       "0     200k-300k\n",
       "26    100k-200k\n",
       "40    200k-300k\n",
       "42    100k-200k\n",
       "81        <100K\n",
       "Name: AMT_INCOME_TOTAL, dtype: category\n",
       "Categories (7, object): ['<100K' < '100k-200k' < '200k-300k' < '300k-400k' < '400k-500k' < '500k-600k' < '600k+']"
      ]
     },
     "execution_count": 105,
     "metadata": {},
     "output_type": "execute_result"
    }
   ],
   "source": [
    "# creating a separate bucket for AMT_INCOME_TOTAL\n",
    "pd.cut(app_1.AMT_INCOME_TOTAL[:5], [0,100000,200000,300000,400000,500000,600000,999999999], labels=('<100K','100k-200k','200k-300k','300k-400k','400k-500k','500k-600k','600k+'))"
   ]
  },
  {
   "cell_type": "code",
   "execution_count": 106,
   "id": "f66e76ba",
   "metadata": {},
   "outputs": [],
   "source": [
    "# Storing the groups into new column INCOME_TOTAL_GROUP\n",
    "app_1['INCOME_TOTAL_GROUP'] = pd.cut(app_1.AMT_INCOME_TOTAL, [0,100000,200000,300000,400000,500000,600000,999999999], labels=('<100K','100k-200k','200-300k','300k-400k','400k-500k','500k-600k','600k+'))"
   ]
  },
  {
   "cell_type": "code",
   "execution_count": 107,
   "id": "4c9853bd",
   "metadata": {},
   "outputs": [],
   "source": [
    "app_0['INCOME_TOTAL_GROUP'] = pd.cut(app_0.AMT_INCOME_TOTAL, [0,100000,200000,300000,400000,500000,600000,999999999], labels=('<100K','100k-200k','200-300k','300k-400k','400k-500k','500k-600k','600k+'))"
   ]
  },
  {
   "cell_type": "code",
   "execution_count": 108,
   "id": "720690c0",
   "metadata": {},
   "outputs": [
    {
     "data": {
      "image/png": "[encoded data removed]",
      "text/plain": [
       "<Figure size 432x288 with 1 Axes>"
      ]
     },
     "metadata": {
      "needs_background": "light"
     },
     "output_type": "display_data"
    }
   ],
   "source": [
    "# plot\n",
    "plt.title('Defaulter Total Income')\n",
    "app_1['INCOME_TOTAL_GROUP'].value_counts().plot.bar()\n",
    "plt.xlabel(\"\\nTotal Income\")\n",
    "plt.ylabel(\"Count\")\n",
    "\n",
    "plt.show()"
   ]
  },
  {
   "cell_type": "markdown",
   "id": "80d54a01",
   "metadata": {},
   "source": [
    "- Majority of the defaulter earn between the range of 100k-200k"
   ]
  },
  {
   "cell_type": "markdown",
   "id": "666e9a2c",
   "metadata": {},
   "source": [
    "**AGE**"
   ]
  },
  {
   "cell_type": "code",
   "execution_count": 109,
   "id": "8b67d7f3",
   "metadata": {},
   "outputs": [
    {
     "data": {
      "text/plain": [
       "0     20-30\n",
       "26    50-60\n",
       "40    45-50\n",
       "42    30-40\n",
       "81      60+\n",
       "Name: AGE, dtype: category\n",
       "Categories (6, object): ['<20' < '20-30' < '30-40' < '45-50' < '50-60' < '60+']"
      ]
     },
     "execution_count": 109,
     "metadata": {},
     "output_type": "execute_result"
    }
   ],
   "source": [
    "# Grouping the AGE into age_group\n",
    "pd.cut(app_1.AGE[:5], [0,20,30,40,50,60,999], labels=['<20','20-30','30-40','45-50','50-60','60+'] )"
   ]
  },
  {
   "cell_type": "code",
   "execution_count": 110,
   "id": "c0faccdb",
   "metadata": {},
   "outputs": [
    {
     "data": {
      "text/plain": [
       "0     25\n",
       "26    51\n",
       "40    47\n",
       "42    36\n",
       "81    67\n",
       "Name: AGE, dtype: int64"
      ]
     },
     "execution_count": 110,
     "metadata": {},
     "output_type": "execute_result"
    }
   ],
   "source": [
    "app_1.AGE.head()"
   ]
  },
  {
   "cell_type": "code",
   "execution_count": 111,
   "id": "849803c1",
   "metadata": {},
   "outputs": [],
   "source": [
    "app_1['AGE_GROUP'] = pd.cut(app_1.AGE, [0,20,30,40,50,60,999], labels=['<20','20-30','30-40','45-50','50-60','60+'])"
   ]
  },
  {
   "cell_type": "code",
   "execution_count": 112,
   "id": "ef060067",
   "metadata": {},
   "outputs": [
    {
     "data": {
      "image/png": "[encoded data removed]",
      "text/plain": [
       "<Figure size 432x288 with 1 Axes>"
      ]
     },
     "metadata": {
      "needs_background": "light"
     },
     "output_type": "display_data"
    }
   ],
   "source": [
    "plt.title('Defaulters Age')\n",
    "app_1['AGE_GROUP'].value_counts().plot.bar()\n",
    "plt.xlabel('\\nAge_Group')\n",
    "plt.ylabel(\"Count\")\n",
    "plt.show()"
   ]
  },
  {
   "cell_type": "markdown",
   "id": "a7bea416",
   "metadata": {},
   "source": [
    "- majority of the defaulter belong to age group 30-40"
   ]
  },
  {
   "cell_type": "markdown",
   "id": "78fca1d4",
   "metadata": {},
   "source": [
    "### Bivariate Analysis"
   ]
  },
  {
   "cell_type": "markdown",
   "id": "ddd3f2bc",
   "metadata": {},
   "source": [
    "####  Continous-Continous"
   ]
  },
  {
   "cell_type": "markdown",
   "id": "ba88d008",
   "metadata": {},
   "source": [
    "**INCOME_TOTAL_GROUP vs AGE_GROUP**"
   ]
  },
  {
   "cell_type": "code",
   "execution_count": 113,
   "id": "ffe7f2cd",
   "metadata": {},
   "outputs": [
    {
     "data": {
      "image/png": "[encoded data removed]",
      "text/plain": [
       "<Figure size 432x288 with 1 Axes>"
      ]
     },
     "metadata": {
      "needs_background": "light"
     },
     "output_type": "display_data"
    }
   ],
   "source": [
    "plt.scatter(app_1['AGE_GROUP'],  app_1['INCOME_TOTAL_GROUP'])\n",
    "plt.title('Age vs Income')\n",
    "plt.xlabel(\"Age\")\n",
    "plt.ylabel(\"Income\")\n",
    "plt.show()"
   ]
  },
  {
   "cell_type": "markdown",
   "id": "a92a7234",
   "metadata": {},
   "source": [
    "- no pattern observed btween age_group and income_total of defaulters "
   ]
  },
  {
   "cell_type": "code",
   "execution_count": 114,
   "id": "a44ad264",
   "metadata": {},
   "outputs": [
    {
     "data": {
      "image/png": "[encoded data removed]",
      "text/plain": [
       "<Figure size 432x288 with 1 Axes>"
      ]
     },
     "metadata": {
      "needs_background": "light"
     },
     "output_type": "display_data"
    }
   ],
   "source": [
    "app_1.groupby('AGE_GROUP')['AMT_INCOME_TOTAL'].aggregate(['mean','median']).plot.bar()\n",
    "plt.title('Age vs Income')\n",
    "plt.ylabel('Income')\n",
    "plt.show()"
   ]
  },
  {
   "cell_type": "code",
   "execution_count": 115,
   "id": "594338f5",
   "metadata": {},
   "outputs": [
    {
     "data": {
      "image/png": "[encoded data removed]",
      "text/plain": [
       "<Figure size 576x432 with 1 Axes>"
      ]
     },
     "metadata": {
      "needs_background": "light"
     },
     "output_type": "display_data"
    }
   ],
   "source": [
    "plt.figure(figsize=(8,6))\n",
    "plt.title(\"Income vs Family Members\")\n",
    "plt.scatter(app_1['INCOME_TOTAL_GROUP'],  app_1['CNT_FAM_MEMBERS'])\n",
    "plt.xlabel(\"Total Income\")\n",
    "plt.ylabel(\"Family Members\")\n",
    "\n",
    "plt.show()"
   ]
  },
  {
   "cell_type": "markdown",
   "id": "00e0d3b3",
   "metadata": {},
   "source": [
    "**INCOME_TOTAL_GROUP vs AGE_GROUP vs CNT_FAM_MEMBERS**"
   ]
  },
  {
   "cell_type": "code",
   "execution_count": 116,
   "id": "b7d3b6fe",
   "metadata": {},
   "outputs": [
    {
     "data": {
      "text/plain": [
       "<Figure size 576x720 with 0 Axes>"
      ]
     },
     "metadata": {},
     "output_type": "display_data"
    },
    {
     "data": {
      "image/png": "[encoded data removed]",
      "text/plain": [
       "<Figure size 540x540 with 12 Axes>"
      ]
     },
     "metadata": {
      "needs_background": "light"
     },
     "output_type": "display_data"
    }
   ],
   "source": [
    "plt.figure(figsize=(8,10))\n",
    "sns.pairplot(data=app_1, vars=['INCOME_TOTAL_GROUP','AGE_GROUP','CNT_FAM_MEMBERS'])\n",
    "plt.show()"
   ]
  },
  {
   "cell_type": "markdown",
   "id": "971af0a5",
   "metadata": {},
   "source": [
    "**correlation**"
   ]
  },
  {
   "cell_type": "code",
   "execution_count": 117,
   "id": "9403f773",
   "metadata": {},
   "outputs": [
    {
     "data": {
      "text/html": [
       "<div>\n",
       "<style scoped>\n",
       "    .dataframe tbody tr th:only-of-type {\n",
       "        vertical-align: middle;\n",
       "    }\n",
       "\n",
       "    .dataframe tbody tr th {\n",
       "        vertical-align: top;\n",
       "    }\n",
       "\n",
       "    .dataframe thead th {\n",
       "        text-align: right;\n",
       "    }\n",
       "</style>\n",
       "<table border=\"1\" class=\"dataframe\">\n",
       "  <thead>\n",
       "    <tr style=\"text-align: right;\">\n",
       "      <th></th>\n",
       "      <th>AMT_INCOME_TOTAL</th>\n",
       "      <th>CNT_FAM_MEMBERS</th>\n",
       "      <th>AGE</th>\n",
       "    </tr>\n",
       "  </thead>\n",
       "  <tbody>\n",
       "    <tr>\n",
       "      <th>AMT_INCOME_TOTAL</th>\n",
       "      <td>1.000000</td>\n",
       "      <td>0.006669</td>\n",
       "      <td>-0.003120</td>\n",
       "    </tr>\n",
       "    <tr>\n",
       "      <th>CNT_FAM_MEMBERS</th>\n",
       "      <td>0.006669</td>\n",
       "      <td>1.000000</td>\n",
       "      <td>-0.203234</td>\n",
       "    </tr>\n",
       "    <tr>\n",
       "      <th>AGE</th>\n",
       "      <td>-0.003120</td>\n",
       "      <td>-0.203234</td>\n",
       "      <td>1.000000</td>\n",
       "    </tr>\n",
       "  </tbody>\n",
       "</table>\n",
       "</div>"
      ],
      "text/plain": [
       "                  AMT_INCOME_TOTAL  CNT_FAM_MEMBERS       AGE\n",
       "AMT_INCOME_TOTAL          1.000000         0.006669 -0.003120\n",
       "CNT_FAM_MEMBERS           0.006669         1.000000 -0.203234\n",
       "AGE                      -0.003120        -0.203234  1.000000"
      ]
     },
     "execution_count": 117,
     "metadata": {},
     "output_type": "execute_result"
    }
   ],
   "source": [
    "app_1[['AMT_INCOME_TOTAL','CNT_FAM_MEMBERS','AGE']].corr()\n",
    "#inp1[['age','salary','balance']].corr()"
   ]
  },
  {
   "cell_type": "code",
   "execution_count": 118,
   "id": "83343ab1",
   "metadata": {},
   "outputs": [
    {
     "data": {
      "image/png": "[encoded data removed]",
      "text/plain": [
       "<Figure size 432x288 with 2 Axes>"
      ]
     },
     "metadata": {
      "needs_background": "light"
     },
     "output_type": "display_data"
    }
   ],
   "source": [
    "sns.heatmap(app_1[['AMT_INCOME_TOTAL','CNT_FAM_MEMBERS','AGE']].corr(), annot=True, cmap='Reds')\n",
    "plt.show()"
   ]
  },
  {
   "cell_type": "markdown",
   "id": "0918c06b",
   "metadata": {},
   "source": [
    "**INCOME_TOTAL_GROUP vs NAME_EDUCATION_TYPE vs OCCUPATION_TYPE**"
   ]
  },
  {
   "cell_type": "code",
   "execution_count": 123,
   "id": "163f9c11",
   "metadata": {},
   "outputs": [
    {
     "data": {
      "text/plain": [
       "<Figure size 3600x2160 with 0 Axes>"
      ]
     },
     "metadata": {},
     "output_type": "display_data"
    },
    {
     "data": {
      "image/png": "[encoded data removed]",
      "text/plain": [
       "<Figure size 540x540 with 12 Axes>"
      ]
     },
     "metadata": {
      "needs_background": "light"
     },
     "output_type": "display_data"
    }
   ],
   "source": [
    "plt.figure(figsize=(50,30))\n",
    "sns.pairplot(data=app_1, vars=['INCOME_TOTAL_GROUP','NAME_EDUCATION_TYPE','OCCUPATION_TYPE'])\n",
    "plt.show()"
   ]
  },
  {
   "cell_type": "markdown",
   "id": "12e0f955",
   "metadata": {},
   "source": [
    "\n",
    "**NAME_EDUCATION_TYPE vs OCCUPATION_TYPE**"
   ]
  },
  {
   "cell_type": "code",
   "execution_count": 124,
   "id": "ee6e16aa",
   "metadata": {},
   "outputs": [
    {
     "data": {
      "image/png": "[encoded data removed]",
      "text/plain": [
       "<Figure size 576x432 with 1 Axes>"
      ]
     },
     "metadata": {
      "needs_background": "light"
     },
     "output_type": "display_data"
    }
   ],
   "source": [
    "plt.figure(figsize=(8,6))\n",
    "plt.title('NAME_EDUCATION_TYPE vs OCCUPATION_TYPE')\n",
    "plt.scatter(app_1['INCOME_TOTAL_GROUP'],  app_1['NAME_EDUCATION_TYPE'])\n",
    "plt.xlabel(\"\\nTotal Income\")\n",
    "plt.ylabel(\"Education Level\")\n",
    "plt.show()"
   ]
  },
  {
   "cell_type": "markdown",
   "id": "e29342b3",
   "metadata": {},
   "source": [
    "**.OCCUPATION_TYPE vs ORGANIZATION_TYPE**"
   ]
  },
  {
   "cell_type": "code",
   "execution_count": 125,
   "id": "8f670c37",
   "metadata": {},
   "outputs": [
    {
     "data": {
      "image/png": "[encoded data removed]",
      "text/plain": [
       "<Figure size 2160x1440 with 1 Axes>"
      ]
     },
     "metadata": {
      "needs_background": "light"
     },
     "output_type": "display_data"
    }
   ],
   "source": [
    "plt.figure(figsize=(30,20))\n",
    "plt.title('OCCUPATION_TYPE vs ORGANIZATION_TYPE')\n",
    "plt.scatter(app_1.OCCUPATION_TYPE,app_1.ORGANIZATION_TYPE)\n",
    "plt.xlabel(\"Occupation\")\n",
    "plt.ylabel(\"Orgnization\")\n",
    "plt.show()"
   ]
  },
  {
   "cell_type": "markdown",
   "id": "4090c2c9",
   "metadata": {},
   "source": [
    "<h3 style=color:brown> Investigating previous_application </h3>"
   ]
  },
  {
   "cell_type": "code",
   "execution_count": 126,
   "id": "f3278737",
   "metadata": {},
   "outputs": [],
   "source": [
    "prev_app = pd.read_csv(\"previous_application.csv\")"
   ]
  },
  {
   "cell_type": "code",
   "execution_count": 127,
   "id": "7b47b590",
   "metadata": {},
   "outputs": [
    {
     "data": {
      "text/html": [
       "<div>\n",
       "<style scoped>\n",
       "    .dataframe tbody tr th:only-of-type {\n",
       "        vertical-align: middle;\n",
       "    }\n",
       "\n",
       "    .dataframe tbody tr th {\n",
       "        vertical-align: top;\n",
       "    }\n",
       "\n",
       "    .dataframe thead th {\n",
       "        text-align: right;\n",
       "    }\n",
       "</style>\n",
       "<table border=\"1\" class=\"dataframe\">\n",
       "  <thead>\n",
       "    <tr style=\"text-align: right;\">\n",
       "      <th></th>\n",
       "      <th>SK_ID_PREV</th>\n",
       "      <th>SK_ID_CURR</th>\n",
       "      <th>NAME_CONTRACT_TYPE</th>\n",
       "      <th>AMT_ANNUITY</th>\n",
       "      <th>AMT_APPLICATION</th>\n",
       "      <th>AMT_CREDIT</th>\n",
       "      <th>AMT_DOWN_PAYMENT</th>\n",
       "      <th>AMT_GOODS_PRICE</th>\n",
       "      <th>WEEKDAY_APPR_PROCESS_START</th>\n",
       "      <th>HOUR_APPR_PROCESS_START</th>\n",
       "      <th>...</th>\n",
       "      <th>NAME_SELLER_INDUSTRY</th>\n",
       "      <th>CNT_PAYMENT</th>\n",
       "      <th>NAME_YIELD_GROUP</th>\n",
       "      <th>PRODUCT_COMBINATION</th>\n",
       "      <th>DAYS_FIRST_DRAWING</th>\n",
       "      <th>DAYS_FIRST_DUE</th>\n",
       "      <th>DAYS_LAST_DUE_1ST_VERSION</th>\n",
       "      <th>DAYS_LAST_DUE</th>\n",
       "      <th>DAYS_TERMINATION</th>\n",
       "      <th>NFLAG_INSURED_ON_APPROVAL</th>\n",
       "    </tr>\n",
       "  </thead>\n",
       "  <tbody>\n",
       "    <tr>\n",
       "      <th>0</th>\n",
       "      <td>2030495</td>\n",
       "      <td>271877</td>\n",
       "      <td>Consumer loans</td>\n",
       "      <td>1730.430</td>\n",
       "      <td>17145.0</td>\n",
       "      <td>17145.0</td>\n",
       "      <td>0.0</td>\n",
       "      <td>17145.0</td>\n",
       "      <td>SATURDAY</td>\n",
       "      <td>15</td>\n",
       "      <td>...</td>\n",
       "      <td>Connectivity</td>\n",
       "      <td>12.0</td>\n",
       "      <td>middle</td>\n",
       "      <td>POS mobile with interest</td>\n",
       "      <td>365243.0</td>\n",
       "      <td>-42.0</td>\n",
       "      <td>300.0</td>\n",
       "      <td>-42.0</td>\n",
       "      <td>-37.0</td>\n",
       "      <td>0.0</td>\n",
       "    </tr>\n",
       "    <tr>\n",
       "      <th>1</th>\n",
       "      <td>2802425</td>\n",
       "      <td>108129</td>\n",
       "      <td>Cash loans</td>\n",
       "      <td>25188.615</td>\n",
       "      <td>607500.0</td>\n",
       "      <td>679671.0</td>\n",
       "      <td>NaN</td>\n",
       "      <td>607500.0</td>\n",
       "      <td>THURSDAY</td>\n",
       "      <td>11</td>\n",
       "      <td>...</td>\n",
       "      <td>XNA</td>\n",
       "      <td>36.0</td>\n",
       "      <td>low_action</td>\n",
       "      <td>Cash X-Sell: low</td>\n",
       "      <td>365243.0</td>\n",
       "      <td>-134.0</td>\n",
       "      <td>916.0</td>\n",
       "      <td>365243.0</td>\n",
       "      <td>365243.0</td>\n",
       "      <td>1.0</td>\n",
       "    </tr>\n",
       "    <tr>\n",
       "      <th>2</th>\n",
       "      <td>2523466</td>\n",
       "      <td>122040</td>\n",
       "      <td>Cash loans</td>\n",
       "      <td>15060.735</td>\n",
       "      <td>112500.0</td>\n",
       "      <td>136444.5</td>\n",
       "      <td>NaN</td>\n",
       "      <td>112500.0</td>\n",
       "      <td>TUESDAY</td>\n",
       "      <td>11</td>\n",
       "      <td>...</td>\n",
       "      <td>XNA</td>\n",
       "      <td>12.0</td>\n",
       "      <td>high</td>\n",
       "      <td>Cash X-Sell: high</td>\n",
       "      <td>365243.0</td>\n",
       "      <td>-271.0</td>\n",
       "      <td>59.0</td>\n",
       "      <td>365243.0</td>\n",
       "      <td>365243.0</td>\n",
       "      <td>1.0</td>\n",
       "    </tr>\n",
       "    <tr>\n",
       "      <th>3</th>\n",
       "      <td>2819243</td>\n",
       "      <td>176158</td>\n",
       "      <td>Cash loans</td>\n",
       "      <td>47041.335</td>\n",
       "      <td>450000.0</td>\n",
       "      <td>470790.0</td>\n",
       "      <td>NaN</td>\n",
       "      <td>450000.0</td>\n",
       "      <td>MONDAY</td>\n",
       "      <td>7</td>\n",
       "      <td>...</td>\n",
       "      <td>XNA</td>\n",
       "      <td>12.0</td>\n",
       "      <td>middle</td>\n",
       "      <td>Cash X-Sell: middle</td>\n",
       "      <td>365243.0</td>\n",
       "      <td>-482.0</td>\n",
       "      <td>-152.0</td>\n",
       "      <td>-182.0</td>\n",
       "      <td>-177.0</td>\n",
       "      <td>1.0</td>\n",
       "    </tr>\n",
       "    <tr>\n",
       "      <th>4</th>\n",
       "      <td>1784265</td>\n",
       "      <td>202054</td>\n",
       "      <td>Cash loans</td>\n",
       "      <td>31924.395</td>\n",
       "      <td>337500.0</td>\n",
       "      <td>404055.0</td>\n",
       "      <td>NaN</td>\n",
       "      <td>337500.0</td>\n",
       "      <td>THURSDAY</td>\n",
       "      <td>9</td>\n",
       "      <td>...</td>\n",
       "      <td>XNA</td>\n",
       "      <td>24.0</td>\n",
       "      <td>high</td>\n",
       "      <td>Cash Street: high</td>\n",
       "      <td>NaN</td>\n",
       "      <td>NaN</td>\n",
       "      <td>NaN</td>\n",
       "      <td>NaN</td>\n",
       "      <td>NaN</td>\n",
       "      <td>NaN</td>\n",
       "    </tr>\n",
       "  </tbody>\n",
       "</table>\n",
       "<p>5 rows × 37 columns</p>\n",
       "</div>"
      ],
      "text/plain": [
       "   SK_ID_PREV  SK_ID_CURR NAME_CONTRACT_TYPE  AMT_ANNUITY  AMT_APPLICATION  \\\n",
       "0     2030495      271877     Consumer loans     1730.430          17145.0   \n",
       "1     2802425      108129         Cash loans    25188.615         607500.0   \n",
       "2     2523466      122040         Cash loans    15060.735         112500.0   \n",
       "3     2819243      176158         Cash loans    47041.335         450000.0   \n",
       "4     1784265      202054         Cash loans    31924.395         337500.0   \n",
       "\n",
       "   AMT_CREDIT  AMT_DOWN_PAYMENT  AMT_GOODS_PRICE WEEKDAY_APPR_PROCESS_START  \\\n",
       "0     17145.0               0.0          17145.0                   SATURDAY   \n",
       "1    679671.0               NaN         607500.0                   THURSDAY   \n",
       "2    136444.5               NaN         112500.0                    TUESDAY   \n",
       "3    470790.0               NaN         450000.0                     MONDAY   \n",
       "4    404055.0               NaN         337500.0                   THURSDAY   \n",
       "\n",
       "   HOUR_APPR_PROCESS_START  ... NAME_SELLER_INDUSTRY  CNT_PAYMENT  \\\n",
       "0                       15  ...         Connectivity         12.0   \n",
       "1                       11  ...                  XNA         36.0   \n",
       "2                       11  ...                  XNA         12.0   \n",
       "3                        7  ...                  XNA         12.0   \n",
       "4                        9  ...                  XNA         24.0   \n",
       "\n",
       "   NAME_YIELD_GROUP       PRODUCT_COMBINATION  DAYS_FIRST_DRAWING  \\\n",
       "0            middle  POS mobile with interest            365243.0   \n",
       "1        low_action          Cash X-Sell: low            365243.0   \n",
       "2              high         Cash X-Sell: high            365243.0   \n",
       "3            middle       Cash X-Sell: middle            365243.0   \n",
       "4              high         Cash Street: high                 NaN   \n",
       "\n",
       "  DAYS_FIRST_DUE DAYS_LAST_DUE_1ST_VERSION  DAYS_LAST_DUE DAYS_TERMINATION  \\\n",
       "0          -42.0                     300.0          -42.0            -37.0   \n",
       "1         -134.0                     916.0       365243.0         365243.0   \n",
       "2         -271.0                      59.0       365243.0         365243.0   \n",
       "3         -482.0                    -152.0         -182.0           -177.0   \n",
       "4            NaN                       NaN            NaN              NaN   \n",
       "\n",
       "  NFLAG_INSURED_ON_APPROVAL  \n",
       "0                       0.0  \n",
       "1                       1.0  \n",
       "2                       1.0  \n",
       "3                       1.0  \n",
       "4                       NaN  \n",
       "\n",
       "[5 rows x 37 columns]"
      ]
     },
     "execution_count": 127,
     "metadata": {},
     "output_type": "execute_result"
    }
   ],
   "source": [
    "# reading the data\n",
    "prev_app.head()"
   ]
  },
  {
   "cell_type": "code",
   "execution_count": 128,
   "id": "cc736ebe",
   "metadata": {},
   "outputs": [
    {
     "name": "stdout",
     "output_type": "stream",
     "text": [
      "<class 'pandas.core.frame.DataFrame'>\n",
      "RangeIndex: 1048575 entries, 0 to 1048574\n",
      "Data columns (total 37 columns):\n",
      " #   Column                       Non-Null Count    Dtype  \n",
      "---  ------                       --------------    -----  \n",
      " 0   SK_ID_PREV                   1048575 non-null  int64  \n",
      " 1   SK_ID_CURR                   1048575 non-null  int64  \n",
      " 2   NAME_CONTRACT_TYPE           1048575 non-null  object \n",
      " 3   AMT_ANNUITY                  815566 non-null   float64\n",
      " 4   AMT_APPLICATION              1048575 non-null  float64\n",
      " 5   AMT_CREDIT                   1048575 non-null  float64\n",
      " 6   AMT_DOWN_PAYMENT             489179 non-null   float64\n",
      " 7   AMT_GOODS_PRICE              807610 non-null   float64\n",
      " 8   WEEKDAY_APPR_PROCESS_START   1048575 non-null  object \n",
      " 9   HOUR_APPR_PROCESS_START      1048575 non-null  int64  \n",
      " 10  FLAG_LAST_APPL_PER_CONTRACT  1048575 non-null  object \n",
      " 11  NFLAG_LAST_APPL_IN_DAY       1048575 non-null  int64  \n",
      " 12  RATE_DOWN_PAYMENT            489179 non-null   float64\n",
      " 13  RATE_INTEREST_PRIMARY        3721 non-null     float64\n",
      " 14  RATE_INTEREST_PRIVILEGED     3721 non-null     float64\n",
      " 15  NAME_CASH_LOAN_PURPOSE       1048575 non-null  object \n",
      " 16  NAME_CONTRACT_STATUS         1048575 non-null  object \n",
      " 17  DAYS_DECISION                1048575 non-null  int64  \n",
      " 18  NAME_PAYMENT_TYPE            1048575 non-null  object \n",
      " 19  CODE_REJECT_REASON           1048575 non-null  object \n",
      " 20  NAME_TYPE_SUITE              533435 non-null   object \n",
      " 21  NAME_CLIENT_TYPE             1048575 non-null  object \n",
      " 22  NAME_GOODS_CATEGORY          1048575 non-null  object \n",
      " 23  NAME_PORTFOLIO               1048575 non-null  object \n",
      " 24  NAME_PRODUCT_TYPE            1048575 non-null  object \n",
      " 25  CHANNEL_TYPE                 1048575 non-null  object \n",
      " 26  SELLERPLACE_AREA             1048575 non-null  int64  \n",
      " 27  NAME_SELLER_INDUSTRY         1048575 non-null  object \n",
      " 28  CNT_PAYMENT                  815569 non-null   float64\n",
      " 29  NAME_YIELD_GROUP             1048575 non-null  object \n",
      " 30  PRODUCT_COMBINATION          1048351 non-null  object \n",
      " 31  DAYS_FIRST_DRAWING           627867 non-null   float64\n",
      " 32  DAYS_FIRST_DUE               627867 non-null   float64\n",
      " 33  DAYS_LAST_DUE_1ST_VERSION    627867 non-null   float64\n",
      " 34  DAYS_LAST_DUE                627867 non-null   float64\n",
      " 35  DAYS_TERMINATION             627867 non-null   float64\n",
      " 36  NFLAG_INSURED_ON_APPROVAL    627867 non-null   float64\n",
      "dtypes: float64(15), int64(6), object(16)\n",
      "memory usage: 296.0+ MB\n"
     ]
    }
   ],
   "source": [
    "#info about the data\n",
    "prev_app.info()"
   ]
  },
  {
   "cell_type": "markdown",
   "id": "35e76341",
   "metadata": {},
   "source": [
    "**Dimensions of data**"
   ]
  },
  {
   "cell_type": "code",
   "execution_count": 129,
   "id": "860a19c4",
   "metadata": {},
   "outputs": [
    {
     "data": {
      "text/plain": [
       "(1048575, 37)"
      ]
     },
     "execution_count": 129,
     "metadata": {},
     "output_type": "execute_result"
    }
   ],
   "source": [
    "prev_app.shape"
   ]
  },
  {
   "cell_type": "markdown",
   "id": "8cd4fd29",
   "metadata": {},
   "source": [
    "**checking for duplicate data**"
   ]
  },
  {
   "cell_type": "code",
   "execution_count": 130,
   "id": "03e415eb",
   "metadata": {},
   "outputs": [
    {
     "data": {
      "text/plain": [
       "0"
      ]
     },
     "execution_count": 130,
     "metadata": {},
     "output_type": "execute_result"
    }
   ],
   "source": [
    "prev_app.duplicated().sum()"
   ]
  },
  {
   "cell_type": "code",
   "execution_count": 131,
   "id": "0a835980",
   "metadata": {},
   "outputs": [
    {
     "data": {
      "text/plain": [
       "SK_ID_PREV                      0.000000\n",
       "SK_ID_CURR                      0.000000\n",
       "NAME_CONTRACT_TYPE              0.000000\n",
       "AMT_ANNUITY                    13.950847\n",
       "AMT_APPLICATION                 0.000000\n",
       "AMT_CREDIT                      0.000000\n",
       "AMT_DOWN_PAYMENT               33.492475\n",
       "AMT_GOODS_PRICE                14.427193\n",
       "WEEKDAY_APPR_PROCESS_START      0.000000\n",
       "HOUR_APPR_PROCESS_START         0.000000\n",
       "FLAG_LAST_APPL_PER_CONTRACT     0.000000\n",
       "NFLAG_LAST_APPL_IN_DAY          0.000000\n",
       "RATE_DOWN_PAYMENT              33.492475\n",
       "RATE_INTEREST_PRIMARY          62.558091\n",
       "RATE_INTEREST_PRIVILEGED       62.558091\n",
       "NAME_CASH_LOAN_PURPOSE          0.000000\n",
       "NAME_CONTRACT_STATUS            0.000000\n",
       "DAYS_DECISION                   0.000000\n",
       "NAME_PAYMENT_TYPE               0.000000\n",
       "CODE_REJECT_REASON              0.000000\n",
       "NAME_TYPE_SUITE                30.842754\n",
       "NAME_CLIENT_TYPE                0.000000\n",
       "NAME_GOODS_CATEGORY             0.000000\n",
       "NAME_PORTFOLIO                  0.000000\n",
       "NAME_PRODUCT_TYPE               0.000000\n",
       "CHANNEL_TYPE                    0.000000\n",
       "SELLERPLACE_AREA                0.000000\n",
       "NAME_SELLER_INDUSTRY            0.000000\n",
       "CNT_PAYMENT                    13.950667\n",
       "NAME_YIELD_GROUP                0.000000\n",
       "PRODUCT_COMBINATION             0.013411\n",
       "DAYS_FIRST_DRAWING             25.188868\n",
       "DAYS_FIRST_DUE                 25.188868\n",
       "DAYS_LAST_DUE_1ST_VERSION      25.188868\n",
       "DAYS_LAST_DUE                  25.188868\n",
       "DAYS_TERMINATION               25.188868\n",
       "NFLAG_INSURED_ON_APPROVAL      25.188868\n",
       "dtype: float64"
      ]
     },
     "execution_count": 131,
     "metadata": {},
     "output_type": "execute_result"
    }
   ],
   "source": [
    "#Percentage of null values present for each column\n",
    "(prev_app.isnull().sum())/1670214*100"
   ]
  },
  {
   "cell_type": "code",
   "execution_count": 132,
   "id": "73a79062",
   "metadata": {},
   "outputs": [
    {
     "name": "stdout",
     "output_type": "stream",
     "text": [
      "AMT_DOWN_PAYMENT :  53.35 %\n",
      "RATE_DOWN_PAYMENT :  53.35 %\n",
      "RATE_INTEREST_PRIMARY :  99.65 %\n",
      "RATE_INTEREST_PRIVILEGED :  99.65 %\n",
      "NAME_TYPE_SUITE :  49.13 %\n"
     ]
    }
   ],
   "source": [
    "# looking at the columns with more than 45% missing values\n",
    "\n",
    "for i in prev_app.columns:\n",
    "    if (round(100*(prev_app[i].isnull().sum()/len(prev_app.isnull())),2) >= 45):\n",
    "        #lead.drop(i, axis=1, inplace=True)\n",
    "        print(i,': ',(round(100*(prev_app[i].isnull().sum()/len(prev_app.isnull())),2)),'%')"
   ]
  },
  {
   "cell_type": "markdown",
   "id": "b8e81d7d",
   "metadata": {},
   "source": [
    "**dropping above and irrelevant columns**"
   ]
  },
  {
   "cell_type": "code",
   "execution_count": 133,
   "id": "2fc79192",
   "metadata": {},
   "outputs": [],
   "source": [
    "prev_app.drop(['AMT_DOWN_PAYMENT','WEEKDAY_APPR_PROCESS_START','HOUR_APPR_PROCESS_START','FLAG_LAST_APPL_PER_CONTRACT',\n",
    "               'NFLAG_LAST_APPL_IN_DAY','DAYS_DECISION','NAME_TYPE_SUITE','DAYS_FIRST_DRAWING','DAYS_FIRST_DUE',\n",
    "               'DAYS_LAST_DUE_1ST_VERSION','DAYS_LAST_DUE','DAYS_TERMINATION','FLAG_LAST_APPL_PER_CONTRACT',\n",
    "               'NFLAG_LAST_APPL_IN_DAY','RATE_DOWN_PAYMENT','DAYS_FIRST_DRAWING','DAYS_FIRST_DUE','DAYS_LAST_DUE_1ST_VERSION',\n",
    "               'DAYS_LAST_DUE','DAYS_TERMINATION','NFLAG_INSURED_ON_APPROVAL','RATE_INTEREST_PRIMARY','RATE_INTEREST_PRIVILEGED'],\n",
    "              axis=1, inplace=True)"
   ]
  },
  {
   "cell_type": "code",
   "execution_count": 134,
   "id": "03ef7fd3",
   "metadata": {},
   "outputs": [
    {
     "data": {
      "text/plain": [
       "(1048575, 21)"
      ]
     },
     "execution_count": 134,
     "metadata": {},
     "output_type": "execute_result"
    }
   ],
   "source": [
    "# new dimensions\n",
    "prev_app.shape"
   ]
  },
  {
   "cell_type": "code",
   "execution_count": 135,
   "id": "a4ab5e57",
   "metadata": {},
   "outputs": [
    {
     "data": {
      "text/plain": [
       "SK_ID_PREV                 0.000000\n",
       "SK_ID_CURR                 0.000000\n",
       "NAME_CONTRACT_TYPE         0.000000\n",
       "AMT_ANNUITY               13.950847\n",
       "AMT_APPLICATION            0.000000\n",
       "AMT_CREDIT                 0.000000\n",
       "AMT_GOODS_PRICE           14.427193\n",
       "NAME_CASH_LOAN_PURPOSE     0.000000\n",
       "NAME_CONTRACT_STATUS       0.000000\n",
       "NAME_PAYMENT_TYPE          0.000000\n",
       "CODE_REJECT_REASON         0.000000\n",
       "NAME_CLIENT_TYPE           0.000000\n",
       "NAME_GOODS_CATEGORY        0.000000\n",
       "NAME_PORTFOLIO             0.000000\n",
       "NAME_PRODUCT_TYPE          0.000000\n",
       "CHANNEL_TYPE               0.000000\n",
       "SELLERPLACE_AREA           0.000000\n",
       "NAME_SELLER_INDUSTRY       0.000000\n",
       "CNT_PAYMENT               13.950667\n",
       "NAME_YIELD_GROUP           0.000000\n",
       "PRODUCT_COMBINATION        0.013411\n",
       "dtype: float64"
      ]
     },
     "execution_count": 135,
     "metadata": {},
     "output_type": "execute_result"
    }
   ],
   "source": [
    "# percentage of null values in each column\n",
    "(prev_app.isnull().sum())/1670214*100"
   ]
  },
  {
   "cell_type": "markdown",
   "id": "c935e983",
   "metadata": {},
   "source": [
    "### Data Cleaning"
   ]
  },
  {
   "cell_type": "markdown",
   "id": "e2ed93ce",
   "metadata": {},
   "source": [
    "**AMT_ANNUITY column**"
   ]
  },
  {
   "cell_type": "code",
   "execution_count": 136,
   "id": "afc5df3a",
   "metadata": {},
   "outputs": [
    {
     "data": {
      "text/plain": [
       "233009"
      ]
     },
     "execution_count": 136,
     "metadata": {},
     "output_type": "execute_result"
    }
   ],
   "source": [
    "prev_app['AMT_ANNUITY'].isnull().sum()"
   ]
  },
  {
   "cell_type": "code",
   "execution_count": 137,
   "id": "6ac008a6",
   "metadata": {},
   "outputs": [],
   "source": [
    "# dropping the null records as guessing could lead to wrong analysis\n",
    "prev_app = prev_app[~prev_app['AMT_ANNUITY'].isnull()]"
   ]
  },
  {
   "cell_type": "code",
   "execution_count": 138,
   "id": "0a1d70c3",
   "metadata": {},
   "outputs": [
    {
     "data": {
      "text/plain": [
       "0"
      ]
     },
     "execution_count": 138,
     "metadata": {},
     "output_type": "execute_result"
    }
   ],
   "source": [
    "prev_app['AMT_ANNUITY'].isnull().sum()"
   ]
  },
  {
   "cell_type": "markdown",
   "id": "72595683",
   "metadata": {},
   "source": [
    "**AMT_GOODS_PRICE column**"
   ]
  },
  {
   "cell_type": "code",
   "execution_count": 139,
   "id": "a05e0a16",
   "metadata": {},
   "outputs": [
    {
     "data": {
      "text/plain": [
       "32278"
      ]
     },
     "execution_count": 139,
     "metadata": {},
     "output_type": "execute_result"
    }
   ],
   "source": [
    "prev_app['AMT_GOODS_PRICE'].isnull().sum()"
   ]
  },
  {
   "cell_type": "code",
   "execution_count": 140,
   "id": "75864c80",
   "metadata": {},
   "outputs": [],
   "source": [
    "#dropping the null records as guessing could lead to wrong analysis\n",
    "prev_app = prev_app[~prev_app['AMT_GOODS_PRICE'].isnull()]"
   ]
  },
  {
   "cell_type": "code",
   "execution_count": 141,
   "id": "bd562bc1",
   "metadata": {},
   "outputs": [
    {
     "data": {
      "text/plain": [
       "0"
      ]
     },
     "execution_count": 141,
     "metadata": {},
     "output_type": "execute_result"
    }
   ],
   "source": [
    "prev_app['AMT_GOODS_PRICE'].isnull().sum()"
   ]
  },
  {
   "cell_type": "markdown",
   "id": "390e8dca",
   "metadata": {},
   "source": [
    "**CNT_PAYMEN column**"
   ]
  },
  {
   "cell_type": "code",
   "execution_count": 142,
   "id": "0f1585e6",
   "metadata": {},
   "outputs": [
    {
     "data": {
      "text/plain": [
       "0"
      ]
     },
     "execution_count": 142,
     "metadata": {},
     "output_type": "execute_result"
    }
   ],
   "source": [
    "prev_app['CNT_PAYMENT'].isnull().sum()"
   ]
  },
  {
   "cell_type": "markdown",
   "id": "f9b6af0b",
   "metadata": {},
   "source": [
    "**PRODUCT_COMBINATION column**"
   ]
  },
  {
   "cell_type": "code",
   "execution_count": 143,
   "id": "f38f8b34",
   "metadata": {},
   "outputs": [
    {
     "data": {
      "text/plain": [
       "0"
      ]
     },
     "execution_count": 143,
     "metadata": {},
     "output_type": "execute_result"
    }
   ],
   "source": [
    "prev_app['PRODUCT_COMBINATION'].isnull().sum()"
   ]
  },
  {
   "cell_type": "code",
   "execution_count": 144,
   "id": "6a84933c",
   "metadata": {},
   "outputs": [
    {
     "data": {
      "text/plain": [
       "SK_ID_PREV                0\n",
       "SK_ID_CURR                0\n",
       "NAME_CONTRACT_TYPE        0\n",
       "AMT_ANNUITY               0\n",
       "AMT_APPLICATION           0\n",
       "AMT_CREDIT                0\n",
       "AMT_GOODS_PRICE           0\n",
       "NAME_CASH_LOAN_PURPOSE    0\n",
       "NAME_CONTRACT_STATUS      0\n",
       "NAME_PAYMENT_TYPE         0\n",
       "CODE_REJECT_REASON        0\n",
       "NAME_CLIENT_TYPE          0\n",
       "NAME_GOODS_CATEGORY       0\n",
       "NAME_PORTFOLIO            0\n",
       "NAME_PRODUCT_TYPE         0\n",
       "CHANNEL_TYPE              0\n",
       "SELLERPLACE_AREA          0\n",
       "NAME_SELLER_INDUSTRY      0\n",
       "CNT_PAYMENT               0\n",
       "NAME_YIELD_GROUP          0\n",
       "PRODUCT_COMBINATION       0\n",
       "dtype: int64"
      ]
     },
     "execution_count": 144,
     "metadata": {},
     "output_type": "execute_result"
    }
   ],
   "source": [
    "#looking fornull values\n",
    "prev_app.isnull().sum()"
   ]
  },
  {
   "cell_type": "markdown",
   "id": "88c2b645",
   "metadata": {},
   "source": [
    "### Fixing columns/Outliers"
   ]
  },
  {
   "cell_type": "markdown",
   "id": "bfc3adbe",
   "metadata": {},
   "source": [
    "**NAME_CONTRACT_TYPE**"
   ]
  },
  {
   "cell_type": "code",
   "execution_count": 145,
   "id": "fe69dda9",
   "metadata": {},
   "outputs": [
    {
     "data": {
      "text/plain": [
       "Consumer loans     437122\n",
       "Cash loans         287509\n",
       "Revolving loans     58657\n",
       "Name: NAME_CONTRACT_TYPE, dtype: int64"
      ]
     },
     "execution_count": 145,
     "metadata": {},
     "output_type": "execute_result"
    }
   ],
   "source": [
    "prev_app['NAME_CONTRACT_TYPE'].value_counts()\n",
    "\n",
    "# No fixing required"
   ]
  },
  {
   "cell_type": "markdown",
   "id": "647b62c8",
   "metadata": {},
   "source": [
    "**NAME_CASH_LOAN_PURPOSE**"
   ]
  },
  {
   "cell_type": "code",
   "execution_count": 146,
   "id": "a159fe6e",
   "metadata": {},
   "outputs": [
    {
     "data": {
      "text/plain": [
       "XAP                                 495779\n",
       "XNA                                 244333\n",
       "Repairs                              14724\n",
       "Other                                 9595\n",
       "Urgent needs                          5304\n",
       "Buying a used car                     1773\n",
       "Building a house or an annex          1682\n",
       "Everyday expenses                     1479\n",
       "Medicine                              1396\n",
       "Payments on other loans               1206\n",
       "Education                              970\n",
       "Journey                                743\n",
       "Purchase of electronic equipment       639\n",
       "Buying a new car                       633\n",
       "Wedding / gift / holiday               589\n",
       "Buying a home                          546\n",
       "Car repairs                            493\n",
       "Furniture                              475\n",
       "Buying a holiday home / land           334\n",
       "Business development                   253\n",
       "Gasification / water supply            203\n",
       "Buying a garage                         84\n",
       "Hobby                                   31\n",
       "Money for a third person                16\n",
       "Refusal to name the goal                 8\n",
       "Name: NAME_CASH_LOAN_PURPOSE, dtype: int64"
      ]
     },
     "execution_count": 146,
     "metadata": {},
     "output_type": "execute_result"
    }
   ],
   "source": [
    "prev_app['NAME_CASH_LOAN_PURPOSE'].value_counts()"
   ]
  },
  {
   "cell_type": "code",
   "execution_count": 147,
   "id": "6cb902d1",
   "metadata": {},
   "outputs": [],
   "source": [
    "# replacing XNA,XAP with unknown for better understanding\n",
    "prev_app['NAME_CASH_LOAN_PURPOSE'] = prev_app['NAME_CASH_LOAN_PURPOSE'].replace(['XNA','XAP'],'Unknown')"
   ]
  },
  {
   "cell_type": "code",
   "execution_count": 148,
   "id": "afc80899",
   "metadata": {},
   "outputs": [
    {
     "data": {
      "text/plain": [
       "Unknown                             740112\n",
       "Repairs                              14724\n",
       "Other                                 9595\n",
       "Urgent needs                          5304\n",
       "Buying a used car                     1773\n",
       "Building a house or an annex          1682\n",
       "Everyday expenses                     1479\n",
       "Medicine                              1396\n",
       "Payments on other loans               1206\n",
       "Education                              970\n",
       "Journey                                743\n",
       "Purchase of electronic equipment       639\n",
       "Buying a new car                       633\n",
       "Wedding / gift / holiday               589\n",
       "Buying a home                          546\n",
       "Car repairs                            493\n",
       "Furniture                              475\n",
       "Buying a holiday home / land           334\n",
       "Business development                   253\n",
       "Gasification / water supply            203\n",
       "Buying a garage                         84\n",
       "Hobby                                   31\n",
       "Money for a third person                16\n",
       "Refusal to name the goal                 8\n",
       "Name: NAME_CASH_LOAN_PURPOSE, dtype: int64"
      ]
     },
     "execution_count": 148,
     "metadata": {},
     "output_type": "execute_result"
    }
   ],
   "source": [
    "prev_app['NAME_CASH_LOAN_PURPOSE'].value_counts()"
   ]
  },
  {
   "cell_type": "markdown",
   "id": "7961e902",
   "metadata": {},
   "source": [
    "**NAME_CONTRACT_STATUS column**"
   ]
  },
  {
   "cell_type": "code",
   "execution_count": 149,
   "id": "1a54f4e5",
   "metadata": {},
   "outputs": [
    {
     "data": {
      "text/plain": [
       "Approved        625749\n",
       "Refused         150891\n",
       "Canceled          6067\n",
       "Unused offer       581\n",
       "Name: NAME_CONTRACT_STATUS, dtype: int64"
      ]
     },
     "execution_count": 149,
     "metadata": {},
     "output_type": "execute_result"
    }
   ],
   "source": [
    "prev_app['NAME_CONTRACT_STATUS'].value_counts()\n",
    "\n",
    "# no fixing required"
   ]
  },
  {
   "cell_type": "markdown",
   "id": "9477f735",
   "metadata": {},
   "source": [
    "**NAME_PAYMENT_TYPE**"
   ]
  },
  {
   "cell_type": "code",
   "execution_count": 150,
   "id": "d64d030d",
   "metadata": {},
   "outputs": [
    {
     "data": {
      "text/plain": [
       "Cash through the bank                        627374\n",
       "XNA                                          150055\n",
       "Non-cash from your account                     5190\n",
       "Cashless from the account of the employer       669\n",
       "Name: NAME_PAYMENT_TYPE, dtype: int64"
      ]
     },
     "execution_count": 150,
     "metadata": {},
     "output_type": "execute_result"
    }
   ],
   "source": [
    "prev_app['NAME_PAYMENT_TYPE'].value_counts()"
   ]
  },
  {
   "cell_type": "code",
   "execution_count": 151,
   "id": "f3e7e6b3",
   "metadata": {},
   "outputs": [],
   "source": [
    "# replacing XNA with unknown for better understanding\n",
    "prev_app['NAME_PAYMENT_TYPE'] = prev_app['NAME_PAYMENT_TYPE'].replace('XNA','Unknown')"
   ]
  },
  {
   "cell_type": "code",
   "execution_count": 152,
   "id": "450a5a0c",
   "metadata": {},
   "outputs": [
    {
     "data": {
      "text/plain": [
       "Cash through the bank                        627374\n",
       "Unknown                                      150055\n",
       "Non-cash from your account                     5190\n",
       "Cashless from the account of the employer       669\n",
       "Name: NAME_PAYMENT_TYPE, dtype: int64"
      ]
     },
     "execution_count": 152,
     "metadata": {},
     "output_type": "execute_result"
    }
   ],
   "source": [
    "prev_app['NAME_PAYMENT_TYPE'].value_counts()"
   ]
  },
  {
   "cell_type": "markdown",
   "id": "ec346581",
   "metadata": {},
   "source": [
    "**CODE_REJECT_REASON**"
   ]
  },
  {
   "cell_type": "code",
   "execution_count": 153,
   "id": "c17cf518",
   "metadata": {},
   "outputs": [
    {
     "data": {
      "text/plain": [
       "XAP       631810\n",
       "HC         88685\n",
       "LIMIT      31664\n",
       "SCO        21922\n",
       "SCOFR       5108\n",
       "VERIF       2081\n",
       "XNA         1422\n",
       "CLIENT       581\n",
       "SYSTEM        15\n",
       "Name: CODE_REJECT_REASON, dtype: int64"
      ]
     },
     "execution_count": 153,
     "metadata": {},
     "output_type": "execute_result"
    }
   ],
   "source": [
    "prev_app['CODE_REJECT_REASON'].value_counts()"
   ]
  },
  {
   "cell_type": "code",
   "execution_count": 154,
   "id": "fe2ebea2",
   "metadata": {},
   "outputs": [],
   "source": [
    "# Replacing XAP,XNA with Others for better understanding\n",
    "prev_app['CODE_REJECT_REASON'] = prev_app['CODE_REJECT_REASON'].replace(['XAP','XNA'],'Others')"
   ]
  },
  {
   "cell_type": "code",
   "execution_count": 155,
   "id": "9f7e4936",
   "metadata": {},
   "outputs": [
    {
     "data": {
      "text/plain": [
       "Others    633232\n",
       "HC         88685\n",
       "LIMIT      31664\n",
       "SCO        21922\n",
       "SCOFR       5108\n",
       "VERIF       2081\n",
       "CLIENT       581\n",
       "SYSTEM        15\n",
       "Name: CODE_REJECT_REASON, dtype: int64"
      ]
     },
     "execution_count": 155,
     "metadata": {},
     "output_type": "execute_result"
    }
   ],
   "source": [
    "prev_app['CODE_REJECT_REASON'].value_counts()"
   ]
  },
  {
   "cell_type": "markdown",
   "id": "c2ba7920",
   "metadata": {},
   "source": [
    "**NAME_CLIENT_TYPE**"
   ]
  },
  {
   "cell_type": "code",
   "execution_count": 156,
   "id": "806cdac3",
   "metadata": {
    "scrolled": true
   },
   "outputs": [
    {
     "data": {
      "text/plain": [
       "Repeater     529590\n",
       "New          185614\n",
       "Refreshed     67534\n",
       "XNA             550\n",
       "Name: NAME_CLIENT_TYPE, dtype: int64"
      ]
     },
     "execution_count": 156,
     "metadata": {},
     "output_type": "execute_result"
    }
   ],
   "source": [
    "prev_app['NAME_CLIENT_TYPE'].value_counts()"
   ]
  },
  {
   "cell_type": "code",
   "execution_count": 157,
   "id": "7ce60e86",
   "metadata": {},
   "outputs": [],
   "source": [
    "# replacing XNA with others\n",
    "prev_app['NAME_CLIENT_TYPE'] = prev_app['NAME_CLIENT_TYPE'].replace('XNA','Others')"
   ]
  },
  {
   "cell_type": "code",
   "execution_count": 158,
   "id": "1dad72bf",
   "metadata": {},
   "outputs": [
    {
     "data": {
      "text/plain": [
       "Repeater     529590\n",
       "New          185614\n",
       "Refreshed     67534\n",
       "Others          550\n",
       "Name: NAME_CLIENT_TYPE, dtype: int64"
      ]
     },
     "execution_count": 158,
     "metadata": {},
     "output_type": "execute_result"
    }
   ],
   "source": [
    "prev_app['NAME_CLIENT_TYPE'].value_counts()"
   ]
  },
  {
   "cell_type": "markdown",
   "id": "e1d7378e",
   "metadata": {},
   "source": [
    "**NAME_PORTFOLIO**"
   ]
  },
  {
   "cell_type": "code",
   "execution_count": 159,
   "id": "3c2dd49e",
   "metadata": {},
   "outputs": [
    {
     "data": {
      "text/plain": [
       "POS      436843\n",
       "Cash     287509\n",
       "Cards     58657\n",
       "Cars        279\n",
       "Name: NAME_PORTFOLIO, dtype: int64"
      ]
     },
     "execution_count": 159,
     "metadata": {},
     "output_type": "execute_result"
    }
   ],
   "source": [
    "prev_app['NAME_PORTFOLIO'].value_counts()\n",
    "\n",
    "# No fixing required"
   ]
  },
  {
   "cell_type": "markdown",
   "id": "92c0323b",
   "metadata": {},
   "source": [
    "**CHANNEL_TYPE**"
   ]
  },
  {
   "cell_type": "code",
   "execution_count": 160,
   "id": "55ba3422",
   "metadata": {},
   "outputs": [
    {
     "data": {
      "text/plain": [
       "Country-wide                  283007\n",
       "Credit and cash offices       247497\n",
       "Stone                         131403\n",
       "Regional / Local               66993\n",
       "AP+ (Cash loan)                29831\n",
       "Contact center                 20410\n",
       "Channel of corporate sales      3852\n",
       "Car dealer                       295\n",
       "Name: CHANNEL_TYPE, dtype: int64"
      ]
     },
     "execution_count": 160,
     "metadata": {},
     "output_type": "execute_result"
    }
   ],
   "source": [
    "prev_app['CHANNEL_TYPE'].value_counts()"
   ]
  },
  {
   "cell_type": "markdown",
   "id": "e09b57d6",
   "metadata": {},
   "source": [
    "**NAME_YIELD_GROUP**"
   ]
  },
  {
   "cell_type": "code",
   "execution_count": 161,
   "id": "e8c74173",
   "metadata": {},
   "outputs": [
    {
     "data": {
      "text/plain": [
       "middle        242327\n",
       "high          221898\n",
       "low_normal    202206\n",
       "XNA            58657\n",
       "low_action     58200\n",
       "Name: NAME_YIELD_GROUP, dtype: int64"
      ]
     },
     "execution_count": 161,
     "metadata": {},
     "output_type": "execute_result"
    }
   ],
   "source": [
    "prev_app['NAME_YIELD_GROUP'].value_counts()"
   ]
  },
  {
   "cell_type": "code",
   "execution_count": 162,
   "id": "1345b83d",
   "metadata": {},
   "outputs": [],
   "source": [
    "# replacing XNA with unknown\n",
    "prev_app['NAME_YIELD_GROUP'] = prev_app['NAME_YIELD_GROUP'].replace('XNA','unknown')"
   ]
  },
  {
   "cell_type": "markdown",
   "id": "e0559463",
   "metadata": {},
   "source": [
    "## Univariate Analysis"
   ]
  },
  {
   "cell_type": "code",
   "execution_count": 163,
   "id": "e93facce",
   "metadata": {},
   "outputs": [
    {
     "data": {
      "text/html": [
       "<div>\n",
       "<style scoped>\n",
       "    .dataframe tbody tr th:only-of-type {\n",
       "        vertical-align: middle;\n",
       "    }\n",
       "\n",
       "    .dataframe tbody tr th {\n",
       "        vertical-align: top;\n",
       "    }\n",
       "\n",
       "    .dataframe thead th {\n",
       "        text-align: right;\n",
       "    }\n",
       "</style>\n",
       "<table border=\"1\" class=\"dataframe\">\n",
       "  <thead>\n",
       "    <tr style=\"text-align: right;\">\n",
       "      <th></th>\n",
       "      <th>SK_ID_CURR</th>\n",
       "      <th>TARGET</th>\n",
       "      <th>NAME_CONTRACT_TYPE_x</th>\n",
       "      <th>CODE_GENDER</th>\n",
       "      <th>FLAG_OWN_CAR</th>\n",
       "      <th>FLAG_OWN_REALTY</th>\n",
       "      <th>CNT_CHILDREN</th>\n",
       "      <th>AMT_INCOME_TOTAL</th>\n",
       "      <th>AMT_CREDIT_x</th>\n",
       "      <th>AMT_ANNUITY_x</th>\n",
       "      <th>...</th>\n",
       "      <th>NAME_CLIENT_TYPE</th>\n",
       "      <th>NAME_GOODS_CATEGORY</th>\n",
       "      <th>NAME_PORTFOLIO</th>\n",
       "      <th>NAME_PRODUCT_TYPE</th>\n",
       "      <th>CHANNEL_TYPE</th>\n",
       "      <th>SELLERPLACE_AREA</th>\n",
       "      <th>NAME_SELLER_INDUSTRY</th>\n",
       "      <th>CNT_PAYMENT</th>\n",
       "      <th>NAME_YIELD_GROUP</th>\n",
       "      <th>PRODUCT_COMBINATION</th>\n",
       "    </tr>\n",
       "  </thead>\n",
       "  <tbody>\n",
       "    <tr>\n",
       "      <th>0</th>\n",
       "      <td>100002</td>\n",
       "      <td>1</td>\n",
       "      <td>Cash loans</td>\n",
       "      <td>M</td>\n",
       "      <td>N</td>\n",
       "      <td>Y</td>\n",
       "      <td>0</td>\n",
       "      <td>202500.0</td>\n",
       "      <td>406597.5</td>\n",
       "      <td>24700.5</td>\n",
       "      <td>...</td>\n",
       "      <td>New</td>\n",
       "      <td>Vehicles</td>\n",
       "      <td>POS</td>\n",
       "      <td>XNA</td>\n",
       "      <td>Stone</td>\n",
       "      <td>500.0</td>\n",
       "      <td>Auto technology</td>\n",
       "      <td>24.0</td>\n",
       "      <td>low_normal</td>\n",
       "      <td>POS other with interest</td>\n",
       "    </tr>\n",
       "    <tr>\n",
       "      <th>1</th>\n",
       "      <td>100031</td>\n",
       "      <td>1</td>\n",
       "      <td>Cash loans</td>\n",
       "      <td>F</td>\n",
       "      <td>N</td>\n",
       "      <td>Y</td>\n",
       "      <td>0</td>\n",
       "      <td>112500.0</td>\n",
       "      <td>979992.0</td>\n",
       "      <td>27076.5</td>\n",
       "      <td>...</td>\n",
       "      <td>NaN</td>\n",
       "      <td>NaN</td>\n",
       "      <td>NaN</td>\n",
       "      <td>NaN</td>\n",
       "      <td>NaN</td>\n",
       "      <td>NaN</td>\n",
       "      <td>NaN</td>\n",
       "      <td>NaN</td>\n",
       "      <td>NaN</td>\n",
       "      <td>NaN</td>\n",
       "    </tr>\n",
       "    <tr>\n",
       "      <th>2</th>\n",
       "      <td>100047</td>\n",
       "      <td>1</td>\n",
       "      <td>Cash loans</td>\n",
       "      <td>M</td>\n",
       "      <td>N</td>\n",
       "      <td>Y</td>\n",
       "      <td>0</td>\n",
       "      <td>202500.0</td>\n",
       "      <td>1193580.0</td>\n",
       "      <td>35028.0</td>\n",
       "      <td>...</td>\n",
       "      <td>Refreshed</td>\n",
       "      <td>XNA</td>\n",
       "      <td>Cash</td>\n",
       "      <td>x-sell</td>\n",
       "      <td>Credit and cash offices</td>\n",
       "      <td>-1.0</td>\n",
       "      <td>XNA</td>\n",
       "      <td>24.0</td>\n",
       "      <td>high</td>\n",
       "      <td>Cash X-Sell: high</td>\n",
       "    </tr>\n",
       "    <tr>\n",
       "      <th>3</th>\n",
       "      <td>100047</td>\n",
       "      <td>1</td>\n",
       "      <td>Cash loans</td>\n",
       "      <td>M</td>\n",
       "      <td>N</td>\n",
       "      <td>Y</td>\n",
       "      <td>0</td>\n",
       "      <td>202500.0</td>\n",
       "      <td>1193580.0</td>\n",
       "      <td>35028.0</td>\n",
       "      <td>...</td>\n",
       "      <td>Repeater</td>\n",
       "      <td>XNA</td>\n",
       "      <td>Cash</td>\n",
       "      <td>walk-in</td>\n",
       "      <td>Credit and cash offices</td>\n",
       "      <td>-1.0</td>\n",
       "      <td>XNA</td>\n",
       "      <td>36.0</td>\n",
       "      <td>low_normal</td>\n",
       "      <td>Cash Street: low</td>\n",
       "    </tr>\n",
       "    <tr>\n",
       "      <th>4</th>\n",
       "      <td>100047</td>\n",
       "      <td>1</td>\n",
       "      <td>Cash loans</td>\n",
       "      <td>M</td>\n",
       "      <td>N</td>\n",
       "      <td>Y</td>\n",
       "      <td>0</td>\n",
       "      <td>202500.0</td>\n",
       "      <td>1193580.0</td>\n",
       "      <td>35028.0</td>\n",
       "      <td>...</td>\n",
       "      <td>New</td>\n",
       "      <td>Photo / Cinema Equipment</td>\n",
       "      <td>POS</td>\n",
       "      <td>XNA</td>\n",
       "      <td>Country-wide</td>\n",
       "      <td>27.0</td>\n",
       "      <td>Connectivity</td>\n",
       "      <td>10.0</td>\n",
       "      <td>low_normal</td>\n",
       "      <td>POS mobile with interest</td>\n",
       "    </tr>\n",
       "  </tbody>\n",
       "</table>\n",
       "<p>5 rows × 49 columns</p>\n",
       "</div>"
      ],
      "text/plain": [
       "   SK_ID_CURR  TARGET NAME_CONTRACT_TYPE_x CODE_GENDER FLAG_OWN_CAR  \\\n",
       "0      100002       1           Cash loans           M            N   \n",
       "1      100031       1           Cash loans           F            N   \n",
       "2      100047       1           Cash loans           M            N   \n",
       "3      100047       1           Cash loans           M            N   \n",
       "4      100047       1           Cash loans           M            N   \n",
       "\n",
       "  FLAG_OWN_REALTY  CNT_CHILDREN  AMT_INCOME_TOTAL  AMT_CREDIT_x  \\\n",
       "0               Y             0          202500.0      406597.5   \n",
       "1               Y             0          112500.0      979992.0   \n",
       "2               Y             0          202500.0     1193580.0   \n",
       "3               Y             0          202500.0     1193580.0   \n",
       "4               Y             0          202500.0     1193580.0   \n",
       "\n",
       "   AMT_ANNUITY_x  ...  NAME_CLIENT_TYPE       NAME_GOODS_CATEGORY  \\\n",
       "0        24700.5  ...               New                  Vehicles   \n",
       "1        27076.5  ...               NaN                       NaN   \n",
       "2        35028.0  ...         Refreshed                       XNA   \n",
       "3        35028.0  ...          Repeater                       XNA   \n",
       "4        35028.0  ...               New  Photo / Cinema Equipment   \n",
       "\n",
       "  NAME_PORTFOLIO NAME_PRODUCT_TYPE             CHANNEL_TYPE SELLERPLACE_AREA  \\\n",
       "0            POS               XNA                    Stone            500.0   \n",
       "1            NaN               NaN                      NaN              NaN   \n",
       "2           Cash            x-sell  Credit and cash offices             -1.0   \n",
       "3           Cash           walk-in  Credit and cash offices             -1.0   \n",
       "4            POS               XNA             Country-wide             27.0   \n",
       "\n",
       "   NAME_SELLER_INDUSTRY CNT_PAYMENT NAME_YIELD_GROUP       PRODUCT_COMBINATION  \n",
       "0       Auto technology        24.0       low_normal   POS other with interest  \n",
       "1                   NaN         NaN              NaN                       NaN  \n",
       "2                   XNA        24.0             high         Cash X-Sell: high  \n",
       "3                   XNA        36.0       low_normal          Cash Street: low  \n",
       "4          Connectivity        10.0       low_normal  POS mobile with interest  \n",
       "\n",
       "[5 rows x 49 columns]"
      ]
     },
     "execution_count": 163,
     "metadata": {},
     "output_type": "execute_result"
    }
   ],
   "source": [
    "# merging defaulter client (app_1) with previous_application data\n",
    "inp1 = pd.merge(left=app_1,right=prev_app, how='left', left_on='SK_ID_CURR', right_on='SK_ID_CURR')\n",
    "inp1.head()\n"
   ]
  },
  {
   "cell_type": "code",
   "execution_count": 164,
   "id": "b2bc0540",
   "metadata": {},
   "outputs": [],
   "source": [
    "# merging non-defaulter client (app_0) with previous_application data\n",
    "inp2 = pd.merge(left=app_0,right=prev_app, how='left', left_on='SK_ID_CURR', right_on='SK_ID_CURR')\n"
   ]
  },
  {
   "cell_type": "markdown",
   "id": "5f3577e8",
   "metadata": {},
   "source": [
    "**NAME_CASH_LOAN_PURPOSE**"
   ]
  },
  {
   "cell_type": "code",
   "execution_count": 165,
   "id": "df261525",
   "metadata": {},
   "outputs": [
    {
     "data": {
      "image/png": "[encoded data removed]",
      "text/plain": [
       "<Figure size 648x432 with 1 Axes>"
      ]
     },
     "metadata": {
      "needs_background": "light"
     },
     "output_type": "display_data"
    }
   ],
   "source": [
    "plt.figure(figsize=(9,6))\n",
    "prev_app[~(prev_app.NAME_CASH_LOAN_PURPOSE=='Unknown')].NAME_CASH_LOAN_PURPOSE.value_counts().plot.bar()\n",
    "plt.title(\"Loan Purpose\")\n",
    "plt.xlabel(\"Purpose\")\n",
    "plt.ylabel(\"Count\")\n",
    "plt.show()"
   ]
  },
  {
   "cell_type": "markdown",
   "id": "74c4d5b5",
   "metadata": {},
   "source": [
    "- Most of the loans has been taken for Repairs work"
   ]
  },
  {
   "cell_type": "markdown",
   "id": "76760130",
   "metadata": {},
   "source": [
    "**NAME_CONTRACT_TYPE**"
   ]
  },
  {
   "cell_type": "code",
   "execution_count": 166,
   "id": "fd845bf4",
   "metadata": {},
   "outputs": [
    {
     "data": {
      "image/png": "[encoded data removed]",
      "text/plain": [
       "<Figure size 432x288 with 1 Axes>"
      ]
     },
     "metadata": {
      "needs_background": "light"
     },
     "output_type": "display_data"
    }
   ],
   "source": [
    "prev_app['NAME_CONTRACT_TYPE'].value_counts().plot.bar()\n",
    "plt.show()"
   ]
  },
  {
   "cell_type": "markdown",
   "id": "2312796d",
   "metadata": {},
   "source": [
    "- majority of people opted for Consumer loans"
   ]
  },
  {
   "cell_type": "markdown",
   "id": "8d5de92c",
   "metadata": {},
   "source": [
    "**CODE_REJECT_REASON**"
   ]
  },
  {
   "cell_type": "code",
   "execution_count": 167,
   "id": "1fc8a641",
   "metadata": {},
   "outputs": [
    {
     "data": {
      "image/png": "[encoded data removed]",
      "text/plain": [
       "<Figure size 1080x288 with 2 Axes>"
      ]
     },
     "metadata": {
      "needs_background": "light"
     },
     "output_type": "display_data"
    }
   ],
   "source": [
    "plt.figure(figsize=(15,4))\n",
    "plt.subplot(1,2,1)\n",
    "plt.title(\"Normal Case\")\n",
    "plt.xlabel(\"Count\")\n",
    "plt.ylabel(\"Reject Reason\")\n",
    "inp2[~(inp2.CODE_REJECT_REASON=='Others')].CODE_REJECT_REASON.value_counts(normalize=True).plot.barh()\n",
    "\n",
    "plt.subplot(1,2,2)\n",
    "plt.title(\"Defaulter Case\")\n",
    "plt.xlabel(\"Count\")\n",
    "plt.ylabel(\"Reject Reason\")\n",
    "inp1[~(inp1.CODE_REJECT_REASON=='Others')].CODE_REJECT_REASON.value_counts(normalize=True).plot.barh()\n",
    "\n",
    "plt.show()"
   ]
  },
  {
   "cell_type": "markdown",
   "id": "cf3fd0ee",
   "metadata": {},
   "source": [
    "- Majority of the loans are rejected due to HC and majority of the defaulters also belong to that group"
   ]
  },
  {
   "cell_type": "markdown",
   "id": "4d9eccd3",
   "metadata": {},
   "source": [
    "**NAME_CLIENT_TYPE**"
   ]
  },
  {
   "cell_type": "code",
   "execution_count": 168,
   "id": "70849391",
   "metadata": {},
   "outputs": [
    {
     "data": {
      "image/png": "[encoded data removed]",
      "text/plain": [
       "<Figure size 936x288 with 2 Axes>"
      ]
     },
     "metadata": {
      "needs_background": "light"
     },
     "output_type": "display_data"
    }
   ],
   "source": [
    "plt.figure(figsize=(13,4))\n",
    "plt.subplot(1,2,1)\n",
    "plt.title(\"Normal Case\")\n",
    "plt.xlabel(\"Client Type\")\n",
    "plt.ylabel(\"Count\")\n",
    "inp2[~(inp2.NAME_CLIENT_TYPE=='Others')].NAME_CLIENT_TYPE.value_counts().plot.bar()\n",
    "\n",
    "plt.subplot(1,2,2)\n",
    "plt.title(\"Defaulter Case\")\n",
    "plt.xlabel(\"Client Type\")\n",
    "plt.ylabel(\"Count\")\n",
    "inp1[~(inp1.NAME_CLIENT_TYPE=='Others')].NAME_CLIENT_TYPE.value_counts().plot.bar()\n",
    "\n",
    "plt.show()"
   ]
  },
  {
   "cell_type": "markdown",
   "id": "a746fb6a",
   "metadata": {},
   "source": [
    "- majority of the clients who apply for the loan are repeater but they are also highest defaulter."
   ]
  },
  {
   "cell_type": "markdown",
   "id": "dcf6cf0f",
   "metadata": {},
   "source": [
    "**NAME_PORTFOLIO**"
   ]
  },
  {
   "cell_type": "code",
   "execution_count": 169,
   "id": "030c9cbd",
   "metadata": {},
   "outputs": [
    {
     "data": {
      "image/png": "[encoded data removed]",
      "text/plain": [
       "<Figure size 432x288 with 1 Axes>"
      ]
     },
     "metadata": {
      "needs_background": "light"
     },
     "output_type": "display_data"
    }
   ],
   "source": [
    "prev_app[~(prev_app.NAME_PORTFOLIO=='Cars')].NAME_PORTFOLIO.value_counts().plot.bar()\n",
    "plt.show()"
   ]
  },
  {
   "cell_type": "markdown",
   "id": "ea5b7a08",
   "metadata": {},
   "source": [
    "- Majority of portfolio is POS"
   ]
  },
  {
   "cell_type": "markdown",
   "id": "1ad224b5",
   "metadata": {},
   "source": [
    "**NAME_YIELD_GROUP**"
   ]
  },
  {
   "cell_type": "code",
   "execution_count": 170,
   "id": "21ab1557",
   "metadata": {},
   "outputs": [
    {
     "data": {
      "image/png": "[encoded data removed]",
      "text/plain": [
       "<Figure size 936x288 with 2 Axes>"
      ]
     },
     "metadata": {
      "needs_background": "light"
     },
     "output_type": "display_data"
    }
   ],
   "source": [
    "plt.figure(figsize=(13,4))\n",
    "plt.subplot(1,2,1)\n",
    "plt.title(\"Defaulter Case\")\n",
    "plt.xlabel(\"Yield Group\")\n",
    "plt.ylabel(\"Count\")\n",
    "inp1[~(inp1['NAME_YIELD_GROUP']=='unknown')].NAME_YIELD_GROUP.value_counts().plot.bar()\n",
    "\n",
    "plt.subplot(1,2,2)\n",
    "inp2[~(inp2['NAME_YIELD_GROUP']=='unknown')].NAME_YIELD_GROUP.value_counts().plot.bar()\n",
    "plt.title(\"Normal Case\")\n",
    "plt.xlabel(\"Yield Group\")\n",
    "plt.ylabel(\"Count\")\n",
    "plt.show()"
   ]
  },
  {
   "cell_type": "markdown",
   "id": "075c1cdd",
   "metadata": {},
   "source": [
    "- majority of the interest rate on which client take credit lies in middle category whereas many clients who defaults are from high interest rate category."
   ]
  },
  {
   "cell_type": "markdown",
   "id": "80d18301",
   "metadata": {},
   "source": [
    "___\n",
    "## Summary and Possible factors\n",
    "\n",
    "- The maximum number of clients who have `defaulted` had `Secondary education` followed by Higher education. May be clients with `Secondary education are paid low`. \n",
    "\n",
    "- Majority of the clients `defaulted` are `Labourers by profession` followed by Sales staff, least people belong to HR, may be HR employees are paid higher compared to other occupations.\n",
    "\n",
    "- majority of `defaulted clients opt/apply for cash loans`.\n",
    "\n",
    "- Majority of the `Defaulter clients are engaged with Business Entity Type3` followed by Self-Employed. This may be due non-fixed monthly income as their income is erratic they might have missed some payments. \n",
    "\n",
    "- Most of the `defaulter clients are **married**`. The family client may have other expenses to take care of which may lead to non-payment towards loan \n",
    "\n",
    "- Majority of the `defaulter own house` but they dont own a car, may be because the house owner need to pay good amount on their emi.\n",
    "\n",
    "- Majority of clients `living in Region_Rating of 2 are defaulters` and most of the non-defaulters too live in the same region.\n",
    "\n",
    "- Majority of the `defaulter earn between the range of 100k-200k`.\n",
    "\n",
    "- Majority of the `defaulter belong to age group 30-40`.\n",
    "\n",
    "- Most of the loans has been taken for Repairs work\n",
    "\n",
    "- Majority of the loans are rejected due to HC and majority of the defaulters also belong to that group\n",
    "\n",
    "- Majority of the `clients` who apply for the loan are `repeater` but they are also `highest defaulter`.\n",
    "\n",
    "- Majority of the interest rate on which client take credit lies in middle category whereas many `clients who defaults are from high interest rate category`.\n",
    "___\n",
    "\n",
    "### Major factors (red flags) to keep in mind\n",
    "\n",
    "\n",
    "    - Education      --> Secondary Education\n",
    "    - Profession     --> Labourers\n",
    "    - Age group      --> 30-40\n",
    "    - Earning        --> Between 100k-200k\n",
    "    - Loan Type      --> Cash Loan\n",
    "    - Business       --> Entity type 3\n",
    "    - Marital Status --> Married\n",
    "    - Liabilities    --> Own House, car and family responsibility\n",
    "    - Region_Rating  --> living in region_rating of 2\n",
    "    - Client Type    --> Repeater\n",
    "___\n"
   ]
  },
  {
   "cell_type": "markdown",
   "id": "c7534c72",
   "metadata": {},
   "source": [
    "                                                  **THE END** "
   ]
  },
  {
   "cell_type": "code",
   "execution_count": null,
   "id": "9350399e",
   "metadata": {},
   "outputs": [],
   "source": []
  }
 ],
 "metadata": {
  "kernelspec": {
   "display_name": "Python 3",
   "language": "python",
   "name": "python3"
  },
  "language_info": {
   "codemirror_mode": {
    "name": "ipython",
    "version": 3
   },
   "file_extension": ".py",
   "mimetype": "text/x-python",
   "name": "python",
   "nbconvert_exporter": "python",
   "pygments_lexer": "ipython3",
   "version": "3.8.8"
  }
 },
 "nbformat": 4,
 "nbformat_minor": 5
}
